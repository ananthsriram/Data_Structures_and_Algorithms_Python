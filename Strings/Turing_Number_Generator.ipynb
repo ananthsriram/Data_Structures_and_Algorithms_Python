{
 "cells": [
  {
   "cell_type": "markdown",
   "id": "98214c2d",
   "metadata": {},
   "source": [
    "A digit-only keyboard contains all 10 digits from 0 to 9. They all exist in one line.\n",
    "\n",
    "Given a string of 10 digits illustrating how the keys are positioned. To type a digit, you start from index zero to the index of the target digit. It takes |a-b| milliseconds to move from index a to index b.\n",
    "\n",
    "Write a function to calculate the number of milliseconds needed to type a number with one finger\n"
   ]
  },
  {
   "cell_type": "markdown",
   "id": "c67726b3",
   "metadata": {},
   "source": [
    "## Example 1\n",
    "\n",
    "__Input__ : \n",
    "\n",
    "digits = '0123456789'  \n",
    "num = '210'  \n",
    "\n",
    "__Output__ : 4"
   ]
  },
  {
   "cell_type": "markdown",
   "id": "8b3949dc",
   "metadata": {},
   "source": [
    "## Example 2\n",
    "\n",
    "__Input__ : \n",
    "\n",
    "digits = '8459761203'  \n",
    "num = '5439'  \n",
    "\n",
    "__Output__ : 17"
   ]
  },
  {
   "cell_type": "code",
   "execution_count": 4,
   "id": "c5c4c8e6",
   "metadata": {
    "ExecuteTime": {
     "end_time": "2022-11-25T15:46:49.933759Z",
     "start_time": "2022-11-25T15:46:49.931043Z"
    }
   },
   "outputs": [],
   "source": [
    "def solution(digits,num):\n",
    "    count = 1\n",
    "    sumi = 0\n",
    "    for i in num:\n",
    "        a = digits.find(i)\n",
    "        if count == 1:\n",
    "            sumi = sumi + a \n",
    "            count += 1\n",
    "        else:\n",
    "            time_diff = abs(a - prev_value_index)\n",
    "            sumi = sumi + time_diff\n",
    "        prev_value_index = a\n",
    "    return (sumi)    \n"
   ]
  },
  {
   "cell_type": "code",
   "execution_count": 5,
   "id": "8bb1eb52",
   "metadata": {
    "ExecuteTime": {
     "end_time": "2022-11-25T15:46:50.698035Z",
     "start_time": "2022-11-25T15:46:50.695738Z"
    }
   },
   "outputs": [
    {
     "name": "stdout",
     "output_type": "stream",
     "text": [
      "4\n"
     ]
    }
   ],
   "source": [
    "a = '0123456789'\n",
    "b = '210'\n",
    "output = solution(a,b)\n",
    "print (output)"
   ]
  },
  {
   "cell_type": "code",
   "execution_count": 6,
   "id": "2e489715",
   "metadata": {
    "ExecuteTime": {
     "end_time": "2022-11-25T15:46:51.283196Z",
     "start_time": "2022-11-25T15:46:51.280908Z"
    }
   },
   "outputs": [
    {
     "name": "stdout",
     "output_type": "stream",
     "text": [
      "17\n"
     ]
    }
   ],
   "source": [
    "a = '8459761203'\n",
    "b = '5439'\n",
    "output = solution(a,b)\n",
    "print (output)"
   ]
  },
  {
   "cell_type": "code",
   "execution_count": null,
   "id": "57ff735e",
   "metadata": {},
   "outputs": [],
   "source": []
  }
 ],
 "metadata": {
  "hide_input": false,
  "kernelspec": {
   "display_name": "Python 3 (ipykernel)",
   "language": "python",
   "name": "python3"
  },
  "language_info": {
   "codemirror_mode": {
    "name": "ipython",
    "version": 3
   },
   "file_extension": ".py",
   "mimetype": "text/x-python",
   "name": "python",
   "nbconvert_exporter": "python",
   "pygments_lexer": "ipython3",
   "version": "3.9.7"
  },
  "toc": {
   "base_numbering": 1,
   "nav_menu": {},
   "number_sections": false,
   "sideBar": true,
   "skip_h1_title": false,
   "title_cell": "Table of Contents",
   "title_sidebar": "Contents",
   "toc_cell": false,
   "toc_position": {},
   "toc_section_display": true,
   "toc_window_display": false
  },
  "varInspector": {
   "cols": {
    "lenName": 16,
    "lenType": 16,
    "lenVar": 40
   },
   "kernels_config": {
    "python": {
     "delete_cmd_postfix": "",
     "delete_cmd_prefix": "del ",
     "library": "var_list.py",
     "varRefreshCmd": "print(var_dic_list())"
    },
    "r": {
     "delete_cmd_postfix": ") ",
     "delete_cmd_prefix": "rm(",
     "library": "var_list.r",
     "varRefreshCmd": "cat(var_dic_list()) "
    }
   },
   "types_to_exclude": [
    "module",
    "function",
    "builtin_function_or_method",
    "instance",
    "_Feature"
   ],
   "window_display": false
  }
 },
 "nbformat": 4,
 "nbformat_minor": 5
}
