{
 "cells": [
  {
   "cell_type": "markdown",
   "id": "88e95380",
   "metadata": {},
   "source": [
    "Roman numerals are represented by seven different symbols: I, V, X, L, C, D and M.\n",
    "\n",
    "Symbol -->  Value  \n",
    "I --> 1  \n",
    "V --> 5  \n",
    "X --> 10  \n",
    "L --> 50  \n",
    "C --> 100  \n",
    "D --> 500  \n",
    "M --> 1000  \n",
    "\n",
    "\n",
    "For example, 2 is written as II in Roman numeral, just two ones added together. 12 is written as XII, which is simply X + II. The number 27 is written as XXVII, which is XX + V + II.\n",
    "\n",
    "Roman numerals are usually written largest to smallest from left to right. However, the numeral for four is not IIII. Instead, the number four is written as IV. Because the one is before the five we subtract it making four. The same principle applies to the number nine, which is written as IX. There are six instances where subtraction is used:\n",
    "\n",
    "I can be placed before V (5) and X (10) to make 4 and 9. \n",
    "X can be placed before L (50) and C (100) to make 40 and 90. \n",
    "C can be placed before D (500) and M (1000) to make 400 and 900.\n",
    "Given a roman numeral, convert it to an integer."
   ]
  },
  {
   "cell_type": "markdown",
   "id": "87ee6f47",
   "metadata": {},
   "source": [
    "## Example 1:\n",
    "\n",
    "__Input__: s = \"III\"  \n",
    "__Output__: 3  \n",
    "__Explanation__: III = 3\n",
    "\n",
    "\n",
    "## Example 2:\n",
    "\n",
    "__Input__: s = \"LVIII\"  \n",
    "__Output__: 58  \n",
    "__Explanation__: L = 50, V= 5, III = 3\n",
    "\n",
    "\n",
    "## Example 3:\n",
    "\n",
    "__Input__: s = \"MCMXCIV\"  \n",
    "__Output__: 1994  \n",
    "__Explanation__: M = 1000, CM = 900, XC = 90 and IV = 4"
   ]
  },
  {
   "cell_type": "code",
   "execution_count": 1,
   "id": "7f89091a",
   "metadata": {
    "ExecuteTime": {
     "end_time": "2022-10-15T09:13:17.277311Z",
     "start_time": "2022-10-15T09:13:17.273940Z"
    }
   },
   "outputs": [],
   "source": [
    "values = {\n",
    "    \"I\": 1,\n",
    "    \"V\": 5,\n",
    "    \"X\": 10,\n",
    "    \"L\": 50,\n",
    "    \"C\": 100,\n",
    "    \"D\": 500,\n",
    "    \"M\": 1000,\n",
    "}\n",
    "\n",
    "class Solution:\n",
    "    def romanToInt(self, s):\n",
    "        total = 0\n",
    "        i = 0\n",
    "        while i < len(s):\n",
    "            # If this is the subtractive case.\n",
    "            if i + 1 < len(s) and values[s[i]] < values[s[i + 1]]:\n",
    "                total += values[s[i + 1]] - values[s[i]]\n",
    "                i += 2\n",
    "            # Else this is NOT the subtractive case.\n",
    "            else:\n",
    "                total += values[s[i]]\n",
    "                i += 1\n",
    "        return total"
   ]
  },
  {
   "cell_type": "code",
   "execution_count": 2,
   "id": "54f710ed",
   "metadata": {
    "ExecuteTime": {
     "end_time": "2022-10-15T09:13:35.455518Z",
     "start_time": "2022-10-15T09:13:35.451637Z"
    }
   },
   "outputs": [],
   "source": [
    "values = {\n",
    "    \"I\": 1,\n",
    "    \"V\": 5,\n",
    "    \"X\": 10,\n",
    "    \"L\": 50,\n",
    "    \"C\": 100,\n",
    "    \"D\": 500,\n",
    "    \"M\": 1000,\n",
    "    \"IV\": 4,\n",
    "    \"IX\": 9,\n",
    "    \"XL\": 40, \n",
    "    \"XC\": 90,\n",
    "    \"CD\": 400,\n",
    "    \"CM\": 900\n",
    "}\n",
    "\n",
    "class Solution:\n",
    "    def romanToInt(self, s):\n",
    "        total = 0\n",
    "        i = 0\n",
    "        while i < len(s):\n",
    "            # This is the subtractive case.\n",
    "            if i < len(s) - 1 and s[i:i+2] in values:\n",
    "                total += values[s[i:i+2]] \n",
    "                i += 2\n",
    "            else:\n",
    "                total += values[s[i]]\n",
    "                i += 1\n",
    "        return total"
   ]
  },
  {
   "cell_type": "code",
   "execution_count": 3,
   "id": "4c3797a9",
   "metadata": {
    "ExecuteTime": {
     "end_time": "2022-10-15T09:13:51.968851Z",
     "start_time": "2022-10-15T09:13:51.965773Z"
    }
   },
   "outputs": [],
   "source": [
    "values = {\n",
    "    \"I\": 1,\n",
    "    \"V\": 5,\n",
    "    \"X\": 10,\n",
    "    \"L\": 50,\n",
    "    \"C\": 100,\n",
    "    \"D\": 500,\n",
    "    \"M\": 1000,\n",
    "}\n",
    "\n",
    "class Solution:\n",
    "    def romanToInt(self, s):\n",
    "        total = values.get(s[-1])\n",
    "        for i in reversed(range(len(s) - 1)):\n",
    "            if values[s[i]] < values[s[i + 1]]:\n",
    "                total -= values[s[i]]\n",
    "            else:\n",
    "                total += values[s[i]]\n",
    "        return total\n"
   ]
  },
  {
   "cell_type": "code",
   "execution_count": null,
   "id": "1acc0a69",
   "metadata": {},
   "outputs": [],
   "source": []
  }
 ],
 "metadata": {
  "hide_input": false,
  "kernelspec": {
   "display_name": "Python 3 (ipykernel)",
   "language": "python",
   "name": "python3"
  },
  "language_info": {
   "codemirror_mode": {
    "name": "ipython",
    "version": 3
   },
   "file_extension": ".py",
   "mimetype": "text/x-python",
   "name": "python",
   "nbconvert_exporter": "python",
   "pygments_lexer": "ipython3",
   "version": "3.9.7"
  },
  "toc": {
   "base_numbering": 1,
   "nav_menu": {},
   "number_sections": true,
   "sideBar": true,
   "skip_h1_title": false,
   "title_cell": "Table of Contents",
   "title_sidebar": "Contents",
   "toc_cell": false,
   "toc_position": {},
   "toc_section_display": true,
   "toc_window_display": false
  },
  "varInspector": {
   "cols": {
    "lenName": 16,
    "lenType": 16,
    "lenVar": 40
   },
   "kernels_config": {
    "python": {
     "delete_cmd_postfix": "",
     "delete_cmd_prefix": "del ",
     "library": "var_list.py",
     "varRefreshCmd": "print(var_dic_list())"
    },
    "r": {
     "delete_cmd_postfix": ") ",
     "delete_cmd_prefix": "rm(",
     "library": "var_list.r",
     "varRefreshCmd": "cat(var_dic_list()) "
    }
   },
   "types_to_exclude": [
    "module",
    "function",
    "builtin_function_or_method",
    "instance",
    "_Feature"
   ],
   "window_display": false
  }
 },
 "nbformat": 4,
 "nbformat_minor": 5
}
