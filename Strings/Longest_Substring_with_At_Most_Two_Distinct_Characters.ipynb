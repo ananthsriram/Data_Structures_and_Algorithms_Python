{
 "cells": [
  {
   "cell_type": "markdown",
   "id": "27509239",
   "metadata": {},
   "source": [
    "Given a string s, return the length of the longest substring that contains at most two distinct characters."
   ]
  },
  {
   "cell_type": "markdown",
   "id": "b1393281",
   "metadata": {},
   "source": [
    "## Example 1:\n",
    "\n",
    "__Input__: s = \"eceba\"  \n",
    "__Output__: 3  \n",
    "__Explanation__: The substring is \"ece\" which its length is 3.\n",
    "\n",
    "\n",
    "## Example 2:\n",
    "\n",
    "__Input__: s = \"ccaabbb\"  \n",
    "__Output__: 5  \n",
    "__Explanation__: The substring is \"aabbb\" which its length is 5."
   ]
  },
  {
   "cell_type": "code",
   "execution_count": 2,
   "id": "4c9f8277",
   "metadata": {
    "ExecuteTime": {
     "end_time": "2022-10-15T13:18:22.150519Z",
     "start_time": "2022-10-15T13:18:22.146823Z"
    }
   },
   "outputs": [],
   "source": [
    "from collections import defaultdict\n",
    "\n",
    "def lengthOfLongestSubstringTwoDistinct(s):\n",
    "    n = len(s)\n",
    "    if n < 3:\n",
    "        return n\n",
    "\n",
    "    # sliding window left and right pointers\n",
    "    left, right = 0, 0\n",
    "    # hashmap character -> its rightmost position\n",
    "    # in the sliding window\n",
    "    hashmap = defaultdict()\n",
    "\n",
    "    max_len = 2\n",
    "\n",
    "    while right < n:\n",
    "        # when the slidewindow contains less than 3 characters\n",
    "        hashmap[s[right]] = right\n",
    "        right += 1\n",
    "\n",
    "        # slidewindow contains 3 characters\n",
    "        if len(hashmap) == 3:\n",
    "            # delete the leftmost character\n",
    "            del_idx = min(hashmap.values())\n",
    "            del hashmap[s[del_idx]]\n",
    "            # move left pointer of the slidewindow\n",
    "            left = del_idx + 1\n",
    "\n",
    "        max_len = max(max_len, right - left)\n",
    "\n",
    "    return max_len"
   ]
  },
  {
   "cell_type": "code",
   "execution_count": 3,
   "id": "ef825bb4",
   "metadata": {
    "ExecuteTime": {
     "end_time": "2022-10-15T13:18:28.453182Z",
     "start_time": "2022-10-15T13:18:28.447022Z"
    }
   },
   "outputs": [
    {
     "data": {
      "text/plain": [
       "3"
      ]
     },
     "execution_count": 3,
     "metadata": {},
     "output_type": "execute_result"
    }
   ],
   "source": [
    "s = \"eceba\"\n",
    "lengthOfLongestSubstringTwoDistinct(s)"
   ]
  },
  {
   "cell_type": "code",
   "execution_count": 4,
   "id": "4c2dc78d",
   "metadata": {
    "ExecuteTime": {
     "end_time": "2022-10-15T13:18:42.332197Z",
     "start_time": "2022-10-15T13:18:42.329123Z"
    }
   },
   "outputs": [
    {
     "data": {
      "text/plain": [
       "5"
      ]
     },
     "execution_count": 4,
     "metadata": {},
     "output_type": "execute_result"
    }
   ],
   "source": [
    "s = \"ccaabbb\"\n",
    "lengthOfLongestSubstringTwoDistinct(s)"
   ]
  },
  {
   "cell_type": "code",
   "execution_count": null,
   "id": "dfd10c8a",
   "metadata": {},
   "outputs": [],
   "source": []
  }
 ],
 "metadata": {
  "hide_input": false,
  "kernelspec": {
   "display_name": "Python 3 (ipykernel)",
   "language": "python",
   "name": "python3"
  },
  "language_info": {
   "codemirror_mode": {
    "name": "ipython",
    "version": 3
   },
   "file_extension": ".py",
   "mimetype": "text/x-python",
   "name": "python",
   "nbconvert_exporter": "python",
   "pygments_lexer": "ipython3",
   "version": "3.9.7"
  },
  "toc": {
   "base_numbering": 1,
   "nav_menu": {},
   "number_sections": false,
   "sideBar": true,
   "skip_h1_title": false,
   "title_cell": "Table of Contents",
   "title_sidebar": "Contents",
   "toc_cell": false,
   "toc_position": {},
   "toc_section_display": true,
   "toc_window_display": false
  },
  "varInspector": {
   "cols": {
    "lenName": 16,
    "lenType": 16,
    "lenVar": 40
   },
   "kernels_config": {
    "python": {
     "delete_cmd_postfix": "",
     "delete_cmd_prefix": "del ",
     "library": "var_list.py",
     "varRefreshCmd": "print(var_dic_list())"
    },
    "r": {
     "delete_cmd_postfix": ") ",
     "delete_cmd_prefix": "rm(",
     "library": "var_list.r",
     "varRefreshCmd": "cat(var_dic_list()) "
    }
   },
   "types_to_exclude": [
    "module",
    "function",
    "builtin_function_or_method",
    "instance",
    "_Feature"
   ],
   "window_display": false
  }
 },
 "nbformat": 4,
 "nbformat_minor": 5
}
