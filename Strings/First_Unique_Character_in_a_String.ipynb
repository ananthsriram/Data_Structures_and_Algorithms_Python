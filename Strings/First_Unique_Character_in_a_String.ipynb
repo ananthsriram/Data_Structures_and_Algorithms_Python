{
 "cells": [
  {
   "cell_type": "markdown",
   "id": "25be8145",
   "metadata": {},
   "source": [
    "Given a string s, find the first non-repeating character in it and return its index. If it does not exist, return -1."
   ]
  },
  {
   "cell_type": "markdown",
   "id": "0a4a8645",
   "metadata": {},
   "source": [
    "## Example 1:"
   ]
  },
  {
   "cell_type": "markdown",
   "id": "8b99545b",
   "metadata": {},
   "source": [
    "__Input__ : s = \"leetcode\"  \n",
    "__Output__ : 0"
   ]
  },
  {
   "cell_type": "markdown",
   "id": "ccfc8673",
   "metadata": {},
   "source": [
    "## Example 2:"
   ]
  },
  {
   "cell_type": "markdown",
   "id": "8faacac3",
   "metadata": {},
   "source": [
    "__Input__ : s = \"loveleetcode\"  \n",
    "__Output__ : 2"
   ]
  },
  {
   "cell_type": "markdown",
   "id": "ae388e35",
   "metadata": {},
   "source": [
    "## Example 3:"
   ]
  },
  {
   "cell_type": "markdown",
   "id": "8ba2ee23",
   "metadata": {},
   "source": [
    "__Input__ : s = \"aabb\"  \n",
    "__Output__ : -1"
   ]
  },
  {
   "cell_type": "code",
   "execution_count": 3,
   "id": "92de66f6",
   "metadata": {
    "ExecuteTime": {
     "end_time": "2022-10-14T17:07:07.615113Z",
     "start_time": "2022-10-14T17:07:07.612527Z"
    }
   },
   "outputs": [],
   "source": [
    "import collections\n",
    "def firstUniqChar(s):\n",
    "    # build hash map : character and how often it appears\n",
    "    count = collections.Counter(s)\n",
    "    \n",
    "    # find the index\n",
    "    for idx, ch in enumerate(s):\n",
    "        if count[ch] == 1:\n",
    "            return idx     \n",
    "    return -1"
   ]
  },
  {
   "cell_type": "code",
   "execution_count": 4,
   "id": "db8e663f",
   "metadata": {
    "ExecuteTime": {
     "end_time": "2022-10-14T17:07:07.931521Z",
     "start_time": "2022-10-14T17:07:07.925743Z"
    }
   },
   "outputs": [
    {
     "data": {
      "text/plain": [
       "0"
      ]
     },
     "execution_count": 4,
     "metadata": {},
     "output_type": "execute_result"
    }
   ],
   "source": [
    "s = \"leetcode\"\n",
    "firstUniqChar(s)"
   ]
  },
  {
   "cell_type": "code",
   "execution_count": 5,
   "id": "084ed84d",
   "metadata": {
    "ExecuteTime": {
     "end_time": "2022-10-14T17:07:17.582259Z",
     "start_time": "2022-10-14T17:07:17.579404Z"
    }
   },
   "outputs": [
    {
     "data": {
      "text/plain": [
       "2"
      ]
     },
     "execution_count": 5,
     "metadata": {},
     "output_type": "execute_result"
    }
   ],
   "source": [
    "s = \"loveleetcode\"\n",
    "firstUniqChar(s)"
   ]
  },
  {
   "cell_type": "code",
   "execution_count": 6,
   "id": "4ffd5c97",
   "metadata": {
    "ExecuteTime": {
     "end_time": "2022-10-14T17:07:27.167923Z",
     "start_time": "2022-10-14T17:07:27.164538Z"
    }
   },
   "outputs": [
    {
     "data": {
      "text/plain": [
       "-1"
      ]
     },
     "execution_count": 6,
     "metadata": {},
     "output_type": "execute_result"
    }
   ],
   "source": [
    "s = \"aabb\"\n",
    "firstUniqChar(s)"
   ]
  },
  {
   "cell_type": "code",
   "execution_count": null,
   "id": "7155bbbf",
   "metadata": {},
   "outputs": [],
   "source": []
  }
 ],
 "metadata": {
  "hide_input": false,
  "kernelspec": {
   "display_name": "Python 3 (ipykernel)",
   "language": "python",
   "name": "python3"
  },
  "language_info": {
   "codemirror_mode": {
    "name": "ipython",
    "version": 3
   },
   "file_extension": ".py",
   "mimetype": "text/x-python",
   "name": "python",
   "nbconvert_exporter": "python",
   "pygments_lexer": "ipython3",
   "version": "3.9.7"
  },
  "toc": {
   "base_numbering": 1,
   "nav_menu": {},
   "number_sections": false,
   "sideBar": true,
   "skip_h1_title": false,
   "title_cell": "Table of Contents",
   "title_sidebar": "Contents",
   "toc_cell": false,
   "toc_position": {},
   "toc_section_display": true,
   "toc_window_display": false
  },
  "varInspector": {
   "cols": {
    "lenName": 16,
    "lenType": 16,
    "lenVar": 40
   },
   "kernels_config": {
    "python": {
     "delete_cmd_postfix": "",
     "delete_cmd_prefix": "del ",
     "library": "var_list.py",
     "varRefreshCmd": "print(var_dic_list())"
    },
    "r": {
     "delete_cmd_postfix": ") ",
     "delete_cmd_prefix": "rm(",
     "library": "var_list.r",
     "varRefreshCmd": "cat(var_dic_list()) "
    }
   },
   "types_to_exclude": [
    "module",
    "function",
    "builtin_function_or_method",
    "instance",
    "_Feature"
   ],
   "window_display": false
  }
 },
 "nbformat": 4,
 "nbformat_minor": 5
}
