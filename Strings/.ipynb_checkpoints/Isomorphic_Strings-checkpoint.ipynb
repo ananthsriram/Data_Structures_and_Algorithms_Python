{
 "cells": [
  {
   "cell_type": "markdown",
   "id": "6991936b",
   "metadata": {},
   "source": [
    "Given two strings s and t, determine if they are isomorphic.\n",
    "\n",
    "Two strings s and t are isomorphic if the characters in s can be replaced to get t.\n",
    "\n",
    "All occurrences of a character must be replaced with another character while preserving the order of characters. No two characters may map to the same character, but a character may map to itself."
   ]
  },
  {
   "cell_type": "markdown",
   "id": "ca1beb6d",
   "metadata": {},
   "source": [
    "## Example 1:\n",
    "\n",
    "__Input__: s = \"egg\", t = \"add\"  \n",
    "__Output__: true\n",
    "\n",
    "\n",
    "## Example 2:\n",
    "\n",
    "__Input__: s = \"foo\", t = \"bar\"  \n",
    "__Output__: false\n",
    "\n",
    "\n",
    "## Example 3:\n",
    "\n",
    "__Input__: s = \"paper\", t = \"title\"  \n",
    "__Output__: true"
   ]
  },
  {
   "cell_type": "code",
   "execution_count": 1,
   "id": "10458cd3",
   "metadata": {
    "ExecuteTime": {
     "end_time": "2022-10-16T10:58:53.250853Z",
     "start_time": "2022-10-16T10:58:53.247684Z"
    }
   },
   "outputs": [],
   "source": [
    "def isIsomorphic(s, t):\n",
    "    \n",
    "    mapping_s_t = {}\n",
    "    mapping_t_s = {}\n",
    "    \n",
    "    for c1, c2 in zip(s, t):\n",
    "        \n",
    "        # Case 1: No mapping exists in either of the dictionaries\n",
    "        if (c1 not in mapping_s_t) and (c2 not in mapping_t_s):\n",
    "            mapping_s_t[c1] = c2\n",
    "            mapping_t_s[c2] = c1\n",
    "        \n",
    "        # Case 2: Ether mapping doesn't exist in one of the dictionaries or Mapping exists and\n",
    "        # it doesn't match in either of the dictionaries or both            \n",
    "        elif mapping_s_t.get(c1) != c2 or mapping_t_s.get(c2) != c1:\n",
    "            return False\n",
    "        \n",
    "    return True"
   ]
  },
  {
   "cell_type": "code",
   "execution_count": 2,
   "id": "c2a18cb5",
   "metadata": {
    "ExecuteTime": {
     "end_time": "2022-10-16T10:59:05.685942Z",
     "start_time": "2022-10-16T10:59:05.679721Z"
    }
   },
   "outputs": [
    {
     "data": {
      "text/plain": [
       "True"
      ]
     },
     "execution_count": 2,
     "metadata": {},
     "output_type": "execute_result"
    }
   ],
   "source": [
    "s = \"egg\"\n",
    "t = \"add\"\n",
    "isIsomorphic(s, t)"
   ]
  },
  {
   "cell_type": "code",
   "execution_count": 3,
   "id": "870fef60",
   "metadata": {
    "ExecuteTime": {
     "end_time": "2022-10-16T10:59:16.033039Z",
     "start_time": "2022-10-16T10:59:16.029509Z"
    }
   },
   "outputs": [
    {
     "data": {
      "text/plain": [
       "False"
      ]
     },
     "execution_count": 3,
     "metadata": {},
     "output_type": "execute_result"
    }
   ],
   "source": [
    "s = \"foo\"\n",
    "t = \"bar\"\n",
    "isIsomorphic(s, t)"
   ]
  },
  {
   "cell_type": "code",
   "execution_count": 4,
   "id": "afbb6297",
   "metadata": {
    "ExecuteTime": {
     "end_time": "2022-10-16T10:59:27.935155Z",
     "start_time": "2022-10-16T10:59:27.932275Z"
    }
   },
   "outputs": [
    {
     "data": {
      "text/plain": [
       "True"
      ]
     },
     "execution_count": 4,
     "metadata": {},
     "output_type": "execute_result"
    }
   ],
   "source": [
    "s = \"paper\"\n",
    "t = \"title\"\n",
    "isIsomorphic(s, t)"
   ]
  },
  {
   "cell_type": "code",
   "execution_count": 5,
   "id": "e32aa20c",
   "metadata": {
    "ExecuteTime": {
     "end_time": "2022-10-16T10:59:55.068985Z",
     "start_time": "2022-10-16T10:59:55.065950Z"
    }
   },
   "outputs": [],
   "source": [
    "class Solution:\n",
    "    \n",
    "    def transformString(self, s):\n",
    "        index_mapping = {}\n",
    "        new_str = []\n",
    "        \n",
    "        for i, c in enumerate(s):\n",
    "            if c not in index_mapping:\n",
    "                index_mapping[c] = i\n",
    "            new_str.append(str(index_mapping[c]))\n",
    "        \n",
    "        return \" \".join(new_str)\n",
    "    \n",
    "    def isIsomorphic(self, s, t):\n",
    "        return self.transformString(s) == self.transformString(t)"
   ]
  },
  {
   "cell_type": "code",
   "execution_count": null,
   "id": "a213caed",
   "metadata": {},
   "outputs": [],
   "source": []
  }
 ],
 "metadata": {
  "hide_input": false,
  "kernelspec": {
   "display_name": "Python 3 (ipykernel)",
   "language": "python",
   "name": "python3"
  },
  "language_info": {
   "codemirror_mode": {
    "name": "ipython",
    "version": 3
   },
   "file_extension": ".py",
   "mimetype": "text/x-python",
   "name": "python",
   "nbconvert_exporter": "python",
   "pygments_lexer": "ipython3",
   "version": "3.9.7"
  },
  "toc": {
   "base_numbering": 1,
   "nav_menu": {},
   "number_sections": false,
   "sideBar": true,
   "skip_h1_title": false,
   "title_cell": "Table of Contents",
   "title_sidebar": "Contents",
   "toc_cell": false,
   "toc_position": {},
   "toc_section_display": true,
   "toc_window_display": false
  },
  "varInspector": {
   "cols": {
    "lenName": 16,
    "lenType": 16,
    "lenVar": 40
   },
   "kernels_config": {
    "python": {
     "delete_cmd_postfix": "",
     "delete_cmd_prefix": "del ",
     "library": "var_list.py",
     "varRefreshCmd": "print(var_dic_list())"
    },
    "r": {
     "delete_cmd_postfix": ") ",
     "delete_cmd_prefix": "rm(",
     "library": "var_list.r",
     "varRefreshCmd": "cat(var_dic_list()) "
    }
   },
   "types_to_exclude": [
    "module",
    "function",
    "builtin_function_or_method",
    "instance",
    "_Feature"
   ],
   "window_display": false
  }
 },
 "nbformat": 4,
 "nbformat_minor": 5
}
