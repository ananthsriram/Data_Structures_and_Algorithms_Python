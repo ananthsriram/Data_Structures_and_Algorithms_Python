{
 "cells": [
  {
   "cell_type": "markdown",
   "id": "02fb7a80",
   "metadata": {},
   "source": [
    "## Example 1:"
   ]
  },
  {
   "cell_type": "markdown",
   "id": "ae6ac249",
   "metadata": {},
   "source": [
    "__Input__ : x = 123  \n",
    "__Output__ : 321"
   ]
  },
  {
   "cell_type": "markdown",
   "id": "7634babd",
   "metadata": {},
   "source": [
    "## Example 2:"
   ]
  },
  {
   "cell_type": "markdown",
   "id": "1fdcd529",
   "metadata": {},
   "source": [
    "__Input__ : x = -123  \n",
    "__Output__ : -321"
   ]
  },
  {
   "cell_type": "markdown",
   "id": "4adf0d73",
   "metadata": {},
   "source": [
    "## Example 3:"
   ]
  },
  {
   "cell_type": "markdown",
   "id": "d57bb987",
   "metadata": {},
   "source": [
    "__Input__ : x = 120  \n",
    "__Output__ : 21"
   ]
  },
  {
   "cell_type": "code",
   "execution_count": 1,
   "id": "b3bf5243",
   "metadata": {
    "ExecuteTime": {
     "end_time": "2022-10-14T17:00:03.804292Z",
     "start_time": "2022-10-14T17:00:03.801037Z"
    }
   },
   "outputs": [],
   "source": [
    "def reverse(x):\n",
    "    if x >= 2**31-1 or x <= -2**31: \n",
    "        return 0\n",
    "    else:\n",
    "        strg = str(x)\n",
    "        if x >= 0 :\n",
    "            revst = strg[::-1]\n",
    "        else:\n",
    "            temp = strg[1:] \n",
    "            temp2 = temp[::-1] \n",
    "            revst = \"-\" + temp2\n",
    "        if int(revst) >= 2**31-1 or int(revst) <= -2**31: \n",
    "            return 0\n",
    "        else: \n",
    "            return int(revst)"
   ]
  },
  {
   "cell_type": "code",
   "execution_count": 2,
   "id": "65a8ad18",
   "metadata": {
    "ExecuteTime": {
     "end_time": "2022-10-14T17:00:17.410931Z",
     "start_time": "2022-10-14T17:00:17.404727Z"
    }
   },
   "outputs": [
    {
     "data": {
      "text/plain": [
       "21"
      ]
     },
     "execution_count": 2,
     "metadata": {},
     "output_type": "execute_result"
    }
   ],
   "source": [
    "x = 120\n",
    "reverse(x)"
   ]
  },
  {
   "cell_type": "code",
   "execution_count": null,
   "id": "51f44044",
   "metadata": {},
   "outputs": [],
   "source": []
  }
 ],
 "metadata": {
  "hide_input": false,
  "kernelspec": {
   "display_name": "Python 3 (ipykernel)",
   "language": "python",
   "name": "python3"
  },
  "language_info": {
   "codemirror_mode": {
    "name": "ipython",
    "version": 3
   },
   "file_extension": ".py",
   "mimetype": "text/x-python",
   "name": "python",
   "nbconvert_exporter": "python",
   "pygments_lexer": "ipython3",
   "version": "3.9.7"
  },
  "toc": {
   "base_numbering": 1,
   "nav_menu": {},
   "number_sections": false,
   "sideBar": true,
   "skip_h1_title": false,
   "title_cell": "Table of Contents",
   "title_sidebar": "Contents",
   "toc_cell": false,
   "toc_position": {},
   "toc_section_display": true,
   "toc_window_display": false
  },
  "varInspector": {
   "cols": {
    "lenName": 16,
    "lenType": 16,
    "lenVar": 40
   },
   "kernels_config": {
    "python": {
     "delete_cmd_postfix": "",
     "delete_cmd_prefix": "del ",
     "library": "var_list.py",
     "varRefreshCmd": "print(var_dic_list())"
    },
    "r": {
     "delete_cmd_postfix": ") ",
     "delete_cmd_prefix": "rm(",
     "library": "var_list.r",
     "varRefreshCmd": "cat(var_dic_list()) "
    }
   },
   "types_to_exclude": [
    "module",
    "function",
    "builtin_function_or_method",
    "instance",
    "_Feature"
   ],
   "window_display": false
  }
 },
 "nbformat": 4,
 "nbformat_minor": 5
}
