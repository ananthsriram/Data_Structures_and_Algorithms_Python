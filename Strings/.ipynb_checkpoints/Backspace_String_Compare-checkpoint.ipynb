{
 "cells": [
  {
   "cell_type": "markdown",
   "id": "5289f1d9",
   "metadata": {},
   "source": [
    "Given two strings s and t, return true if they are equal when both are typed into empty text editors. '#' means a backspace character.\n",
    "\n",
    "Note that after backspacing an empty text, the text will continue empty."
   ]
  },
  {
   "cell_type": "markdown",
   "id": "64690cf3",
   "metadata": {},
   "source": [
    "## Example 1:\n",
    "\n",
    "__Input__: s = \"ab#c\", t = \"ad#c\"  \n",
    "__Output__: true  \n",
    "__Explanation__: Both s and t become \"ac\".\n",
    "\n",
    "\n",
    "## Example 2:\n",
    "\n",
    "__Input__: s = \"ab##\", t = \"c#d#\"  \n",
    "__Output__: true  \n",
    "__Explanation__: Both s and t become \"\".\n",
    "\n",
    "\n",
    "## Example 3:\n",
    "\n",
    "__Input__: s = \"a#c\", t = \"b\"  \n",
    "__Output__: false  \n",
    "__Explanation__: s becomes \"c\" while t becomes \"b\"."
   ]
  },
  {
   "cell_type": "code",
   "execution_count": 3,
   "id": "7d46abfb",
   "metadata": {
    "ExecuteTime": {
     "end_time": "2022-10-15T13:50:18.688162Z",
     "start_time": "2022-10-15T13:50:18.685270Z"
    }
   },
   "outputs": [],
   "source": [
    "def backspaceCompare(S, T):\n",
    "    def build(S):\n",
    "        ans = []\n",
    "        for c in S:\n",
    "            if c != '#':\n",
    "                ans.append(c)\n",
    "            elif ans:\n",
    "                ans.pop()\n",
    "        return \"\".join(ans)\n",
    "    return build(S) == build(T)"
   ]
  },
  {
   "cell_type": "code",
   "execution_count": 10,
   "id": "65313fb4",
   "metadata": {
    "ExecuteTime": {
     "end_time": "2022-10-15T13:51:51.369965Z",
     "start_time": "2022-10-15T13:51:51.367142Z"
    }
   },
   "outputs": [],
   "source": [
    "import itertools\n",
    "def backspaceCompare(S, T):\n",
    "    def F(S):\n",
    "        skip = 0\n",
    "        for x in reversed(S):\n",
    "            if x == '#':\n",
    "                skip += 1\n",
    "            elif skip:\n",
    "                skip -= 1\n",
    "            else:\n",
    "                yield x\n",
    "\n",
    "    return all(x == y for x, y in itertools.zip_longest(F(S), F(T)))"
   ]
  },
  {
   "cell_type": "code",
   "execution_count": 12,
   "id": "80bbdb85",
   "metadata": {
    "ExecuteTime": {
     "end_time": "2022-10-15T13:52:05.050099Z",
     "start_time": "2022-10-15T13:52:05.046734Z"
    }
   },
   "outputs": [
    {
     "data": {
      "text/plain": [
       "True"
      ]
     },
     "execution_count": 12,
     "metadata": {},
     "output_type": "execute_result"
    }
   ],
   "source": [
    "s = \"ab#c\"\n",
    "t = \"ad#c\"\n",
    "backspaceCompare(s, t)"
   ]
  },
  {
   "cell_type": "code",
   "execution_count": null,
   "id": "6987566b",
   "metadata": {},
   "outputs": [],
   "source": []
  }
 ],
 "metadata": {
  "hide_input": false,
  "kernelspec": {
   "display_name": "Python 3 (ipykernel)",
   "language": "python",
   "name": "python3"
  },
  "language_info": {
   "codemirror_mode": {
    "name": "ipython",
    "version": 3
   },
   "file_extension": ".py",
   "mimetype": "text/x-python",
   "name": "python",
   "nbconvert_exporter": "python",
   "pygments_lexer": "ipython3",
   "version": "3.9.7"
  },
  "toc": {
   "base_numbering": 1,
   "nav_menu": {},
   "number_sections": false,
   "sideBar": true,
   "skip_h1_title": false,
   "title_cell": "Table of Contents",
   "title_sidebar": "Contents",
   "toc_cell": false,
   "toc_position": {},
   "toc_section_display": true,
   "toc_window_display": false
  },
  "varInspector": {
   "cols": {
    "lenName": 16,
    "lenType": 16,
    "lenVar": 40
   },
   "kernels_config": {
    "python": {
     "delete_cmd_postfix": "",
     "delete_cmd_prefix": "del ",
     "library": "var_list.py",
     "varRefreshCmd": "print(var_dic_list())"
    },
    "r": {
     "delete_cmd_postfix": ") ",
     "delete_cmd_prefix": "rm(",
     "library": "var_list.r",
     "varRefreshCmd": "cat(var_dic_list()) "
    }
   },
   "types_to_exclude": [
    "module",
    "function",
    "builtin_function_or_method",
    "instance",
    "_Feature"
   ],
   "window_display": false
  }
 },
 "nbformat": 4,
 "nbformat_minor": 5
}
