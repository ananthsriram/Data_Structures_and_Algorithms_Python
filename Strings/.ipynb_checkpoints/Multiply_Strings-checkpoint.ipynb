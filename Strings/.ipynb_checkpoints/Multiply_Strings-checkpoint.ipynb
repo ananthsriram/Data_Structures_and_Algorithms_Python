{
 "cells": [
  {
   "cell_type": "markdown",
   "id": "6ce1775b",
   "metadata": {},
   "source": [
    "Given two non-negative integers num1 and num2 represented as strings, return the product of num1 and num2, also represented as a string.\n",
    "\n",
    "__Note__: You must not use any built-in BigInteger library or convert the inputs to integer directly.\n",
    "\n"
   ]
  },
  {
   "cell_type": "markdown",
   "id": "b5017aa9",
   "metadata": {},
   "source": [
    "## Example 1:\n",
    "\n",
    "__Input__: num1 = \"2\", num2 = \"3\"  \n",
    "__Output__: \"6\"\n",
    "\n",
    "\n",
    "## Example 2:\n",
    "\n",
    "__Input__: num1 = \"123\", num2 = \"456\"  \n",
    "__Output__: \"56088\""
   ]
  },
  {
   "cell_type": "code",
   "execution_count": 1,
   "id": "84b45a55",
   "metadata": {
    "ExecuteTime": {
     "end_time": "2022-10-15T13:05:02.277298Z",
     "start_time": "2022-10-15T13:05:02.271413Z"
    }
   },
   "outputs": [],
   "source": [
    "class Solution:\n",
    "    def multiply(self, num1, num2):\n",
    "        if num1 == \"0\" or num2 == \"0\": \n",
    "            return \"0\"\n",
    "        \n",
    "        # Reverse both numbers.\n",
    "        first_number = num1[::-1]\n",
    "        second_number = num2[::-1]\n",
    "        \n",
    "        # For each digit in second_number, multipy the digit by first_number and then\n",
    "        # store the multiplication result (reversed) in the results array.\n",
    "        results = []\n",
    "        for index, digit in enumerate(second_number):\n",
    "            results.append(self.multiply_one_digit(digit, index, first_number))\n",
    "        \n",
    "        # Add all of the results together to get our final answer (in reverse order)\n",
    "        answer = self.sum_results(results)\n",
    "\n",
    "        # Reverse answer and join the digits to get the final answer.\n",
    "        return ''.join(str(digit) for digit in reversed(answer))\n",
    "\n",
    "    def multiply_one_digit(self, digit2, num_zeros, first_number):\n",
    "        \"\"\"Multiplies first_number by a digit from second_number (digit2).\"\"\"\n",
    "        # Insert zeros at the beginning of the current result based on the current digit's place.\n",
    "        current_result = [0] * num_zeros\n",
    "        carry = 0\n",
    "\n",
    "        # Multiply each digit in first_number with the current digit of the second_number.\n",
    "        for digit1 in first_number:\n",
    "            multiplication = int(digit1) * int(digit2) + carry\n",
    "            # Set carry equal to the tens place digit of multiplication.\n",
    "            carry = multiplication // 10\n",
    "            # Append last digit to the current result.\n",
    "            current_result.append(multiplication % 10)\n",
    "\n",
    "        if carry != 0:\n",
    "            current_result.append(carry)\n",
    "        return current_result\n",
    "    \n",
    "    def sum_results(self, results):\n",
    "        # Initialize answer as a number from results.\n",
    "        answer = results.pop()\n",
    "\n",
    "        # Add each result to answer one at a time.\n",
    "        for result in results:\n",
    "            new_answer = []\n",
    "            carry = 0\n",
    "\n",
    "            # Sum each digit from answer and result. Note: zip_longest is the\n",
    "            # same as zip, except that it pads the shorter list with fillvalue.\n",
    "            for digit1, digit2 in zip_longest(result, answer, fillvalue=0):\n",
    "                # Add current digit from both numbers.\n",
    "                curr_sum = digit1 + digit2 + carry\n",
    "                # Set carry equal to the tens place digit of curr_sum.\n",
    "                carry = curr_sum // 10\n",
    "                # Append the ones place digit of curr_sum to the new answer.\n",
    "                new_answer.append(curr_sum % 10)\n",
    "\n",
    "            if carry != 0:\n",
    "                new_answer.append(carry)\n",
    "\n",
    "            # Update answer to new_answer which equals answer + result\n",
    "            answer = new_answer\n",
    "\n",
    "        return answer"
   ]
  },
  {
   "cell_type": "code",
   "execution_count": 2,
   "id": "5283a83b",
   "metadata": {
    "ExecuteTime": {
     "end_time": "2022-10-15T13:05:45.014373Z",
     "start_time": "2022-10-15T13:05:45.008923Z"
    }
   },
   "outputs": [],
   "source": [
    "class Solution:\n",
    "    def multiply(self, num1, num2):\n",
    "        if num1 == \"0\" or num2 == \"0\": \n",
    "            return \"0\"\n",
    "        \n",
    "        # Reverse both numbers.\n",
    "        first_number = num1[::-1]\n",
    "        second_number = num2[::-1]\n",
    "        \n",
    "        # To store the multiplication result of each digit of secondNumber with firstNumber.\n",
    "        N = len(first_number) + len(second_number)\n",
    "        answer = [0] * N\n",
    "\n",
    "        # Multiply each digit in second_number by the first_number\n",
    "        # and add each result to answer\n",
    "        for index, digit in enumerate(second_number):\n",
    "            answer = self.addStrings(self.multiplyOneDigit(first_number, digit, index), answer)\n",
    "\n",
    "        # Pop excess zero from the end of answer (if any).\n",
    "        if answer[-1] == 0:\n",
    "            answer.pop()\n",
    "\n",
    "        # Ans is in the reversed order.\n",
    "        # Reverse it to get the final answer.\n",
    "        answer.reverse()\n",
    "        return ''.join(str(digit) for digit in answer)\n",
    "    \n",
    "    def multiplyOneDigit(self, first_number, digit2, num_zeros):\n",
    "        # Insert 0s at the beginning based on the current digit's place.\n",
    "        currentResult = [0] * num_zeros\n",
    "        carry = 0\n",
    "\n",
    "        # Multiply firstNumber with the current digit of secondNumber.\n",
    "        for digit1 in first_number:\n",
    "            multiplication = int(digit1) * int(digit2) + carry\n",
    "            # Set carry equal to the tens place digit of multiplication.\n",
    "            carry = multiplication // 10\n",
    "            # Append the ones place digit of multiplication to the current result.\n",
    "            currentResult.append(multiplication % 10)\n",
    "\n",
    "        if carry != 0:\n",
    "            currentResult.append(carry)\n",
    "        return currentResult\n",
    "    \n",
    "    def addStrings(self, result, answer):\n",
    "        carry = 0\n",
    "        i = 0\n",
    "        new_answer = []\n",
    "        for digit1, digit2 in zip_longest(result, answer, fillvalue=0):\n",
    "            # Add current digits of both numbers.\n",
    "            curr_sum = digit1 + digit2 + carry\n",
    "            carry = curr_sum // 10\n",
    "            # Append last digit of curr_sum to the answer.\n",
    "            new_answer.append(curr_sum % 10)\n",
    "            i += 1\n",
    "\n",
    "        return new_answer"
   ]
  },
  {
   "cell_type": "code",
   "execution_count": 3,
   "id": "8e3098f9",
   "metadata": {
    "ExecuteTime": {
     "end_time": "2022-10-15T13:06:09.277108Z",
     "start_time": "2022-10-15T13:06:09.272893Z"
    }
   },
   "outputs": [],
   "source": [
    "class Solution:\n",
    "    def multiply(self, num1, num2):\n",
    "        if num1 == \"0\" or num2 == \"0\":\n",
    "            return \"0\"\n",
    "        \n",
    "        # Initialize answer as a string of zeros of length N.\n",
    "        N = len(num1) + len(num2)\n",
    "        answer = [0] * N\n",
    "        \n",
    "        # Reverse num1 and num2\n",
    "        first_number = num1[::-1]\n",
    "        second_number = num2[::-1]\n",
    "        \n",
    "        for place2, digit2 in enumerate(second_number):\n",
    "            # For each digit in second_number multiply the digit by all digits in first_number.\n",
    "            for place1, digit1 in enumerate(first_number):\n",
    "                # The number of zeros from multiplying to digits depends on the place\n",
    "                # of digit2 in second_number and the place of the digit1 in first_number.\n",
    "                num_zeros = place1 + place2\n",
    "                \n",
    "                # The digit currently at position numZeros in the answer string\n",
    "                # is carried over and summed with the current result.\n",
    "                carry = answer[num_zeros]\n",
    "                multiplication = int(digit1) * int(digit2) + carry\n",
    "                \n",
    "                # Set the ones place of the multiplication result.\n",
    "                answer[num_zeros] = multiplication % 10\n",
    "                \n",
    "                # Carry the tens place of the multiplication result by \n",
    "                # adding it to the next position in the answer array.\n",
    "                answer[num_zeros + 1] += multiplication // 10\n",
    "        \n",
    "        # Pop the excess 0 from the end of answer.\n",
    "        if answer[-1] == 0:\n",
    "            answer.pop()\n",
    "            \n",
    "        return ''.join(str(digit) for digit in reversed(answer))"
   ]
  },
  {
   "cell_type": "code",
   "execution_count": null,
   "id": "3c63eeea",
   "metadata": {},
   "outputs": [],
   "source": []
  }
 ],
 "metadata": {
  "hide_input": false,
  "kernelspec": {
   "display_name": "Python 3 (ipykernel)",
   "language": "python",
   "name": "python3"
  },
  "language_info": {
   "codemirror_mode": {
    "name": "ipython",
    "version": 3
   },
   "file_extension": ".py",
   "mimetype": "text/x-python",
   "name": "python",
   "nbconvert_exporter": "python",
   "pygments_lexer": "ipython3",
   "version": "3.9.7"
  },
  "toc": {
   "base_numbering": 1,
   "nav_menu": {},
   "number_sections": false,
   "sideBar": true,
   "skip_h1_title": false,
   "title_cell": "Table of Contents",
   "title_sidebar": "Contents",
   "toc_cell": false,
   "toc_position": {},
   "toc_section_display": true,
   "toc_window_display": false
  },
  "varInspector": {
   "cols": {
    "lenName": 16,
    "lenType": 16,
    "lenVar": 40
   },
   "kernels_config": {
    "python": {
     "delete_cmd_postfix": "",
     "delete_cmd_prefix": "del ",
     "library": "var_list.py",
     "varRefreshCmd": "print(var_dic_list())"
    },
    "r": {
     "delete_cmd_postfix": ") ",
     "delete_cmd_prefix": "rm(",
     "library": "var_list.r",
     "varRefreshCmd": "cat(var_dic_list()) "
    }
   },
   "types_to_exclude": [
    "module",
    "function",
    "builtin_function_or_method",
    "instance",
    "_Feature"
   ],
   "window_display": false
  }
 },
 "nbformat": 4,
 "nbformat_minor": 5
}
