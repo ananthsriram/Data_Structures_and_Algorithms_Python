{
 "cells": [
  {
   "cell_type": "markdown",
   "id": "427cf448",
   "metadata": {},
   "source": [
    "Given an integer n, return a string array answer (1-indexed) where:\n",
    "\n",
    "- answer[i] == \"FizzBuzz\" if i is divisible by 3 and 5.\n",
    "- answer[i] == \"Fizz\" if i is divisible by 3.\n",
    "- answer[i] == \"Buzz\" if i is divisible by 5.\n",
    "- answer[i] == i (as a string) if none of the above conditions are true."
   ]
  },
  {
   "cell_type": "markdown",
   "id": "6834b89e",
   "metadata": {},
   "source": [
    "## Example 1:\n",
    "\n",
    "__Input__: n = 3  \n",
    "__Output__: [\"1\",\"2\",\"Fizz\"]\n",
    "\n",
    "\n",
    "## Example 2:\n",
    "\n",
    "__Input__: n = 5  \n",
    "__Output__: [\"1\",\"2\",\"Fizz\",\"4\",\"Buzz\"]\n",
    "\n",
    "\n",
    "## Example 3:\n",
    "\n",
    "__Input__: n = 15  \n",
    "__Output__: [\"1\",\"2\",\"Fizz\",\"4\",\"Buzz\",\"Fizz\",\"7\",\"8\",\"Fizz\",\"Buzz\",\"11\",\"Fizz\",\"13\",\"14\",\"FizzBuzz\"]"
   ]
  },
  {
   "cell_type": "code",
   "execution_count": 1,
   "id": "3003bf88",
   "metadata": {
    "ExecuteTime": {
     "end_time": "2022-10-15T08:59:53.624776Z",
     "start_time": "2022-10-15T08:59:53.621095Z"
    }
   },
   "outputs": [],
   "source": [
    "class Solution:\n",
    "    def fizzBuzz(self, n):\n",
    "        # ans list\n",
    "        ans = []\n",
    "\n",
    "        for num in range(1,n+1):\n",
    "\n",
    "            divisible_by_3 = (num % 3 == 0)\n",
    "            divisible_by_5 = (num % 5 == 0)\n",
    "\n",
    "            if divisible_by_3 and divisible_by_5:\n",
    "                # Divides by both 3 and 5, add FizzBuzz\n",
    "                ans.append(\"FizzBuzz\")\n",
    "            elif divisible_by_3:\n",
    "                # Divides by 3, add Fizz\n",
    "                ans.append(\"Fizz\")\n",
    "            elif divisible_by_5:\n",
    "                # Divides by 5, add Buzz\n",
    "                ans.append(\"Buzz\")\n",
    "            else:\n",
    "                # Not divisible by 3 or 5, add the number\n",
    "                ans.append(str(num))\n",
    "\n",
    "        return ans"
   ]
  },
  {
   "cell_type": "code",
   "execution_count": 2,
   "id": "2147d106",
   "metadata": {
    "ExecuteTime": {
     "end_time": "2022-10-15T09:00:04.848093Z",
     "start_time": "2022-10-15T09:00:04.845063Z"
    }
   },
   "outputs": [],
   "source": [
    "class Solution:\n",
    "    def fizzBuzz(self, n):\n",
    "        # ans list\n",
    "        ans = []\n",
    "\n",
    "        for num in range(1,n+1):\n",
    "\n",
    "            divisible_by_3 = (num % 3 == 0)\n",
    "            divisible_by_5 = (num % 5 == 0)\n",
    "\n",
    "            num_ans_str = \"\"\n",
    "\n",
    "            if divisible_by_3:\n",
    "                # Divides by 3\n",
    "                num_ans_str += \"Fizz\"\n",
    "            if divisible_by_5:\n",
    "                # Divides by 5\n",
    "                num_ans_str += \"Buzz\"\n",
    "            if not num_ans_str:\n",
    "                # Not divisible by 3 or 5\n",
    "                num_ans_str = str(num)\n",
    "\n",
    "            # Append the current answer str to the ans list\n",
    "            ans.append(num_ans_str)  \n",
    "\n",
    "        return ans"
   ]
  },
  {
   "cell_type": "code",
   "execution_count": 3,
   "id": "8fe7fa64",
   "metadata": {
    "ExecuteTime": {
     "end_time": "2022-10-15T09:00:16.302320Z",
     "start_time": "2022-10-15T09:00:16.298897Z"
    }
   },
   "outputs": [],
   "source": [
    "class Solution:\n",
    "    def fizzBuzz(self, n):\n",
    "        # ans list\n",
    "        ans = []\n",
    "\n",
    "        # Dictionary to store all fizzbuzz mappings\n",
    "        fizz_buzz_dict = {3 : \"Fizz\", 5 : \"Buzz\"}\n",
    "        \n",
    "        # List of divisors which we will iterate over.\n",
    "        divisors = [3, 5]\n",
    "\n",
    "        for num in range(1, n + 1):\n",
    "\n",
    "            num_ans_str = []\n",
    "\n",
    "            for key in divisors:\n",
    "                # If the num is divisible by key,\n",
    "                # then add the corresponding string mapping to current num_ans_str\n",
    "                if num % key == 0:\n",
    "                    num_ans_str.append(fizz_buzz_dict[key])\n",
    "\n",
    "            if not num_ans_str:\n",
    "                num_ans_str.append(str(num))\n",
    "\n",
    "            # Append the current answer str to the ans list\n",
    "            ans.append(''.join(num_ans_str))\n",
    "\n",
    "        return ans"
   ]
  },
  {
   "cell_type": "code",
   "execution_count": null,
   "id": "87151676",
   "metadata": {},
   "outputs": [],
   "source": []
  }
 ],
 "metadata": {
  "hide_input": false,
  "kernelspec": {
   "display_name": "Python 3 (ipykernel)",
   "language": "python",
   "name": "python3"
  },
  "language_info": {
   "codemirror_mode": {
    "name": "ipython",
    "version": 3
   },
   "file_extension": ".py",
   "mimetype": "text/x-python",
   "name": "python",
   "nbconvert_exporter": "python",
   "pygments_lexer": "ipython3",
   "version": "3.9.7"
  },
  "toc": {
   "base_numbering": 1,
   "nav_menu": {},
   "number_sections": true,
   "sideBar": true,
   "skip_h1_title": false,
   "title_cell": "Table of Contents",
   "title_sidebar": "Contents",
   "toc_cell": false,
   "toc_position": {},
   "toc_section_display": true,
   "toc_window_display": false
  },
  "varInspector": {
   "cols": {
    "lenName": 16,
    "lenType": 16,
    "lenVar": 40
   },
   "kernels_config": {
    "python": {
     "delete_cmd_postfix": "",
     "delete_cmd_prefix": "del ",
     "library": "var_list.py",
     "varRefreshCmd": "print(var_dic_list())"
    },
    "r": {
     "delete_cmd_postfix": ") ",
     "delete_cmd_prefix": "rm(",
     "library": "var_list.r",
     "varRefreshCmd": "cat(var_dic_list()) "
    }
   },
   "types_to_exclude": [
    "module",
    "function",
    "builtin_function_or_method",
    "instance",
    "_Feature"
   ],
   "window_display": false
  }
 },
 "nbformat": 4,
 "nbformat_minor": 5
}
