{
 "cells": [
  {
   "cell_type": "markdown",
   "id": "b1120243",
   "metadata": {},
   "source": [
    "Given a string s, find the length of the longest substring without repeating characters."
   ]
  },
  {
   "cell_type": "markdown",
   "id": "4d65089e",
   "metadata": {},
   "source": [
    "## Example 1:\n",
    "\n",
    "__Input__: s = \"abcabcbb\"  \n",
    "__Output__: 3  \n",
    "__Explanation__: The answer is \"abc\", with the length of 3.\n",
    "\n",
    "\n",
    "## Example 2:\n",
    "\n",
    "__Input__: s = \"bbbbb\"  \n",
    "__Output__: 1  \n",
    "__Explanation__: The answer is \"b\", with the length of 1.\n",
    "\n",
    "\n",
    "## Example 3:\n",
    "\n",
    "__Input__: s = \"pwwkew\"  \n",
    "__Output__: 3  \n",
    "__Explanation__: The answer is \"wke\", with the length of 3.  \n",
    "Notice that the answer must be a substring, \"pwke\" is a subsequence and not a substring."
   ]
  },
  {
   "cell_type": "code",
   "execution_count": 1,
   "id": "8a9202cc",
   "metadata": {
    "ExecuteTime": {
     "end_time": "2022-10-15T12:46:01.546480Z",
     "start_time": "2022-10-15T12:46:01.543231Z"
    }
   },
   "outputs": [],
   "source": [
    "class Solution:\n",
    "    def lengthOfLongestSubstring(self, s):\n",
    "        def check(start, end):\n",
    "            chars = set()\n",
    "            for i in range(start, end + 1):\n",
    "                c = s[i]\n",
    "                if c in chars:\n",
    "                    return False\n",
    "                chars.add(c)\n",
    "            return True\n",
    "\n",
    "        n = len(s)\n",
    "\n",
    "        res = 0\n",
    "        for i in range(n):\n",
    "            for j in range(i, n):\n",
    "                if check(i, j):\n",
    "                    res = max(res, j - i + 1)\n",
    "        return res"
   ]
  },
  {
   "cell_type": "code",
   "execution_count": 2,
   "id": "589f81c5",
   "metadata": {
    "ExecuteTime": {
     "end_time": "2022-10-15T12:46:17.326854Z",
     "start_time": "2022-10-15T12:46:17.323479Z"
    }
   },
   "outputs": [],
   "source": [
    "from collections import Counter\n",
    "class Solution:\n",
    "    def lengthOfLongestSubstring(self, s):\n",
    "        chars = Counter()\n",
    "\n",
    "        left = right = 0\n",
    "\n",
    "        res = 0\n",
    "        while right < len(s):\n",
    "            r = s[right]\n",
    "            chars[r] += 1\n",
    "\n",
    "            while chars[r] > 1:\n",
    "                l = s[left]\n",
    "                chars[l] -= 1\n",
    "                left += 1\n",
    "\n",
    "            res = max(res, right - left + 1)\n",
    "\n",
    "            right += 1\n",
    "        return res"
   ]
  },
  {
   "cell_type": "code",
   "execution_count": 3,
   "id": "11567b00",
   "metadata": {
    "ExecuteTime": {
     "end_time": "2022-10-15T12:46:30.443708Z",
     "start_time": "2022-10-15T12:46:30.440363Z"
    }
   },
   "outputs": [],
   "source": [
    "class Solution:\n",
    "    def lengthOfLongestSubstring(self, s):\n",
    "        n = len(s)\n",
    "        ans = 0\n",
    "        # mp stores the current index of a character\n",
    "        mp = {}\n",
    "\n",
    "        i = 0\n",
    "        # try to extend the range [i, j]\n",
    "        for j in range(n):\n",
    "            if s[j] in mp:\n",
    "                i = max(mp[s[j]], i)\n",
    "\n",
    "            ans = max(ans, j - i + 1)\n",
    "            mp[s[j]] = j + 1\n",
    "\n",
    "        return ans"
   ]
  },
  {
   "cell_type": "code",
   "execution_count": 4,
   "id": "7a06c8ef",
   "metadata": {
    "ExecuteTime": {
     "end_time": "2022-10-15T12:46:43.378574Z",
     "start_time": "2022-10-15T12:46:43.375576Z"
    }
   },
   "outputs": [],
   "source": [
    "class Solution:\n",
    "    def lengthOfLongestSubstring(self, s):\n",
    "        chars = [None] * 128\n",
    "\n",
    "        left = right = 0\n",
    "\n",
    "        res = 0\n",
    "        while right < len(s):\n",
    "            r = s[right]\n",
    "\n",
    "            index = chars[ord(r)]\n",
    "            if index is not None and left <= index < right:\n",
    "                left = index + 1\n",
    "\n",
    "            res = max(res, right - left + 1)\n",
    "\n",
    "            chars[ord(r)] = right\n",
    "            right += 1\n",
    "        return res"
   ]
  },
  {
   "cell_type": "code",
   "execution_count": null,
   "id": "8b6bda85",
   "metadata": {},
   "outputs": [],
   "source": []
  }
 ],
 "metadata": {
  "hide_input": false,
  "kernelspec": {
   "display_name": "Python 3 (ipykernel)",
   "language": "python",
   "name": "python3"
  },
  "language_info": {
   "codemirror_mode": {
    "name": "ipython",
    "version": 3
   },
   "file_extension": ".py",
   "mimetype": "text/x-python",
   "name": "python",
   "nbconvert_exporter": "python",
   "pygments_lexer": "ipython3",
   "version": "3.9.7"
  },
  "toc": {
   "base_numbering": 1,
   "nav_menu": {},
   "number_sections": false,
   "sideBar": true,
   "skip_h1_title": false,
   "title_cell": "Table of Contents",
   "title_sidebar": "Contents",
   "toc_cell": false,
   "toc_position": {},
   "toc_section_display": true,
   "toc_window_display": false
  },
  "varInspector": {
   "cols": {
    "lenName": 16,
    "lenType": 16,
    "lenVar": 40
   },
   "kernels_config": {
    "python": {
     "delete_cmd_postfix": "",
     "delete_cmd_prefix": "del ",
     "library": "var_list.py",
     "varRefreshCmd": "print(var_dic_list())"
    },
    "r": {
     "delete_cmd_postfix": ") ",
     "delete_cmd_prefix": "rm(",
     "library": "var_list.r",
     "varRefreshCmd": "cat(var_dic_list()) "
    }
   },
   "types_to_exclude": [
    "module",
    "function",
    "builtin_function_or_method",
    "instance",
    "_Feature"
   ],
   "window_display": false
  }
 },
 "nbformat": 4,
 "nbformat_minor": 5
}
