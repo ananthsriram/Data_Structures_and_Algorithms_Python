{
 "cells": [
  {
   "cell_type": "markdown",
   "id": "94942f78",
   "metadata": {},
   "source": [
    "Given two strings s and t, return true if t is an anagram of s, and false otherwise.\n",
    "\n",
    "An Anagram is a word or phrase formed by rearranging the letters of a different word or phrase, typically using all the original letters exactly once.\n",
    "\n"
   ]
  },
  {
   "cell_type": "markdown",
   "id": "4bf7a504",
   "metadata": {},
   "source": [
    "## Example 1:\n",
    "\n",
    "__Input__ : s = \"anagram\", t = \"nagaram\"  \n",
    "__Output__: true\n",
    "\n",
    "## Example 2:\n",
    "\n",
    "__Input__ : s = \"rat\", t = \"car\"  \n",
    "__Output__: false"
   ]
  },
  {
   "cell_type": "code",
   "execution_count": 1,
   "id": "99c5c379",
   "metadata": {
    "ExecuteTime": {
     "end_time": "2022-10-14T17:11:27.654976Z",
     "start_time": "2022-10-14T17:11:27.651794Z"
    }
   },
   "outputs": [],
   "source": [
    "def isAnagram(s, t):\n",
    "    if len(s) != len(t):\n",
    "        return False\n",
    "\n",
    "    chars = {}\n",
    "    for i in s:\n",
    "        if i in chars:\n",
    "            chars[i] += 1\n",
    "        else:\n",
    "            chars[i] = 1\n",
    "    for x in t:\n",
    "        if x in chars:\n",
    "            chars[x] -= 1\n",
    "        else:\n",
    "            return False\n",
    "    for c in chars:\n",
    "        if chars[c] != 0:\n",
    "            return False\n",
    "    return True"
   ]
  },
  {
   "cell_type": "code",
   "execution_count": 3,
   "id": "7c66d8a0",
   "metadata": {
    "ExecuteTime": {
     "end_time": "2022-10-14T17:11:47.610960Z",
     "start_time": "2022-10-14T17:11:47.604645Z"
    }
   },
   "outputs": [
    {
     "data": {
      "text/plain": [
       "True"
      ]
     },
     "execution_count": 3,
     "metadata": {},
     "output_type": "execute_result"
    }
   ],
   "source": [
    "s = \"anagram\"\n",
    "t = \"nagaram\"\n",
    "\n",
    "isAnagram(s, t)"
   ]
  },
  {
   "cell_type": "code",
   "execution_count": 4,
   "id": "9628e0a8",
   "metadata": {
    "ExecuteTime": {
     "end_time": "2022-10-14T17:11:59.803550Z",
     "start_time": "2022-10-14T17:11:59.800585Z"
    }
   },
   "outputs": [
    {
     "data": {
      "text/plain": [
       "False"
      ]
     },
     "execution_count": 4,
     "metadata": {},
     "output_type": "execute_result"
    }
   ],
   "source": [
    "s = \"rat\"\n",
    "t = \"car\"\n",
    "\n",
    "isAnagram(s, t)"
   ]
  },
  {
   "cell_type": "code",
   "execution_count": null,
   "id": "c5f70177",
   "metadata": {},
   "outputs": [],
   "source": []
  }
 ],
 "metadata": {
  "hide_input": false,
  "kernelspec": {
   "display_name": "Python 3 (ipykernel)",
   "language": "python",
   "name": "python3"
  },
  "language_info": {
   "codemirror_mode": {
    "name": "ipython",
    "version": 3
   },
   "file_extension": ".py",
   "mimetype": "text/x-python",
   "name": "python",
   "nbconvert_exporter": "python",
   "pygments_lexer": "ipython3",
   "version": "3.9.7"
  },
  "toc": {
   "base_numbering": 1,
   "nav_menu": {},
   "number_sections": false,
   "sideBar": true,
   "skip_h1_title": false,
   "title_cell": "Table of Contents",
   "title_sidebar": "Contents",
   "toc_cell": false,
   "toc_position": {},
   "toc_section_display": true,
   "toc_window_display": false
  },
  "varInspector": {
   "cols": {
    "lenName": 16,
    "lenType": 16,
    "lenVar": 40
   },
   "kernels_config": {
    "python": {
     "delete_cmd_postfix": "",
     "delete_cmd_prefix": "del ",
     "library": "var_list.py",
     "varRefreshCmd": "print(var_dic_list())"
    },
    "r": {
     "delete_cmd_postfix": ") ",
     "delete_cmd_prefix": "rm(",
     "library": "var_list.r",
     "varRefreshCmd": "cat(var_dic_list()) "
    }
   },
   "types_to_exclude": [
    "module",
    "function",
    "builtin_function_or_method",
    "instance",
    "_Feature"
   ],
   "window_display": false
  }
 },
 "nbformat": 4,
 "nbformat_minor": 5
}
