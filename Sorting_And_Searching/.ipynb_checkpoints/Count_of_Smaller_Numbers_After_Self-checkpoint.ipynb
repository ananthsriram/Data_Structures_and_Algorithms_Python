{
 "cells": [
  {
   "cell_type": "markdown",
   "id": "ed287486",
   "metadata": {},
   "source": [
    "Given an integer array nums, return an integer array counts where counts[i] is the number of smaller elements to the right of nums[i]."
   ]
  },
  {
   "cell_type": "markdown",
   "id": "a16bf474",
   "metadata": {},
   "source": [
    "## Example 1:\n",
    "\n",
    "__Input__: nums = [5,2,6,1]  \n",
    "__Output__: [2,1,1,0]  \n",
    "__Explanation__:  \n",
    "To the right of 5 there are 2 smaller elements (2 and 1).  \n",
    "To the right of 2 there is only 1 smaller element (1).  \n",
    "To the right of 6 there is 1 smaller element (1).  \n",
    "To the right of 1 there is 0 smaller element.  \n",
    "\n",
    "\n",
    "## Example 2:\n",
    "\n",
    "__Input__: nums = [-1]  \n",
    "__Output__: [0]\n",
    "\n",
    "## Example 3:\n",
    "\n",
    "__Input__: nums = [-1,-1]  \n",
    "__Output__: [0,0]"
   ]
  },
  {
   "cell_type": "code",
   "execution_count": 9,
   "id": "bc373f2b",
   "metadata": {
    "ExecuteTime": {
     "end_time": "2022-10-15T15:26:23.076581Z",
     "start_time": "2022-10-15T15:26:23.071293Z"
    }
   },
   "outputs": [],
   "source": [
    "def countSmaller(nums):\n",
    "    # implement segment tree\n",
    "    def update(index, value, tree, size):\n",
    "        index += size  # shift the index to the leaf\n",
    "        # update from leaf to root\n",
    "        tree[index] += value\n",
    "        while index > 1:\n",
    "            index //= 2\n",
    "            tree[index] = tree[index * 2] + tree[index * 2 + 1]\n",
    "\n",
    "    def query(left, right, tree, size):\n",
    "        # return sum of [left, right)\n",
    "        result = 0\n",
    "        left += size  # shift the index to the leaf\n",
    "        right += size\n",
    "        while left < right:\n",
    "            # if left is a right node\n",
    "            # bring the value and move to parent's right node\n",
    "            if left % 2 == 1:\n",
    "                result += tree[left]\n",
    "                left += 1\n",
    "            # else directly move to parent\n",
    "            left //= 2\n",
    "            # if right is a right node\n",
    "            # bring the value of the left node and move to parent\n",
    "            if right % 2 == 1:\n",
    "                right -= 1\n",
    "                result += tree[right]\n",
    "            # else directly move to parent\n",
    "            right //= 2\n",
    "        return result\n",
    "\n",
    "    offset = 10**4  # offset negative to non-negative\n",
    "    size = 2 * 10**4 + 1  # total possible values in nums\n",
    "    tree = [0] * (2 * size)\n",
    "    result = []\n",
    "    for num in reversed(nums):\n",
    "        smaller_count = query(0, num + offset, tree, size)\n",
    "        result.append(smaller_count)\n",
    "        update(num + offset, 1, tree, size)\n",
    "    return list(reversed(result))"
   ]
  },
  {
   "cell_type": "code",
   "execution_count": 10,
   "id": "122c9908",
   "metadata": {
    "ExecuteTime": {
     "end_time": "2022-10-15T15:26:23.670189Z",
     "start_time": "2022-10-15T15:26:23.667267Z"
    }
   },
   "outputs": [
    {
     "data": {
      "text/plain": [
       "[2, 1, 1, 0]"
      ]
     },
     "execution_count": 10,
     "metadata": {},
     "output_type": "execute_result"
    }
   ],
   "source": [
    "nums = [5,2,6,1]\n",
    "countSmaller(nums)\n"
   ]
  },
  {
   "cell_type": "code",
   "execution_count": 11,
   "id": "adf99e5e",
   "metadata": {
    "ExecuteTime": {
     "end_time": "2022-10-15T15:26:28.630531Z",
     "start_time": "2022-10-15T15:26:28.627745Z"
    }
   },
   "outputs": [
    {
     "data": {
      "text/plain": [
       "[0]"
      ]
     },
     "execution_count": 11,
     "metadata": {},
     "output_type": "execute_result"
    }
   ],
   "source": [
    "nums = [-1]\n",
    "countSmaller(nums)"
   ]
  },
  {
   "cell_type": "code",
   "execution_count": 12,
   "id": "ca496200",
   "metadata": {
    "ExecuteTime": {
     "end_time": "2022-10-15T15:26:36.888623Z",
     "start_time": "2022-10-15T15:26:36.885439Z"
    }
   },
   "outputs": [
    {
     "data": {
      "text/plain": [
       "[0, 0]"
      ]
     },
     "execution_count": 12,
     "metadata": {},
     "output_type": "execute_result"
    }
   ],
   "source": [
    "nums = [-1,-1]\n",
    "countSmaller(nums)"
   ]
  },
  {
   "cell_type": "code",
   "execution_count": 16,
   "id": "f17c45bd",
   "metadata": {
    "ExecuteTime": {
     "end_time": "2022-10-15T15:27:20.604580Z",
     "start_time": "2022-10-15T15:27:20.600675Z"
    }
   },
   "outputs": [],
   "source": [
    "def countSmaller(nums):\n",
    "    # implement Binary Index Tree\n",
    "    def update(index, value, tree, size):\n",
    "        index += 1  # index in BIT is 1 more than the original index\n",
    "        while index < size:\n",
    "            tree[index] += value\n",
    "            index += index & -index\n",
    "\n",
    "    def query(index, tree):\n",
    "        # return sum of [0, index)\n",
    "        result = 0\n",
    "        while index >= 1:\n",
    "            result += tree[index]\n",
    "            index -= index & -index\n",
    "        return result\n",
    "\n",
    "    offset = 10**4  # offset negative to non-negative\n",
    "    size = 2 * 10**4 + 2  # total possible values in nums plus one dummy\n",
    "    tree = [0] * size\n",
    "    result = []\n",
    "    for num in reversed(nums):\n",
    "        smaller_count = query(num + offset, tree)\n",
    "        result.append(smaller_count)\n",
    "        update(num + offset, 1, tree, size)\n",
    "    return list(reversed(result))"
   ]
  },
  {
   "cell_type": "code",
   "execution_count": 17,
   "id": "da25fd54",
   "metadata": {
    "ExecuteTime": {
     "end_time": "2022-10-15T15:27:20.872056Z",
     "start_time": "2022-10-15T15:27:20.868827Z"
    }
   },
   "outputs": [
    {
     "data": {
      "text/plain": [
       "[2, 1, 1, 0]"
      ]
     },
     "execution_count": 17,
     "metadata": {},
     "output_type": "execute_result"
    }
   ],
   "source": [
    "nums = [5,2,6,1]\n",
    "countSmaller(nums)"
   ]
  },
  {
   "cell_type": "code",
   "execution_count": 18,
   "id": "9df379a2",
   "metadata": {
    "ExecuteTime": {
     "end_time": "2022-10-15T15:27:26.791572Z",
     "start_time": "2022-10-15T15:27:26.788703Z"
    }
   },
   "outputs": [
    {
     "data": {
      "text/plain": [
       "[0]"
      ]
     },
     "execution_count": 18,
     "metadata": {},
     "output_type": "execute_result"
    }
   ],
   "source": [
    "nums = [-1]\n",
    "countSmaller(nums)"
   ]
  },
  {
   "cell_type": "code",
   "execution_count": 19,
   "id": "302b51a8",
   "metadata": {
    "ExecuteTime": {
     "end_time": "2022-10-15T15:27:32.392015Z",
     "start_time": "2022-10-15T15:27:32.388853Z"
    }
   },
   "outputs": [
    {
     "data": {
      "text/plain": [
       "[0, 0]"
      ]
     },
     "execution_count": 19,
     "metadata": {},
     "output_type": "execute_result"
    }
   ],
   "source": [
    "nums = [-1,-1]\n",
    "countSmaller(nums)"
   ]
  },
  {
   "cell_type": "code",
   "execution_count": null,
   "id": "6d4dffcd",
   "metadata": {},
   "outputs": [],
   "source": []
  }
 ],
 "metadata": {
  "hide_input": false,
  "kernelspec": {
   "display_name": "Python 3 (ipykernel)",
   "language": "python",
   "name": "python3"
  },
  "language_info": {
   "codemirror_mode": {
    "name": "ipython",
    "version": 3
   },
   "file_extension": ".py",
   "mimetype": "text/x-python",
   "name": "python",
   "nbconvert_exporter": "python",
   "pygments_lexer": "ipython3",
   "version": "3.9.7"
  },
  "toc": {
   "base_numbering": 1,
   "nav_menu": {},
   "number_sections": false,
   "sideBar": true,
   "skip_h1_title": false,
   "title_cell": "Table of Contents",
   "title_sidebar": "Contents",
   "toc_cell": false,
   "toc_position": {},
   "toc_section_display": true,
   "toc_window_display": false
  },
  "varInspector": {
   "cols": {
    "lenName": 16,
    "lenType": 16,
    "lenVar": 40
   },
   "kernels_config": {
    "python": {
     "delete_cmd_postfix": "",
     "delete_cmd_prefix": "del ",
     "library": "var_list.py",
     "varRefreshCmd": "print(var_dic_list())"
    },
    "r": {
     "delete_cmd_postfix": ") ",
     "delete_cmd_prefix": "rm(",
     "library": "var_list.r",
     "varRefreshCmd": "cat(var_dic_list()) "
    }
   },
   "types_to_exclude": [
    "module",
    "function",
    "builtin_function_or_method",
    "instance",
    "_Feature"
   ],
   "window_display": false
  }
 },
 "nbformat": 4,
 "nbformat_minor": 5
}
