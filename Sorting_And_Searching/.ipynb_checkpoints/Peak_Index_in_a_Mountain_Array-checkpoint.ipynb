{
 "cells": [
  {
   "cell_type": "markdown",
   "id": "1b6e60d3",
   "metadata": {},
   "source": [
    "An array arr a mountain if the following properties hold:\n",
    "\n",
    "- arr.length >= 3\n",
    "- There exists some i with 0 < i < arr.length - 1 such that:\n",
    "    - arr[0] < arr[1] < ... < arr[i - 1] < arr[i]\n",
    "    - arr[i] > arr[i + 1] > ... > arr[arr.length - 1]\n",
    "    \n",
    "    \n",
    "Given a mountain array arr, return the index i such that arr[0] < arr[1] < ... < arr[i - 1] < arr[i] > arr[i + 1] > ... > arr[arr.length - 1].\n",
    "\n",
    "You must solve it in O(log(arr.length)) time complexity."
   ]
  },
  {
   "cell_type": "markdown",
   "id": "1126e2fb",
   "metadata": {},
   "source": [
    "## Example 1:\n",
    "\n",
    "__Input__: arr = [0,1,0]  \n",
    "__Output__: 1\n",
    "\n",
    "## Example 2:\n",
    "\n",
    "__Input__: arr = [0,2,1,0]  \n",
    "__Output__: 1\n",
    "\n",
    "## Example 3:\n",
    "\n",
    "__Input__: arr = [0,10,5,2]  \n",
    "__Output__: 1"
   ]
  },
  {
   "cell_type": "code",
   "execution_count": 10,
   "id": "14396374",
   "metadata": {
    "ExecuteTime": {
     "end_time": "2022-10-15T15:30:58.198861Z",
     "start_time": "2022-10-15T15:30:58.196739Z"
    }
   },
   "outputs": [],
   "source": [
    "def peakIndexInMountainArray(A):\n",
    "    for i in range(len(A)):\n",
    "        if A[i] > A[i+1]:\n",
    "            return i"
   ]
  },
  {
   "cell_type": "code",
   "execution_count": 11,
   "id": "57097739",
   "metadata": {
    "ExecuteTime": {
     "end_time": "2022-10-15T15:30:58.527229Z",
     "start_time": "2022-10-15T15:30:58.524175Z"
    }
   },
   "outputs": [
    {
     "data": {
      "text/plain": [
       "1"
      ]
     },
     "execution_count": 11,
     "metadata": {},
     "output_type": "execute_result"
    }
   ],
   "source": [
    "arr = [0,1,0]\n",
    "peakIndexInMountainArray(arr)"
   ]
  },
  {
   "cell_type": "code",
   "execution_count": 12,
   "id": "b4b5759f",
   "metadata": {
    "ExecuteTime": {
     "end_time": "2022-10-15T15:30:58.919426Z",
     "start_time": "2022-10-15T15:30:58.916734Z"
    }
   },
   "outputs": [
    {
     "data": {
      "text/plain": [
       "1"
      ]
     },
     "execution_count": 12,
     "metadata": {},
     "output_type": "execute_result"
    }
   ],
   "source": [
    "arr = [0,2,1,0]\n",
    "peakIndexInMountainArray(arr)"
   ]
  },
  {
   "cell_type": "code",
   "execution_count": 13,
   "id": "607187ec",
   "metadata": {
    "ExecuteTime": {
     "end_time": "2022-10-15T15:30:59.200102Z",
     "start_time": "2022-10-15T15:30:59.197276Z"
    }
   },
   "outputs": [
    {
     "data": {
      "text/plain": [
       "1"
      ]
     },
     "execution_count": 13,
     "metadata": {},
     "output_type": "execute_result"
    }
   ],
   "source": [
    "arr = [0,10,5,2]\n",
    "peakIndexInMountainArray(arr)"
   ]
  },
  {
   "cell_type": "code",
   "execution_count": null,
   "id": "d772d241",
   "metadata": {},
   "outputs": [],
   "source": []
  }
 ],
 "metadata": {
  "hide_input": false,
  "kernelspec": {
   "display_name": "Python 3 (ipykernel)",
   "language": "python",
   "name": "python3"
  },
  "language_info": {
   "codemirror_mode": {
    "name": "ipython",
    "version": 3
   },
   "file_extension": ".py",
   "mimetype": "text/x-python",
   "name": "python",
   "nbconvert_exporter": "python",
   "pygments_lexer": "ipython3",
   "version": "3.9.7"
  },
  "toc": {
   "base_numbering": 1,
   "nav_menu": {},
   "number_sections": false,
   "sideBar": true,
   "skip_h1_title": false,
   "title_cell": "Table of Contents",
   "title_sidebar": "Contents",
   "toc_cell": false,
   "toc_position": {},
   "toc_section_display": true,
   "toc_window_display": false
  },
  "varInspector": {
   "cols": {
    "lenName": 16,
    "lenType": 16,
    "lenVar": 40
   },
   "kernels_config": {
    "python": {
     "delete_cmd_postfix": "",
     "delete_cmd_prefix": "del ",
     "library": "var_list.py",
     "varRefreshCmd": "print(var_dic_list())"
    },
    "r": {
     "delete_cmd_postfix": ") ",
     "delete_cmd_prefix": "rm(",
     "library": "var_list.r",
     "varRefreshCmd": "cat(var_dic_list()) "
    }
   },
   "types_to_exclude": [
    "module",
    "function",
    "builtin_function_or_method",
    "instance",
    "_Feature"
   ],
   "window_display": false
  }
 },
 "nbformat": 4,
 "nbformat_minor": 5
}
