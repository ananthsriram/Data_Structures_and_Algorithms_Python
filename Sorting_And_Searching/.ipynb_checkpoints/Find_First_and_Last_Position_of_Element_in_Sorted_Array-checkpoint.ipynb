{
 "cells": [
  {
   "cell_type": "markdown",
   "id": "8ab1c128",
   "metadata": {},
   "source": [
    "Given an array of integers nums sorted in non-decreasing order, find the starting and ending position of a given target value.\n",
    "\n",
    "If target is not found in the array, return [-1, -1].\n",
    "\n",
    "You must write an algorithm with O(log n) runtime complexity."
   ]
  },
  {
   "cell_type": "markdown",
   "id": "8422f1e9",
   "metadata": {},
   "source": [
    "## Example 1:\n",
    "\n",
    "__Input__: nums = [5,7,7,8,8,10], target = 8  \n",
    "__Output__: [3,4]\n",
    "\n",
    "\n",
    "## Example 2:\n",
    "\n",
    "__Input__: nums = [5,7,7,8,8,10], target = 6  \n",
    "__Output__: [-1,-1]\n",
    "\n",
    "\n",
    "## Example 3:\n",
    "\n",
    "__Input__: nums = [], target = 0  \n",
    "__Output__: [-1,-1]"
   ]
  },
  {
   "cell_type": "code",
   "execution_count": 3,
   "id": "56a24fec",
   "metadata": {
    "ExecuteTime": {
     "end_time": "2022-10-15T15:06:25.785076Z",
     "start_time": "2022-10-15T15:06:25.780628Z"
    }
   },
   "outputs": [],
   "source": [
    "class Solution:\n",
    "    def searchRange(self, nums, target):\n",
    "        \n",
    "        lower_bound = self.findBound(nums, target, True)\n",
    "        if (lower_bound == -1):\n",
    "            return [-1, -1]\n",
    "        \n",
    "        upper_bound = self.findBound(nums, target, False)\n",
    "        \n",
    "        return [lower_bound, upper_bound]\n",
    "        \n",
    "    def findBound(self, nums, target, isFirst):\n",
    "        \n",
    "        N = len(nums)\n",
    "        begin, end = 0, N - 1\n",
    "        while begin <= end:\n",
    "            mid = int((begin + end) / 2)    \n",
    "            \n",
    "            if nums[mid] == target:\n",
    "                \n",
    "                if isFirst:\n",
    "                    # This means we found our lower bound.\n",
    "                    if mid == begin or nums[mid - 1] < target:\n",
    "                        return mid\n",
    "\n",
    "                    # Search on the left side for the bound.\n",
    "                    end = mid - 1\n",
    "                else:\n",
    "                    \n",
    "                    # This means we found our upper bound.\n",
    "                    if mid == end or nums[mid + 1] > target:\n",
    "                        return mid\n",
    "                    \n",
    "                    # Search on the right side for the bound.\n",
    "                    begin = mid + 1\n",
    "            \n",
    "            elif nums[mid] > target:\n",
    "                end = mid - 1\n",
    "            else:\n",
    "                begin = mid + 1\n",
    "        \n",
    "        return -1"
   ]
  },
  {
   "cell_type": "code",
   "execution_count": 4,
   "id": "cd16a9cd",
   "metadata": {
    "ExecuteTime": {
     "end_time": "2022-10-15T15:07:02.514673Z",
     "start_time": "2022-10-15T15:07:02.510447Z"
    }
   },
   "outputs": [],
   "source": [
    "class Solution:\n",
    "    def searchRange(self, nums, target):\n",
    "        if len(nums) == 0: return [-1, -1]\n",
    "        \n",
    "        def searchLow(nums, target):\n",
    "            head, tail = 0, len(nums) - 1\n",
    "            while head <= tail:\n",
    "                mid = (head + tail)//2\n",
    "                if nums[mid] >= target:\n",
    "                    tail = mid - 1\n",
    "                else:\n",
    "                    head = mid + 1\n",
    "            return head\n",
    "                \n",
    "        def searchHigh(nums, target):\n",
    "            head, tail = 0, len(nums) - 1\n",
    "            while head <= tail:\n",
    "                mid = (head + tail)//2\n",
    "                if nums[mid] > target:\n",
    "                    tail = mid - 1\n",
    "                else:\n",
    "                    head = mid + 1\n",
    "            return tail\n",
    "        \n",
    "        start = searchLow(nums, target)\n",
    "        end = searchHigh(nums, target)\n",
    "        if 0 <= start < len(nums) and start <= end and nums[start] == target:\n",
    "            return [start, end]\n",
    "        else:\n",
    "            return [-1, -1]"
   ]
  },
  {
   "cell_type": "code",
   "execution_count": 6,
   "id": "c41b6924",
   "metadata": {
    "ExecuteTime": {
     "end_time": "2022-10-15T15:07:45.903465Z",
     "start_time": "2022-10-15T15:07:45.899981Z"
    }
   },
   "outputs": [],
   "source": [
    "def searchRange(nums, target):\n",
    "    if target not in nums:\n",
    "        return [-1, -1]\n",
    "    n, i, j = len(nums), -1, -1\n",
    "    lo, hi = 0, n - 1\n",
    "    while lo <= hi:\n",
    "        mid = lo + (hi - lo) // 2\n",
    "        if nums[mid] < target:\n",
    "            lo = mid + 1\n",
    "        elif nums[mid] > target:\n",
    "            hi = mid\n",
    "        else:\n",
    "            i, j = mid, mid\n",
    "            while i - 1 >= 0 and nums[i - 1] == target:\n",
    "                i -= 1\n",
    "            while j + 1 < n and nums[j + 1] == target:\n",
    "                j += 1\n",
    "            break\n",
    "    return [i, j]"
   ]
  },
  {
   "cell_type": "code",
   "execution_count": 7,
   "id": "893f9a88",
   "metadata": {
    "ExecuteTime": {
     "end_time": "2022-10-15T15:07:59.704039Z",
     "start_time": "2022-10-15T15:07:59.697113Z"
    }
   },
   "outputs": [
    {
     "data": {
      "text/plain": [
       "[3, 4]"
      ]
     },
     "execution_count": 7,
     "metadata": {},
     "output_type": "execute_result"
    }
   ],
   "source": [
    "nums = [5,7,7,8,8,10]\n",
    "target = 8\n",
    "searchRange(nums, target)"
   ]
  },
  {
   "cell_type": "code",
   "execution_count": 8,
   "id": "cfcf937b",
   "metadata": {
    "ExecuteTime": {
     "end_time": "2022-10-15T15:08:12.030420Z",
     "start_time": "2022-10-15T15:08:12.027347Z"
    }
   },
   "outputs": [
    {
     "data": {
      "text/plain": [
       "[-1, -1]"
      ]
     },
     "execution_count": 8,
     "metadata": {},
     "output_type": "execute_result"
    }
   ],
   "source": [
    "nums = [5,7,7,8,8,10]\n",
    "target = 6\n",
    "searchRange(nums, target)"
   ]
  },
  {
   "cell_type": "code",
   "execution_count": 9,
   "id": "8bb9dc75",
   "metadata": {
    "ExecuteTime": {
     "end_time": "2022-10-15T15:08:26.373942Z",
     "start_time": "2022-10-15T15:08:26.370559Z"
    }
   },
   "outputs": [
    {
     "data": {
      "text/plain": [
       "[-1, -1]"
      ]
     },
     "execution_count": 9,
     "metadata": {},
     "output_type": "execute_result"
    }
   ],
   "source": [
    "nums = []\n",
    "target = 0\n",
    "searchRange(nums, target)"
   ]
  },
  {
   "cell_type": "code",
   "execution_count": null,
   "id": "7eb84b75",
   "metadata": {},
   "outputs": [],
   "source": []
  }
 ],
 "metadata": {
  "hide_input": false,
  "kernelspec": {
   "display_name": "Python 3 (ipykernel)",
   "language": "python",
   "name": "python3"
  },
  "language_info": {
   "codemirror_mode": {
    "name": "ipython",
    "version": 3
   },
   "file_extension": ".py",
   "mimetype": "text/x-python",
   "name": "python",
   "nbconvert_exporter": "python",
   "pygments_lexer": "ipython3",
   "version": "3.9.7"
  },
  "toc": {
   "base_numbering": 1,
   "nav_menu": {},
   "number_sections": false,
   "sideBar": true,
   "skip_h1_title": false,
   "title_cell": "Table of Contents",
   "title_sidebar": "Contents",
   "toc_cell": false,
   "toc_position": {},
   "toc_section_display": true,
   "toc_window_display": false
  },
  "varInspector": {
   "cols": {
    "lenName": 16,
    "lenType": 16,
    "lenVar": 40
   },
   "kernels_config": {
    "python": {
     "delete_cmd_postfix": "",
     "delete_cmd_prefix": "del ",
     "library": "var_list.py",
     "varRefreshCmd": "print(var_dic_list())"
    },
    "r": {
     "delete_cmd_postfix": ") ",
     "delete_cmd_prefix": "rm(",
     "library": "var_list.r",
     "varRefreshCmd": "cat(var_dic_list()) "
    }
   },
   "types_to_exclude": [
    "module",
    "function",
    "builtin_function_or_method",
    "instance",
    "_Feature"
   ],
   "window_display": false
  }
 },
 "nbformat": 4,
 "nbformat_minor": 5
}
