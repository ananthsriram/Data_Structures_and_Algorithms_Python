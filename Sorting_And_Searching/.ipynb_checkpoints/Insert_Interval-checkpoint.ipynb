{
 "cells": [
  {
   "cell_type": "markdown",
   "id": "75fe04e5",
   "metadata": {},
   "source": [
    "You are given an array of non-overlapping intervals intervals where intervals[i] = [starti, endi] represent the start and the end of the ith interval and intervals is sorted in ascending order by starti. You are also given an interval newInterval = [start, end] that represents the start and end of another interval.\n",
    "\n",
    "Insert newInterval into intervals such that intervals is still sorted in ascending order by starti and intervals still does not have any overlapping intervals (merge overlapping intervals if necessary).\n",
    "\n",
    "Return intervals after the insertion."
   ]
  },
  {
   "cell_type": "markdown",
   "id": "31cd7a4f",
   "metadata": {},
   "source": [
    "## Example 1:\n",
    "\n",
    "__Input__: intervals = [[1,3],[6,9]], newInterval = [2,5]  \n",
    "__Output__: [[1,5],[6,9]]\n",
    "\n",
    "\n",
    "## Example 2:\n",
    "\n",
    "__Input__: intervals = [[1,2],[3,5],[6,7],[8,10],[12,16]], newInterval = [4,8]  \n",
    "__Output__: [[1,2],[3,10],[12,16]]  \n",
    "__Explanation__: Because the new interval [4,8] overlaps with [3,5],[6,7],[8,10]."
   ]
  },
  {
   "cell_type": "code",
   "execution_count": 2,
   "id": "fd27a674",
   "metadata": {
    "ExecuteTime": {
     "end_time": "2022-10-15T15:13:20.226761Z",
     "start_time": "2022-10-15T15:13:20.222741Z"
    }
   },
   "outputs": [],
   "source": [
    "def insert(intervals, newInterval):\n",
    "    # init data\n",
    "    new_start, new_end = newInterval\n",
    "    idx, n = 0, len(intervals)\n",
    "    output = []\n",
    "    \n",
    "    # add all intervals starting before newInterval\n",
    "    while idx < n and new_start > intervals[idx][0]:\n",
    "        output.append(intervals[idx])\n",
    "        idx += 1\n",
    "        \n",
    "    # add newInterval\n",
    "    # if there is no overlap, just add the interval\n",
    "    if not output or output[-1][1] < new_start:\n",
    "        output.append(newInterval)\n",
    "    # if there is an overlap, merge with the last interval\n",
    "    else:\n",
    "        output[-1][1] = max(output[-1][1], new_end)\n",
    "    \n",
    "    # add next intervals, merge with newInterval if needed\n",
    "    while idx < n:\n",
    "        interval = intervals[idx]\n",
    "        start, end = interval\n",
    "        idx += 1\n",
    "        # if there is no overlap, just add an interval\n",
    "        if output[-1][1] < start:\n",
    "            output.append(interval)\n",
    "        # if there is an overlap, merge with the last interval\n",
    "        else:\n",
    "            output[-1][1] = max(output[-1][1], end)\n",
    "    return output"
   ]
  },
  {
   "cell_type": "code",
   "execution_count": 3,
   "id": "eaae80cc",
   "metadata": {
    "ExecuteTime": {
     "end_time": "2022-10-15T15:13:33.797370Z",
     "start_time": "2022-10-15T15:13:33.791042Z"
    }
   },
   "outputs": [
    {
     "data": {
      "text/plain": [
       "[[1, 5], [6, 9]]"
      ]
     },
     "execution_count": 3,
     "metadata": {},
     "output_type": "execute_result"
    }
   ],
   "source": [
    "intervals = [[1,3],[6,9]]\n",
    "newInterval = [2,5]\n",
    "insert(intervals, newInterval)"
   ]
  },
  {
   "cell_type": "code",
   "execution_count": 4,
   "id": "7ac7b142",
   "metadata": {
    "ExecuteTime": {
     "end_time": "2022-10-15T15:13:47.373528Z",
     "start_time": "2022-10-15T15:13:47.370041Z"
    }
   },
   "outputs": [
    {
     "data": {
      "text/plain": [
       "[[1, 2], [3, 10], [12, 16]]"
      ]
     },
     "execution_count": 4,
     "metadata": {},
     "output_type": "execute_result"
    }
   ],
   "source": [
    "intervals = [[1,2],[3,5],[6,7],[8,10],[12,16]]\n",
    "newInterval = [4,8]\n",
    "insert(intervals, newInterval)"
   ]
  },
  {
   "cell_type": "code",
   "execution_count": null,
   "id": "3995763b",
   "metadata": {},
   "outputs": [],
   "source": []
  }
 ],
 "metadata": {
  "hide_input": false,
  "kernelspec": {
   "display_name": "Python 3 (ipykernel)",
   "language": "python",
   "name": "python3"
  },
  "language_info": {
   "codemirror_mode": {
    "name": "ipython",
    "version": 3
   },
   "file_extension": ".py",
   "mimetype": "text/x-python",
   "name": "python",
   "nbconvert_exporter": "python",
   "pygments_lexer": "ipython3",
   "version": "3.9.7"
  },
  "toc": {
   "base_numbering": 1,
   "nav_menu": {},
   "number_sections": false,
   "sideBar": true,
   "skip_h1_title": false,
   "title_cell": "Table of Contents",
   "title_sidebar": "Contents",
   "toc_cell": false,
   "toc_position": {},
   "toc_section_display": true,
   "toc_window_display": false
  },
  "varInspector": {
   "cols": {
    "lenName": 16,
    "lenType": 16,
    "lenVar": 40
   },
   "kernels_config": {
    "python": {
     "delete_cmd_postfix": "",
     "delete_cmd_prefix": "del ",
     "library": "var_list.py",
     "varRefreshCmd": "print(var_dic_list())"
    },
    "r": {
     "delete_cmd_postfix": ") ",
     "delete_cmd_prefix": "rm(",
     "library": "var_list.r",
     "varRefreshCmd": "cat(var_dic_list()) "
    }
   },
   "types_to_exclude": [
    "module",
    "function",
    "builtin_function_or_method",
    "instance",
    "_Feature"
   ],
   "window_display": false
  }
 },
 "nbformat": 4,
 "nbformat_minor": 5
}
