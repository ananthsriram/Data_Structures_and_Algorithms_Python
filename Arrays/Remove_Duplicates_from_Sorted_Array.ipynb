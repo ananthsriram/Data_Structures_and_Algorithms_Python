{
 "cells": [
  {
   "cell_type": "markdown",
   "id": "fc67455b",
   "metadata": {
    "ExecuteTime": {
     "end_time": "2022-05-10T13:59:38.150036Z",
     "start_time": "2022-05-10T13:59:38.147906Z"
    }
   },
   "source": [
    "Given an integer array nums sorted in non-decreasing order, remove the duplicates in-place such that each unique element appears only once. The relative order of the elements should be kept the same.\n",
    "\n",
    "Since it is impossible to change the length of the array in some languages, you must instead have the result be placed in the first part of the array nums. More formally, if there are k elements after removing the duplicates, then the first k elements of nums should hold the final result. It does not matter what you leave beyond the first k elements.\n",
    "\n",
    "Return k after placing the final result in the first k slots of nums.\n",
    "\n",
    "Do not allocate extra space for another array. You must do this by modifying the input array in-place with O(1) extra memory."
   ]
  },
  {
   "cell_type": "markdown",
   "id": "a4335efd",
   "metadata": {
    "ExecuteTime": {
     "end_time": "2022-05-10T13:59:22.682585Z",
     "start_time": "2022-05-10T13:59:22.679983Z"
    }
   },
   "source": [
    "# Example 1\n",
    "\n",
    "Input: nums = [1,1,2]\n",
    "\n",
    "Output: 2, nums = [1,2,-]\n",
    "\n",
    "Explanation: Your function should return k = 2, with the first two elements of nums being 1 and 2 respectively.\n",
    "It does not matter what you leave beyond the returned k (hence they are underscores)."
   ]
  },
  {
   "cell_type": "markdown",
   "id": "85a46e89",
   "metadata": {},
   "source": [
    "# Example 2\n",
    "\n",
    "Input: nums = [0,0,1,1,1,2,2,3,3,4]\n",
    "\n",
    "Output: 5, nums = [0,1,2,3,4,-,-,-,-,-]\n",
    "\n",
    "Explanation: Your function should return k = 5, with the first five elements of nums being 0, 1, 2, 3, and 4 respectively.\n",
    "It does not matter what you leave beyond the returned k (hence they are underscores).\n"
   ]
  },
  {
   "cell_type": "markdown",
   "id": "5e7acfed",
   "metadata": {},
   "source": [
    "## Approach 1 -- O(n^2)"
   ]
  },
  {
   "cell_type": "code",
   "execution_count": 25,
   "id": "238d0403",
   "metadata": {
    "ExecuteTime": {
     "end_time": "2022-06-30T17:53:14.571624Z",
     "start_time": "2022-06-30T17:53:14.566220Z"
    },
    "hide_input": false,
    "scrolled": false
   },
   "outputs": [
    {
     "name": "stdout",
     "output_type": "stream",
     "text": [
      "5 [0, 1, 2, 3, 4, '-', '-', '-', '-', '-']\n",
      "8 [0, 1, 2, 3, 5, 8, 9, 13, '-', '-', '-', '-', '-', '-', '-', '-', '-']\n"
     ]
    }
   ],
   "source": [
    "def remove_duplicates(nums):\n",
    "    length = len(nums)\n",
    "    for i in range(1,length):\n",
    "        if nums[i] == '-':\n",
    "            unique_values = i\n",
    "            break\n",
    "        if nums[i] == nums[i-1]:\n",
    "            j = i\n",
    "            while j in range(i,length):\n",
    "                if j == length-1:\n",
    "                    nums[j] = '-' \n",
    "                    if nums[i] == nums[i-1]:\n",
    "                        j = i\n",
    "                    else:\n",
    "                        j = j + 1\n",
    "                else:\n",
    "                    nums[j] = nums[j+1]\n",
    "                    j = j + 1\n",
    "\n",
    "    return unique_values,nums\n",
    "      \n",
    "\n",
    "nums_1 = [0, 0, 1, 1, 1, 2, 2, 3, 3, 4]\n",
    "nums_2 = [0, 0, 1, 1, 1, 2, 2, 3, 3, 5, 5, 8, 9, 9, 9, 9, 13]\n",
    "unique_values,nums = remove_duplicates(nums_1)\n",
    "print (unique_values,nums)\n",
    "\n",
    "unique_values,nums = remove_duplicates(nums_2)\n",
    "print (unique_values,nums)"
   ]
  },
  {
   "cell_type": "markdown",
   "id": "06fc2260",
   "metadata": {},
   "source": [
    "## Approach 2 -- O(n)"
   ]
  },
  {
   "cell_type": "code",
   "execution_count": 29,
   "id": "24f89ec2",
   "metadata": {
    "ExecuteTime": {
     "end_time": "2022-06-30T18:00:46.180881Z",
     "start_time": "2022-06-30T18:00:46.176980Z"
    }
   },
   "outputs": [
    {
     "data": {
      "text/plain": [
       "(5, [0, 1, 2, 3, 4])"
      ]
     },
     "execution_count": 29,
     "metadata": {},
     "output_type": "execute_result"
    }
   ],
   "source": [
    "def removeDuplicates(nums):\n",
    "    \"\"\"\n",
    "    :type nums: List[int]\n",
    "    :rtype: int\n",
    "    \"\"\"\n",
    "    len_ = 1\n",
    "    if len(nums)==0:\n",
    "        return 0\n",
    "    for i in range(1,len(nums)):\n",
    "        if nums[i] != nums[i-1]:\n",
    "            nums[len_] = nums[i]\n",
    "            len_ += 1\n",
    "    return len_,nums[0:len_]\n",
    "\n",
    "nums = [0, 0, 1, 1, 1, 2, 2, 3, 3, 4]\n",
    "removeDuplicates(nums)"
   ]
  },
  {
   "cell_type": "code",
   "execution_count": null,
   "id": "6e9c9aeb",
   "metadata": {
    "ExecuteTime": {
     "end_time": "2022-06-30T17:52:39.649504Z",
     "start_time": "2022-06-30T17:52:39.646759Z"
    }
   },
   "outputs": [],
   "source": []
  },
  {
   "cell_type": "code",
   "execution_count": null,
   "id": "d034b598",
   "metadata": {},
   "outputs": [],
   "source": []
  }
 ],
 "metadata": {
  "hide_input": false,
  "kernelspec": {
   "display_name": "Python 3 (ipykernel)",
   "language": "python",
   "name": "python3"
  },
  "language_info": {
   "codemirror_mode": {
    "name": "ipython",
    "version": 3
   },
   "file_extension": ".py",
   "mimetype": "text/x-python",
   "name": "python",
   "nbconvert_exporter": "python",
   "pygments_lexer": "ipython3",
   "version": "3.9.7"
  },
  "toc": {
   "base_numbering": 1,
   "nav_menu": {},
   "number_sections": false,
   "sideBar": true,
   "skip_h1_title": false,
   "title_cell": "Table of Contents",
   "title_sidebar": "Contents",
   "toc_cell": false,
   "toc_position": {},
   "toc_section_display": true,
   "toc_window_display": false
  },
  "varInspector": {
   "cols": {
    "lenName": 16,
    "lenType": 16,
    "lenVar": 40
   },
   "kernels_config": {
    "python": {
     "delete_cmd_postfix": "",
     "delete_cmd_prefix": "del ",
     "library": "var_list.py",
     "varRefreshCmd": "print(var_dic_list())"
    },
    "r": {
     "delete_cmd_postfix": ") ",
     "delete_cmd_prefix": "rm(",
     "library": "var_list.r",
     "varRefreshCmd": "cat(var_dic_list()) "
    }
   },
   "types_to_exclude": [
    "module",
    "function",
    "builtin_function_or_method",
    "instance",
    "_Feature"
   ],
   "window_display": false
  }
 },
 "nbformat": 4,
 "nbformat_minor": 5
}
