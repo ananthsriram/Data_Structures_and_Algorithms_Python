{
 "cells": [
  {
   "cell_type": "markdown",
   "id": "b74745a4",
   "metadata": {},
   "source": [
    "Given an array nums containing n distinct numbers in the range [0, n], return the only number in the range that is missing from the array.\n",
    "\n"
   ]
  },
  {
   "cell_type": "markdown",
   "id": "741c6b94",
   "metadata": {},
   "source": [
    "## Example 1:\n",
    "\n",
    "__Input__: nums = [3,0,1]  \n",
    "__Output__: 2  \n",
    "__Explanation__: n = 3 since there are 3 numbers, so all numbers are in the range [0,3]. 2 is the missing number in the range since it does not appear in nums.\n",
    "\n",
    "\n",
    "## Example 2:\n",
    "\n",
    "__Input__: nums = [0,1]  \n",
    "__Output__: 2  \n",
    "__Explanation__: n = 2 since there are 2 numbers, so all numbers are in the range [0,2]. 2 is the missing number in the range since it does not appear in nums.\n",
    "\n",
    "\n",
    "## Example 3:\n",
    "\n",
    "__Input__: nums = [9,6,4,2,3,5,7,0,1]  \n",
    "__Output__: 8  \n",
    "__Explanation__: n = 9 since there are 9 numbers, so all numbers are in the range [0,9]. 8 is the missing number in the range since it does not appear in nums."
   ]
  },
  {
   "cell_type": "code",
   "execution_count": 1,
   "id": "187a5ab8",
   "metadata": {
    "ExecuteTime": {
     "end_time": "2022-10-15T09:19:15.301760Z",
     "start_time": "2022-10-15T09:19:15.298652Z"
    }
   },
   "outputs": [],
   "source": [
    "class Solution:\n",
    "    def missingNumber(self, nums):\n",
    "        nums.sort()\n",
    "\n",
    "        # Ensure that n is at the last index\n",
    "        if nums[-1] != len(nums):\n",
    "            return len(nums)\n",
    "        # Ensure that 0 is at the first index\n",
    "        elif nums[0] != 0:\n",
    "            return 0\n",
    "\n",
    "        # If we get here, then the missing number is on the range (0, n)\n",
    "        for i in range(1, len(nums)):\n",
    "            expected_num = nums[i-1] + 1\n",
    "            if nums[i] != expected_num:\n",
    "                return expected_num"
   ]
  },
  {
   "cell_type": "code",
   "execution_count": 2,
   "id": "753c2d62",
   "metadata": {
    "ExecuteTime": {
     "end_time": "2022-10-15T09:19:20.990011Z",
     "start_time": "2022-10-15T09:19:20.987690Z"
    }
   },
   "outputs": [],
   "source": [
    "class Solution:\n",
    "    def missingNumber(self, nums):\n",
    "        num_set = set(nums)\n",
    "        n = len(nums) + 1\n",
    "        for number in range(n):\n",
    "            if number not in num_set:\n",
    "                return number"
   ]
  },
  {
   "cell_type": "code",
   "execution_count": 3,
   "id": "8f19799b",
   "metadata": {
    "ExecuteTime": {
     "end_time": "2022-10-15T09:19:27.715658Z",
     "start_time": "2022-10-15T09:19:27.713240Z"
    }
   },
   "outputs": [],
   "source": [
    "class Solution:\n",
    "    def missingNumber(self, nums):\n",
    "        missing = len(nums)\n",
    "        for i, num in enumerate(nums):\n",
    "            missing ^= i ^ num\n",
    "        return missing"
   ]
  },
  {
   "cell_type": "code",
   "execution_count": 4,
   "id": "ac79145a",
   "metadata": {
    "ExecuteTime": {
     "end_time": "2022-10-15T09:19:34.601694Z",
     "start_time": "2022-10-15T09:19:34.598932Z"
    }
   },
   "outputs": [],
   "source": [
    "class Solution:\n",
    "    def missingNumber(self, nums):\n",
    "        expected_sum = len(nums)*(len(nums)+1)//2\n",
    "        actual_sum = sum(nums)\n",
    "        return expected_sum - actual_sum"
   ]
  },
  {
   "cell_type": "code",
   "execution_count": null,
   "id": "64b44902",
   "metadata": {},
   "outputs": [],
   "source": []
  }
 ],
 "metadata": {
  "hide_input": false,
  "kernelspec": {
   "display_name": "Python 3 (ipykernel)",
   "language": "python",
   "name": "python3"
  },
  "language_info": {
   "codemirror_mode": {
    "name": "ipython",
    "version": 3
   },
   "file_extension": ".py",
   "mimetype": "text/x-python",
   "name": "python",
   "nbconvert_exporter": "python",
   "pygments_lexer": "ipython3",
   "version": "3.9.7"
  },
  "toc": {
   "base_numbering": 1,
   "nav_menu": {},
   "number_sections": false,
   "sideBar": true,
   "skip_h1_title": false,
   "title_cell": "Table of Contents",
   "title_sidebar": "Contents",
   "toc_cell": false,
   "toc_position": {},
   "toc_section_display": true,
   "toc_window_display": false
  },
  "varInspector": {
   "cols": {
    "lenName": 16,
    "lenType": 16,
    "lenVar": 40
   },
   "kernels_config": {
    "python": {
     "delete_cmd_postfix": "",
     "delete_cmd_prefix": "del ",
     "library": "var_list.py",
     "varRefreshCmd": "print(var_dic_list())"
    },
    "r": {
     "delete_cmd_postfix": ") ",
     "delete_cmd_prefix": "rm(",
     "library": "var_list.r",
     "varRefreshCmd": "cat(var_dic_list()) "
    }
   },
   "types_to_exclude": [
    "module",
    "function",
    "builtin_function_or_method",
    "instance",
    "_Feature"
   ],
   "window_display": false
  }
 },
 "nbformat": 4,
 "nbformat_minor": 5
}
