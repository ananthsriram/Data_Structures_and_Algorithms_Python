{
 "cells": [
  {
   "cell_type": "markdown",
   "id": "d81320c7",
   "metadata": {},
   "source": [
    "There are n workers. You are given two integer arrays quality and wage where quality[i] is the quality of the ith worker and wage[i] is the minimum wage expectation for the ith worker.\n",
    "\n",
    "We want to hire exactly k workers to form a paid group. To hire a group of k workers, we must pay them according to the following rules:\n",
    "\n",
    "Every worker in the paid group should be paid in the ratio of their quality compared to other workers in the paid group.\n",
    "\n",
    "Every worker in the paid group must be paid at least their minimum wage expectation.\n",
    "Given the integer k, return the least amount of money needed to form a paid group satisfying the above conditions. Answers within 10^-5 of the actual answer will be accepted.\n",
    "\n"
   ]
  },
  {
   "cell_type": "markdown",
   "id": "d782499c",
   "metadata": {},
   "source": [
    "## Example 1:\n",
    "\n",
    "__Input__: quality = [10,20,5], wage = [70,50,30], k = 2  \n",
    "__Output__: 105.00000  \n",
    "__Explanation__: We pay 70 to 0th worker and 35 to 2nd worker.\n",
    "\n",
    "\n",
    "## Example 2:\n",
    "\n",
    "__Input__: quality = [3,1,10,10,1], wage = [4,8,2,2,7], k = 3  \n",
    "__Output__: 30.66667  \n",
    "__Explanation__: We pay 4 to 0th worker, 13.33333 to 2nd and 3rd workers separately."
   ]
  },
  {
   "cell_type": "code",
   "execution_count": 3,
   "id": "5c88830d",
   "metadata": {
    "ExecuteTime": {
     "end_time": "2022-10-15T13:55:34.349976Z",
     "start_time": "2022-10-15T13:55:34.346618Z"
    }
   },
   "outputs": [],
   "source": [
    "def mincostToHireWorkers(quality, wage, K):\n",
    "    from fractions import Fraction\n",
    "    ans = float('inf')\n",
    "\n",
    "    N = len(quality)\n",
    "    for captain in range(N):\n",
    "        # Must pay at least wage[captain] / quality[captain] per qual\n",
    "        factor = Fraction(wage[captain], quality[captain])\n",
    "        prices = []\n",
    "        for worker in range(N):\n",
    "            price = factor * quality[worker]\n",
    "            if price < wage[worker]: continue\n",
    "            prices.append(price)\n",
    "\n",
    "        if len(prices) < K: continue\n",
    "        prices.sort()\n",
    "        ans = min(ans, sum(prices[:K]))\n",
    "\n",
    "    return float(ans)"
   ]
  },
  {
   "cell_type": "code",
   "execution_count": 4,
   "id": "00612b25",
   "metadata": {
    "ExecuteTime": {
     "end_time": "2022-10-15T13:55:34.712333Z",
     "start_time": "2022-10-15T13:55:34.705545Z"
    }
   },
   "outputs": [
    {
     "data": {
      "text/plain": [
       "105.0"
      ]
     },
     "execution_count": 4,
     "metadata": {},
     "output_type": "execute_result"
    }
   ],
   "source": [
    "quality = [10,20,5]\n",
    "wage = [70,50,30]\n",
    "k = 2\n",
    "mincostToHireWorkers(quality, wage, k)"
   ]
  },
  {
   "cell_type": "code",
   "execution_count": 5,
   "id": "663e2cdb",
   "metadata": {
    "ExecuteTime": {
     "end_time": "2022-10-15T13:55:50.109571Z",
     "start_time": "2022-10-15T13:55:50.106283Z"
    }
   },
   "outputs": [
    {
     "data": {
      "text/plain": [
       "30.666666666666668"
      ]
     },
     "execution_count": 5,
     "metadata": {},
     "output_type": "execute_result"
    }
   ],
   "source": [
    "quality = [3,1,10,10,1]\n",
    "wage = [4,8,2,2,7]\n",
    "k = 3\n",
    "mincostToHireWorkers(quality, wage, k)"
   ]
  },
  {
   "cell_type": "code",
   "execution_count": null,
   "id": "162ff1b1",
   "metadata": {},
   "outputs": [],
   "source": []
  }
 ],
 "metadata": {
  "hide_input": false,
  "kernelspec": {
   "display_name": "Python 3 (ipykernel)",
   "language": "python",
   "name": "python3"
  },
  "language_info": {
   "codemirror_mode": {
    "name": "ipython",
    "version": 3
   },
   "file_extension": ".py",
   "mimetype": "text/x-python",
   "name": "python",
   "nbconvert_exporter": "python",
   "pygments_lexer": "ipython3",
   "version": "3.9.7"
  },
  "toc": {
   "base_numbering": 1,
   "nav_menu": {},
   "number_sections": false,
   "sideBar": true,
   "skip_h1_title": false,
   "title_cell": "Table of Contents",
   "title_sidebar": "Contents",
   "toc_cell": false,
   "toc_position": {},
   "toc_section_display": true,
   "toc_window_display": false
  },
  "varInspector": {
   "cols": {
    "lenName": 16,
    "lenType": 16,
    "lenVar": 40
   },
   "kernels_config": {
    "python": {
     "delete_cmd_postfix": "",
     "delete_cmd_prefix": "del ",
     "library": "var_list.py",
     "varRefreshCmd": "print(var_dic_list())"
    },
    "r": {
     "delete_cmd_postfix": ") ",
     "delete_cmd_prefix": "rm(",
     "library": "var_list.r",
     "varRefreshCmd": "cat(var_dic_list()) "
    }
   },
   "types_to_exclude": [
    "module",
    "function",
    "builtin_function_or_method",
    "instance",
    "_Feature"
   ],
   "window_display": false
  }
 },
 "nbformat": 4,
 "nbformat_minor": 5
}
