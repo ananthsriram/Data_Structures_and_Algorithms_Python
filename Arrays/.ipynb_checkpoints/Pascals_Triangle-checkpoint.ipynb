{
 "cells": [
  {
   "attachments": {
    "image.png": {
     "image/png": "[encoded data removed]"
    }
   },
   "cell_type": "markdown",
   "id": "6ec54afa",
   "metadata": {},
   "source": [
    "Given an integer numRows, return the first numRows of Pascal's triangle.\n",
    "\n",
    "In Pascal's triangle, each number is the sum of the two numbers directly above it as shown:\n",
    "\n",
    "![image.png](attachment:image.png)\n"
   ]
  },
  {
   "cell_type": "markdown",
   "id": "bf553d6d",
   "metadata": {},
   "source": [
    "## Example 1:\n",
    "\n",
    "__Input__: numRows = 5  \n",
    "__Output__: [[1],[1,1],[1,2,1],[1,3,3,1],[1,4,6,4,1]]\n",
    "\n",
    "\n",
    "## Example 2:\n",
    "\n",
    "__Input__: numRows = 1  \n",
    "__Output__: [[1]]"
   ]
  },
  {
   "cell_type": "code",
   "execution_count": 1,
   "id": "f4835d23",
   "metadata": {
    "ExecuteTime": {
     "end_time": "2022-10-15T09:25:44.927518Z",
     "start_time": "2022-10-15T09:25:44.923890Z"
    }
   },
   "outputs": [],
   "source": [
    "class Solution:\n",
    "    def generate(self, num_rows):\n",
    "        triangle = []\n",
    "\n",
    "        for row_num in range(num_rows):\n",
    "            # The first and last row elements are always 1.\n",
    "            row = [None for _ in range(row_num + 1)]\n",
    "            row[0], row[-1] = 1, 1\n",
    "\n",
    "            # Each triangle element is equal to the sum of the elements\n",
    "            # above-and-to-the-left and above-and-to-the-right.\n",
    "            for j in range(1, len(row) - 1):\n",
    "                row[j] = triangle[row_num - 1][j - 1] + triangle[row_num - 1][j]\n",
    "\n",
    "            triangle.append(row)\n",
    "\n",
    "        return triangle"
   ]
  },
  {
   "cell_type": "code",
   "execution_count": 3,
   "id": "938b94cd",
   "metadata": {
    "ExecuteTime": {
     "end_time": "2022-10-15T09:26:05.869406Z",
     "start_time": "2022-10-15T09:26:05.866535Z"
    }
   },
   "outputs": [],
   "source": [
    "def generate(self, numRows):\n",
    "    if numRows   == 0: return []\n",
    "    elif numRows == 1: return [[1]]\n",
    "    Tri = [[1]]\n",
    "    for i in range(1,numRows):\n",
    "        row = [1]\n",
    "        for j in range(1,i):\n",
    "            row.append(Tri[i-1][j-1] + Tri[i-1][j]) \n",
    "        row.append(1)\n",
    "        Tri.append(row)\n",
    "    return Tri"
   ]
  },
  {
   "cell_type": "code",
   "execution_count": null,
   "id": "d22bfa0d",
   "metadata": {},
   "outputs": [],
   "source": []
  }
 ],
 "metadata": {
  "hide_input": false,
  "kernelspec": {
   "display_name": "Python 3 (ipykernel)",
   "language": "python",
   "name": "python3"
  },
  "language_info": {
   "codemirror_mode": {
    "name": "ipython",
    "version": 3
   },
   "file_extension": ".py",
   "mimetype": "text/x-python",
   "name": "python",
   "nbconvert_exporter": "python",
   "pygments_lexer": "ipython3",
   "version": "3.9.7"
  },
  "toc": {
   "base_numbering": 1,
   "nav_menu": {},
   "number_sections": false,
   "sideBar": true,
   "skip_h1_title": false,
   "title_cell": "Table of Contents",
   "title_sidebar": "Contents",
   "toc_cell": false,
   "toc_position": {},
   "toc_section_display": true,
   "toc_window_display": false
  },
  "varInspector": {
   "cols": {
    "lenName": 16,
    "lenType": 16,
    "lenVar": 40
   },
   "kernels_config": {
    "python": {
     "delete_cmd_postfix": "",
     "delete_cmd_prefix": "del ",
     "library": "var_list.py",
     "varRefreshCmd": "print(var_dic_list())"
    },
    "r": {
     "delete_cmd_postfix": ") ",
     "delete_cmd_prefix": "rm(",
     "library": "var_list.r",
     "varRefreshCmd": "cat(var_dic_list()) "
    }
   },
   "types_to_exclude": [
    "module",
    "function",
    "builtin_function_or_method",
    "instance",
    "_Feature"
   ],
   "window_display": false
  }
 },
 "nbformat": 4,
 "nbformat_minor": 5
}
