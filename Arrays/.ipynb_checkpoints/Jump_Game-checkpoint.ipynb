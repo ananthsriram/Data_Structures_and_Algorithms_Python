{
 "cells": [
  {
   "cell_type": "markdown",
   "id": "47f9a0fe",
   "metadata": {},
   "source": [
    "You are given an integer array nums. You are initially positioned at the array's first index, and each element in the array represents your maximum jump length at that position.\n",
    "\n",
    "Return true if you can reach the last index, or false otherwise.\n",
    "\n"
   ]
  },
  {
   "cell_type": "markdown",
   "id": "5ac7452e",
   "metadata": {},
   "source": [
    "## Example 1:\n",
    "\n",
    "__Input__: nums = [2,3,1,1,4]  \n",
    "__Output__: true  \n",
    "__Explanation__: Jump 1 step from index 0 to 1, then 3 steps to the last index.\n",
    "\n",
    "\n",
    "## Example 2:\n",
    "\n",
    "__Input__: nums = [3,2,1,0,4]  \n",
    "__Output__: false  \n",
    "__Explanation__: You will always arrive at index 3 no matter what. Its maximum jump length is 0, which makes it impossible to reach the last index.\n"
   ]
  },
  {
   "cell_type": "code",
   "execution_count": 2,
   "id": "7ac34fc4",
   "metadata": {
    "ExecuteTime": {
     "end_time": "2022-10-15T13:09:28.050150Z",
     "start_time": "2022-10-15T13:09:28.047388Z"
    }
   },
   "outputs": [],
   "source": [
    "def canJump(self, nums):\n",
    "    if not nums:\n",
    "        return False\n",
    "    i = 0\n",
    "    max_index = nums[i]\n",
    "    while i < len(nums) and i <= max_index:\n",
    "        new_index = nums[i]+i\n",
    "        max_index = max(max_index, new_index)\n",
    "        i += 1\n",
    "    if i == len(nums):\n",
    "        return True\n",
    "    else:\n",
    "        return False    "
   ]
  },
  {
   "cell_type": "code",
   "execution_count": null,
   "id": "9fa58813",
   "metadata": {},
   "outputs": [],
   "source": []
  }
 ],
 "metadata": {
  "hide_input": false,
  "kernelspec": {
   "display_name": "Python 3 (ipykernel)",
   "language": "python",
   "name": "python3"
  },
  "language_info": {
   "codemirror_mode": {
    "name": "ipython",
    "version": 3
   },
   "file_extension": ".py",
   "mimetype": "text/x-python",
   "name": "python",
   "nbconvert_exporter": "python",
   "pygments_lexer": "ipython3",
   "version": "3.9.7"
  },
  "toc": {
   "base_numbering": 1,
   "nav_menu": {},
   "number_sections": false,
   "sideBar": true,
   "skip_h1_title": false,
   "title_cell": "Table of Contents",
   "title_sidebar": "Contents",
   "toc_cell": false,
   "toc_position": {},
   "toc_section_display": true,
   "toc_window_display": false
  },
  "varInspector": {
   "cols": {
    "lenName": 16,
    "lenType": 16,
    "lenVar": 40
   },
   "kernels_config": {
    "python": {
     "delete_cmd_postfix": "",
     "delete_cmd_prefix": "del ",
     "library": "var_list.py",
     "varRefreshCmd": "print(var_dic_list())"
    },
    "r": {
     "delete_cmd_postfix": ") ",
     "delete_cmd_prefix": "rm(",
     "library": "var_list.r",
     "varRefreshCmd": "cat(var_dic_list()) "
    }
   },
   "types_to_exclude": [
    "module",
    "function",
    "builtin_function_or_method",
    "instance",
    "_Feature"
   ],
   "window_display": false
  }
 },
 "nbformat": 4,
 "nbformat_minor": 5
}
