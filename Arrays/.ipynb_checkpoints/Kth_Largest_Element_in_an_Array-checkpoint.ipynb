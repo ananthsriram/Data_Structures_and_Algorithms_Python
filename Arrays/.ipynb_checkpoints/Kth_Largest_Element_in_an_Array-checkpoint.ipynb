{
 "cells": [
  {
   "cell_type": "markdown",
   "id": "5d39027c",
   "metadata": {},
   "source": [
    "Given an integer array nums and an integer k, return the kth largest element in the array.\n",
    "\n",
    "Note that it is the kth largest element in the sorted order, not the kth distinct element.\n",
    "\n",
    "You must solve it in O(n) time complexity."
   ]
  },
  {
   "cell_type": "markdown",
   "id": "2b29a182",
   "metadata": {},
   "source": [
    "## Example 1:\n",
    "\n",
    "__Input__: nums = [3,2,1,5,6,4], k = 2  \n",
    "__Output__: 5\n",
    "\n",
    "\n",
    "## Example 2:\n",
    "\n",
    "__Input__: nums = [3,2,3,1,2,4,5,5,6], k = 4  \n",
    "__Output__: 4\n"
   ]
  },
  {
   "cell_type": "code",
   "execution_count": 6,
   "id": "22f68950",
   "metadata": {
    "ExecuteTime": {
     "end_time": "2022-10-15T13:42:21.027603Z",
     "start_time": "2022-10-15T13:42:21.022626Z"
    }
   },
   "outputs": [],
   "source": [
    "import random\n",
    "def findKthLargest(nums, k):\n",
    "    \"\"\"\n",
    "    :type nums: List[int]\n",
    "    :type k: int\n",
    "    :rtype: int\n",
    "    \"\"\"\n",
    "    def partition(left, right, pivot_index):\n",
    "        pivot = nums[pivot_index]\n",
    "        # 1. move pivot to end\n",
    "        nums[pivot_index], nums[right] = nums[right], nums[pivot_index]  \n",
    "        \n",
    "        # 2. move all smaller elements to the left\n",
    "        store_index = left\n",
    "        for i in range(left, right):\n",
    "            if nums[i] < pivot:\n",
    "                nums[store_index], nums[i] = nums[i], nums[store_index]\n",
    "                store_index += 1\n",
    "\n",
    "        # 3. move pivot to its final place\n",
    "        nums[right], nums[store_index] = nums[store_index], nums[right]  \n",
    "        \n",
    "        return store_index\n",
    "    \n",
    "    def select(left, right, k_smallest):\n",
    "        \"\"\"\n",
    "        Returns the k-th smallest element of list within left..right\n",
    "        \"\"\"\n",
    "        if left == right:       # If the list contains only one element,\n",
    "            return nums[left]   # return that element\n",
    "        \n",
    "        # select a random pivot_index between \n",
    "        pivot_index = random.randint(left, right)     \n",
    "                        \n",
    "        # find the pivot position in a sorted list   \n",
    "        pivot_index = partition(left, right, pivot_index)\n",
    "        \n",
    "        # the pivot is in its final sorted position\n",
    "        if k_smallest == pivot_index:\n",
    "             return nums[k_smallest]\n",
    "        # go left\n",
    "        elif k_smallest < pivot_index:\n",
    "            return select(left, pivot_index - 1, k_smallest)\n",
    "        # go right\n",
    "        else:\n",
    "            return select(pivot_index + 1, right, k_smallest)\n",
    "\n",
    "    # kth largest is (n - k)th smallest \n",
    "    return select(0, len(nums) - 1, len(nums) - k)"
   ]
  },
  {
   "cell_type": "code",
   "execution_count": 7,
   "id": "8c90eaea",
   "metadata": {
    "ExecuteTime": {
     "end_time": "2022-10-15T13:42:22.052999Z",
     "start_time": "2022-10-15T13:42:22.045880Z"
    }
   },
   "outputs": [
    {
     "data": {
      "text/plain": [
       "5"
      ]
     },
     "execution_count": 7,
     "metadata": {},
     "output_type": "execute_result"
    }
   ],
   "source": [
    "nums = [3,2,1,5,6,4] \n",
    "k = 2\n",
    "findKthLargest(nums, k)"
   ]
  },
  {
   "cell_type": "code",
   "execution_count": 8,
   "id": "a46daec3",
   "metadata": {
    "ExecuteTime": {
     "end_time": "2022-10-15T13:42:38.281525Z",
     "start_time": "2022-10-15T13:42:38.278240Z"
    }
   },
   "outputs": [
    {
     "data": {
      "text/plain": [
       "4"
      ]
     },
     "execution_count": 8,
     "metadata": {},
     "output_type": "execute_result"
    }
   ],
   "source": [
    "nums = [3,2,3,1,2,4,5,5,6]\n",
    "k = 4\n",
    "findKthLargest(nums, k)"
   ]
  },
  {
   "cell_type": "code",
   "execution_count": null,
   "id": "af8d3660",
   "metadata": {},
   "outputs": [],
   "source": []
  }
 ],
 "metadata": {
  "hide_input": false,
  "kernelspec": {
   "display_name": "Python 3 (ipykernel)",
   "language": "python",
   "name": "python3"
  },
  "language_info": {
   "codemirror_mode": {
    "name": "ipython",
    "version": 3
   },
   "file_extension": ".py",
   "mimetype": "text/x-python",
   "name": "python",
   "nbconvert_exporter": "python",
   "pygments_lexer": "ipython3",
   "version": "3.9.7"
  },
  "toc": {
   "base_numbering": 1,
   "nav_menu": {},
   "number_sections": false,
   "sideBar": true,
   "skip_h1_title": false,
   "title_cell": "Table of Contents",
   "title_sidebar": "Contents",
   "toc_cell": false,
   "toc_position": {},
   "toc_section_display": true,
   "toc_window_display": false
  },
  "varInspector": {
   "cols": {
    "lenName": 16,
    "lenType": 16,
    "lenVar": 40
   },
   "kernels_config": {
    "python": {
     "delete_cmd_postfix": "",
     "delete_cmd_prefix": "del ",
     "library": "var_list.py",
     "varRefreshCmd": "print(var_dic_list())"
    },
    "r": {
     "delete_cmd_postfix": ") ",
     "delete_cmd_prefix": "rm(",
     "library": "var_list.r",
     "varRefreshCmd": "cat(var_dic_list()) "
    }
   },
   "types_to_exclude": [
    "module",
    "function",
    "builtin_function_or_method",
    "instance",
    "_Feature"
   ],
   "window_display": false
  }
 },
 "nbformat": 4,
 "nbformat_minor": 5
}
