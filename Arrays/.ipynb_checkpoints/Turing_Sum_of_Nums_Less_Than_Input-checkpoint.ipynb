{
 "cells": [
  {
   "cell_type": "markdown",
   "id": "49fdd476",
   "metadata": {},
   "source": [
    "Given an array A of integers and integer K, return the maximum S such that there exists i < j with A[i] + A[j] = S and S < K.\n",
    "\n",
    "If no such i, j exist satisfying this equation, return -1."
   ]
  },
  {
   "cell_type": "markdown",
   "id": "b1809b00",
   "metadata": {},
   "source": [
    "## Example 1:\n",
    "\n",
    "__Input__:\n",
    "\n",
    "A = [34,23,1,24,75,33,54,8]  \n",
    "K = 60\n",
    "\n",
    "__Output__:\n",
    "58\n"
   ]
  },
  {
   "cell_type": "markdown",
   "id": "b0eac87e",
   "metadata": {},
   "source": [
    "## Example 2:\n",
    "\n",
    "__Input__:\n",
    "\n",
    "A = [10,20,30]  \n",
    "K = 15\n",
    "\n",
    "__Output__:\n",
    "-1\n"
   ]
  },
  {
   "cell_type": "code",
   "execution_count": 10,
   "id": "df066efc",
   "metadata": {
    "ExecuteTime": {
     "end_time": "2022-11-25T16:13:57.706620Z",
     "start_time": "2022-11-25T16:13:57.703954Z"
    }
   },
   "outputs": [],
   "source": [
    "def twoSumLessThanK(A,K):\n",
    "    result = -1\n",
    "    for index,value in enumerate(A):\n",
    "        for i in range(index+1,len(A)):\n",
    "            new_sum = A[index] + A[i]\n",
    "            if new_sum > result and new_sum < K:\n",
    "                result = new_sum\n",
    "    return (result)"
   ]
  },
  {
   "cell_type": "code",
   "execution_count": 11,
   "id": "476e0334",
   "metadata": {
    "ExecuteTime": {
     "end_time": "2022-11-25T16:13:57.953688Z",
     "start_time": "2022-11-25T16:13:57.951213Z"
    }
   },
   "outputs": [
    {
     "name": "stdout",
     "output_type": "stream",
     "text": [
      "58\n"
     ]
    }
   ],
   "source": [
    "A = [34,23,1,24,75,33,54,8]\n",
    "K = 60\n",
    "print (twoSumLessThanK(A,K))"
   ]
  },
  {
   "cell_type": "code",
   "execution_count": 12,
   "id": "0e69b14d",
   "metadata": {
    "ExecuteTime": {
     "end_time": "2022-11-25T16:14:21.329661Z",
     "start_time": "2022-11-25T16:14:21.327403Z"
    }
   },
   "outputs": [
    {
     "name": "stdout",
     "output_type": "stream",
     "text": [
      "-1\n"
     ]
    }
   ],
   "source": [
    "A = [10,20,30]\n",
    "K = 15\n",
    "print (twoSumLessThanK(A,K))"
   ]
  },
  {
   "cell_type": "code",
   "execution_count": null,
   "id": "5809bb4e",
   "metadata": {},
   "outputs": [],
   "source": []
  }
 ],
 "metadata": {
  "hide_input": false,
  "kernelspec": {
   "display_name": "Python 3 (ipykernel)",
   "language": "python",
   "name": "python3"
  },
  "language_info": {
   "codemirror_mode": {
    "name": "ipython",
    "version": 3
   },
   "file_extension": ".py",
   "mimetype": "text/x-python",
   "name": "python",
   "nbconvert_exporter": "python",
   "pygments_lexer": "ipython3",
   "version": "3.9.7"
  },
  "toc": {
   "base_numbering": 1,
   "nav_menu": {},
   "number_sections": false,
   "sideBar": true,
   "skip_h1_title": false,
   "title_cell": "Table of Contents",
   "title_sidebar": "Contents",
   "toc_cell": false,
   "toc_position": {},
   "toc_section_display": true,
   "toc_window_display": false
  },
  "varInspector": {
   "cols": {
    "lenName": 16,
    "lenType": 16,
    "lenVar": 40
   },
   "kernels_config": {
    "python": {
     "delete_cmd_postfix": "",
     "delete_cmd_prefix": "del ",
     "library": "var_list.py",
     "varRefreshCmd": "print(var_dic_list())"
    },
    "r": {
     "delete_cmd_postfix": ") ",
     "delete_cmd_prefix": "rm(",
     "library": "var_list.r",
     "varRefreshCmd": "cat(var_dic_list()) "
    }
   },
   "types_to_exclude": [
    "module",
    "function",
    "builtin_function_or_method",
    "instance",
    "_Feature"
   ],
   "window_display": false
  }
 },
 "nbformat": 4,
 "nbformat_minor": 5
}
