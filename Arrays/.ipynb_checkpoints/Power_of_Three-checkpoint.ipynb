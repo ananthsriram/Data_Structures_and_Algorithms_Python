{
 "cells": [
  {
   "cell_type": "markdown",
   "id": "6881aa52",
   "metadata": {},
   "source": [
    "Given an integer n, return true if it is a power of three. Otherwise, return false.\n",
    "\n",
    "An integer n is a power of three, if there exists an integer x such that n == 3^x."
   ]
  },
  {
   "cell_type": "markdown",
   "id": "13336ab5",
   "metadata": {},
   "source": [
    "## Example 1:\n",
    "\n",
    "__Input__: n = 27  \n",
    "__Output__: true  \n",
    "__Explanation__: 27 = 3^3\n",
    "\n",
    "\n",
    "## Example 2:\n",
    "\n",
    "__Input__: n = 0  \n",
    "__Output__: false  \n",
    "__Explanation__: There is no x where 3^x = 0.\n",
    "\n",
    "\n",
    "## Example 3:\n",
    "\n",
    "__Input__: n = -1  \n",
    "__Output__: false  \n",
    "__Explanation__: There is no x where 3^x = (-1)."
   ]
  },
  {
   "cell_type": "code",
   "execution_count": 1,
   "id": "cbf36d84",
   "metadata": {
    "ExecuteTime": {
     "end_time": "2022-10-15T09:06:06.551526Z",
     "start_time": "2022-10-15T09:06:06.548680Z"
    }
   },
   "outputs": [],
   "source": [
    "class Solution:\n",
    "    def isPowerOfThree(self, n):\n",
    "        \"\"\"\n",
    "        :type n: int\n",
    "        :rtype: bool\n",
    "        \"\"\"\n",
    "        if n in (1, 3):\n",
    "            return True\n",
    "        if n % 3 or n < 1:\n",
    "            return False\n",
    "        return self.isPowerOfThree(n // 3)"
   ]
  },
  {
   "cell_type": "code",
   "execution_count": 2,
   "id": "23b21718",
   "metadata": {
    "ExecuteTime": {
     "end_time": "2022-10-15T09:06:15.277778Z",
     "start_time": "2022-10-15T09:06:15.275283Z"
    }
   },
   "outputs": [],
   "source": [
    "class Solution:\n",
    "    def isPowerOfThree(self, n):\n",
    "        \"\"\"\n",
    "        :type n: int\n",
    "        :rtype: bool\n",
    "        \"\"\"\n",
    "        if n < 1:\n",
    "            return False\n",
    "        while n % 3 == 0:\n",
    "            n = n / 3\n",
    "        return n == 1"
   ]
  },
  {
   "cell_type": "code",
   "execution_count": null,
   "id": "9c381259",
   "metadata": {},
   "outputs": [],
   "source": []
  }
 ],
 "metadata": {
  "hide_input": false,
  "kernelspec": {
   "display_name": "Python 3 (ipykernel)",
   "language": "python",
   "name": "python3"
  },
  "language_info": {
   "codemirror_mode": {
    "name": "ipython",
    "version": 3
   },
   "file_extension": ".py",
   "mimetype": "text/x-python",
   "name": "python",
   "nbconvert_exporter": "python",
   "pygments_lexer": "ipython3",
   "version": "3.9.7"
  },
  "toc": {
   "base_numbering": 1,
   "nav_menu": {},
   "number_sections": true,
   "sideBar": true,
   "skip_h1_title": false,
   "title_cell": "Table of Contents",
   "title_sidebar": "Contents",
   "toc_cell": false,
   "toc_position": {},
   "toc_section_display": true,
   "toc_window_display": false
  },
  "varInspector": {
   "cols": {
    "lenName": 16,
    "lenType": 16,
    "lenVar": 40
   },
   "kernels_config": {
    "python": {
     "delete_cmd_postfix": "",
     "delete_cmd_prefix": "del ",
     "library": "var_list.py",
     "varRefreshCmd": "print(var_dic_list())"
    },
    "r": {
     "delete_cmd_postfix": ") ",
     "delete_cmd_prefix": "rm(",
     "library": "var_list.r",
     "varRefreshCmd": "cat(var_dic_list()) "
    }
   },
   "types_to_exclude": [
    "module",
    "function",
    "builtin_function_or_method",
    "instance",
    "_Feature"
   ],
   "window_display": false
  }
 },
 "nbformat": 4,
 "nbformat_minor": 5
}
