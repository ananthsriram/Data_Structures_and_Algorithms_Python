{
 "cells": [
  {
   "cell_type": "markdown",
   "id": "6a9788b1",
   "metadata": {},
   "source": [
    "You are given an array of k linked-lists lists, each linked-list is sorted in ascending order.\n",
    "\n",
    "Merge all the linked-lists into one sorted linked-list and return it."
   ]
  },
  {
   "cell_type": "markdown",
   "id": "55a2603a",
   "metadata": {},
   "source": [
    "## Example 1:\n",
    "\n",
    "__Input__: lists = [[1,4,5],[1,3,4],[2,6]]  \n",
    "__Output__: [1,1,2,3,4,4,5,6]  \n",
    "__Explanation__: The linked-lists are:  \n",
    "[  \n",
    "  1->4->5,  \n",
    "  1->3->4,  \n",
    "  2->6  \n",
    "] \n",
    "\n",
    "merging them into one sorted list:  \n",
    "1->1->2->3->4->4->5->6\n",
    "\n",
    "\n",
    "## Example 2:\n",
    "\n",
    "__Input__: lists = [ ]  \n",
    "__Output__: [ ]  \n",
    "\n",
    "\n",
    "## Example 3:\n",
    "\n",
    "__Input__: lists = [ [ ] ]\n",
    "__Output__: [ ]"
   ]
  },
  {
   "cell_type": "code",
   "execution_count": 1,
   "id": "b64a4949",
   "metadata": {
    "ExecuteTime": {
     "end_time": "2022-10-15T13:33:25.841866Z",
     "start_time": "2022-10-15T13:33:25.839052Z"
    }
   },
   "outputs": [],
   "source": [
    "def mergeKLists(lists):\n",
    "\n",
    "    self.nodes = []\n",
    "    head = point = ListNode(0)\n",
    "    for l in lists:\n",
    "        while l:\n",
    "            self.nodes.append(l.val)\n",
    "            l = l.next\n",
    "    for x in sorted(self.nodes):\n",
    "        point.next = ListNode(x)\n",
    "        point = point.next\n",
    "    return head.next"
   ]
  },
  {
   "cell_type": "code",
   "execution_count": 3,
   "id": "55db9219",
   "metadata": {
    "ExecuteTime": {
     "end_time": "2022-10-15T13:35:01.228051Z",
     "start_time": "2022-10-15T13:35:01.222878Z"
    }
   },
   "outputs": [],
   "source": [
    "class Solution(object):\n",
    "    def mergeKLists(self, lists):\n",
    "        \"\"\"\n",
    "        :type lists: List[ListNode]\n",
    "        :rtype: ListNode\n",
    "        \"\"\"\n",
    "        amount = len(lists)\n",
    "        interval = 1\n",
    "        while interval < amount:\n",
    "            for i in range(0, amount - interval, interval * 2):\n",
    "                lists[i] = self.merge2Lists(lists[i], lists[i + interval])\n",
    "            interval *= 2\n",
    "        return lists[0] if amount > 0 else None\n",
    "\n",
    "    def merge2Lists(self, l1, l2):\n",
    "        head = point = ListNode(0)\n",
    "        while l1 and l2:\n",
    "            if l1.val <= l2.val:\n",
    "                point.next = l1\n",
    "                l1 = l1.next\n",
    "            else:\n",
    "                point.next = l2\n",
    "                l2 = l1\n",
    "                l1 = point.next.next\n",
    "            point = point.next\n",
    "        if not l1:\n",
    "            point.next=l2\n",
    "        else:\n",
    "            point.next=l1\n",
    "        return head.next"
   ]
  },
  {
   "cell_type": "code",
   "execution_count": null,
   "id": "3520bd9a",
   "metadata": {},
   "outputs": [],
   "source": []
  }
 ],
 "metadata": {
  "hide_input": false,
  "kernelspec": {
   "display_name": "Python 3 (ipykernel)",
   "language": "python",
   "name": "python3"
  },
  "language_info": {
   "codemirror_mode": {
    "name": "ipython",
    "version": 3
   },
   "file_extension": ".py",
   "mimetype": "text/x-python",
   "name": "python",
   "nbconvert_exporter": "python",
   "pygments_lexer": "ipython3",
   "version": "3.9.7"
  },
  "toc": {
   "base_numbering": 1,
   "nav_menu": {},
   "number_sections": true,
   "sideBar": true,
   "skip_h1_title": false,
   "title_cell": "Table of Contents",
   "title_sidebar": "Contents",
   "toc_cell": false,
   "toc_position": {},
   "toc_section_display": true,
   "toc_window_display": false
  },
  "varInspector": {
   "cols": {
    "lenName": 16,
    "lenType": 16,
    "lenVar": 40
   },
   "kernels_config": {
    "python": {
     "delete_cmd_postfix": "",
     "delete_cmd_prefix": "del ",
     "library": "var_list.py",
     "varRefreshCmd": "print(var_dic_list())"
    },
    "r": {
     "delete_cmd_postfix": ") ",
     "delete_cmd_prefix": "rm(",
     "library": "var_list.r",
     "varRefreshCmd": "cat(var_dic_list()) "
    }
   },
   "types_to_exclude": [
    "module",
    "function",
    "builtin_function_or_method",
    "instance",
    "_Feature"
   ],
   "window_display": false
  }
 },
 "nbformat": 4,
 "nbformat_minor": 5
}
