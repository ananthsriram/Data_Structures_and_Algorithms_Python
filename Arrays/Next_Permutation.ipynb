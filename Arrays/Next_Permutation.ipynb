{
 "cells": [
  {
   "cell_type": "markdown",
   "id": "0a68f49c",
   "metadata": {},
   "source": [
    "A permutation of an array of integers is an arrangement of its members into a sequence or linear order.\n",
    "\n",
    "- For example, for arr = [1,2,3], the following are all the permutations of arr: [1,2,3], [1,3,2], [2, 1, 3], [2, 3, 1], [3,1,2], [3,2,1].\n",
    "\n",
    "The next permutation of an array of integers is the next lexicographically greater permutation of its integer. More formally, if all the permutations of the array are sorted in one container according to their lexicographical order, then the next permutation of that array is the permutation that follows it in the sorted container. If such arrangement is not possible, the array must be rearranged as the lowest possible order (i.e., sorted in ascending order).\n",
    "\n",
    "- For example, the next permutation of arr = [1,2,3] is [1,3,2].\n",
    "- Similarly, the next permutation of arr = [2,3,1] is [3,1,2].\n",
    "- While the next permutation of arr = [3,2,1] is [1,2,3] because [3,2,1] does not have a lexicographical larger rearrangement.\n",
    "\n",
    "Given an array of integers nums, find the next permutation of nums.\n",
    "\n",
    "The replacement must be in place and use only constant extra memory."
   ]
  },
  {
   "cell_type": "markdown",
   "id": "7e70d9c1",
   "metadata": {},
   "source": [
    "## Example 1:\n",
    "\n",
    "__Input__: nums = [1,2,3]  \n",
    "__Output__: [1,3,2]\n",
    "\n",
    "\n",
    "## Example 2:\n",
    "\n",
    "__Input__: nums = [3,2,1]  \n",
    "__Output__: [1,2,3]\n",
    "\n",
    "\n",
    "## Example 3:\n",
    "\n",
    "__Input__: nums = [1,1,5]  \n",
    "__Output__: [1,5,1]"
   ]
  },
  {
   "cell_type": "code",
   "execution_count": 3,
   "id": "f51f873d",
   "metadata": {
    "ExecuteTime": {
     "end_time": "2022-10-15T13:01:04.049090Z",
     "start_time": "2022-10-15T13:01:04.045654Z"
    }
   },
   "outputs": [],
   "source": [
    "def nextPermutation(nums):\n",
    "    #>right\n",
    "    i = len(nums)-1\n",
    "    while i-1>=0 and nums[i-1]>=nums[i]:\n",
    "        i -=1\n",
    "    #>left\n",
    "    if i-1>=0:\n",
    "        j = i\n",
    "        while j<len(nums) and nums[j]>nums[i-1]:\n",
    "            j +=1\n",
    "        #swap the min-max number\n",
    "        nums[i-1],nums[j-1] = nums[j-1],nums[i-1]\n",
    "    m = i\n",
    "    n = len(nums)-1\n",
    "    while m < n:\n",
    "        nums[m],nums[n] = nums[n],nums[m]\n",
    "        m +=1\n",
    "        n -=1\n",
    "    return nums"
   ]
  },
  {
   "cell_type": "code",
   "execution_count": 4,
   "id": "db63556e",
   "metadata": {
    "ExecuteTime": {
     "end_time": "2022-10-15T13:01:09.598215Z",
     "start_time": "2022-10-15T13:01:09.591749Z"
    }
   },
   "outputs": [
    {
     "data": {
      "text/plain": [
       "[1, 3, 2]"
      ]
     },
     "execution_count": 4,
     "metadata": {},
     "output_type": "execute_result"
    }
   ],
   "source": [
    "nums = [1,2,3]\n",
    "nextPermutation(nums)"
   ]
  },
  {
   "cell_type": "code",
   "execution_count": 5,
   "id": "82fd6218",
   "metadata": {
    "ExecuteTime": {
     "end_time": "2022-10-15T13:01:18.750941Z",
     "start_time": "2022-10-15T13:01:18.747970Z"
    }
   },
   "outputs": [
    {
     "data": {
      "text/plain": [
       "[1, 2, 3]"
      ]
     },
     "execution_count": 5,
     "metadata": {},
     "output_type": "execute_result"
    }
   ],
   "source": [
    "nums = [3,2,1]\n",
    "nextPermutation(nums)"
   ]
  },
  {
   "cell_type": "code",
   "execution_count": 6,
   "id": "c5c981f9",
   "metadata": {
    "ExecuteTime": {
     "end_time": "2022-10-15T13:01:28.391923Z",
     "start_time": "2022-10-15T13:01:28.389025Z"
    }
   },
   "outputs": [
    {
     "data": {
      "text/plain": [
       "[1, 5, 1]"
      ]
     },
     "execution_count": 6,
     "metadata": {},
     "output_type": "execute_result"
    }
   ],
   "source": [
    "nums = [1,1,5]\n",
    "nextPermutation(nums)"
   ]
  },
  {
   "cell_type": "code",
   "execution_count": null,
   "id": "e967e6da",
   "metadata": {},
   "outputs": [],
   "source": []
  }
 ],
 "metadata": {
  "hide_input": false,
  "kernelspec": {
   "display_name": "Python 3 (ipykernel)",
   "language": "python",
   "name": "python3"
  },
  "language_info": {
   "codemirror_mode": {
    "name": "ipython",
    "version": 3
   },
   "file_extension": ".py",
   "mimetype": "text/x-python",
   "name": "python",
   "nbconvert_exporter": "python",
   "pygments_lexer": "ipython3",
   "version": "3.9.7"
  },
  "toc": {
   "base_numbering": 1,
   "nav_menu": {},
   "number_sections": false,
   "sideBar": true,
   "skip_h1_title": false,
   "title_cell": "Table of Contents",
   "title_sidebar": "Contents",
   "toc_cell": false,
   "toc_position": {},
   "toc_section_display": true,
   "toc_window_display": false
  },
  "varInspector": {
   "cols": {
    "lenName": 16,
    "lenType": 16,
    "lenVar": 40
   },
   "kernels_config": {
    "python": {
     "delete_cmd_postfix": "",
     "delete_cmd_prefix": "del ",
     "library": "var_list.py",
     "varRefreshCmd": "print(var_dic_list())"
    },
    "r": {
     "delete_cmd_postfix": ") ",
     "delete_cmd_prefix": "rm(",
     "library": "var_list.r",
     "varRefreshCmd": "cat(var_dic_list()) "
    }
   },
   "types_to_exclude": [
    "module",
    "function",
    "builtin_function_or_method",
    "instance",
    "_Feature"
   ],
   "window_display": false
  }
 },
 "nbformat": 4,
 "nbformat_minor": 5
}
