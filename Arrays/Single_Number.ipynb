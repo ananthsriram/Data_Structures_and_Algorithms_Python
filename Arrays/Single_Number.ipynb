{
 "cells": [
  {
   "cell_type": "markdown",
   "id": "38a78c1f",
   "metadata": {},
   "source": [
    "Given a non-empty array of integers nums, every element appears twice except for one. Find that single one.\n",
    "\n",
    "You must implement a solution with a linear runtime complexity and use only constant extra space."
   ]
  },
  {
   "cell_type": "markdown",
   "id": "d4190e4a",
   "metadata": {},
   "source": [
    "## Example 1\n",
    "\n",
    "__Input__ : nums = [2, 2, 1]  \n",
    "__Output__ : 1  "
   ]
  },
  {
   "cell_type": "markdown",
   "id": "57bf03a7",
   "metadata": {},
   "source": [
    "## Example 2\n",
    "\n",
    "__Input__ : nums = [4, 1, 2, 1, 2]  \n",
    "__Output__ : 4  "
   ]
  },
  {
   "cell_type": "markdown",
   "id": "82eddd67",
   "metadata": {},
   "source": [
    "## Example 3\n",
    "\n",
    "__Input__ : nums = [1]  \n",
    "__Output__ : 1"
   ]
  },
  {
   "cell_type": "markdown",
   "id": "3bbcdc00",
   "metadata": {},
   "source": [
    "## Approach 1"
   ]
  },
  {
   "cell_type": "code",
   "execution_count": 21,
   "id": "eb024683",
   "metadata": {
    "ExecuteTime": {
     "end_time": "2022-07-04T16:37:09.038711Z",
     "start_time": "2022-07-04T16:37:09.034477Z"
    }
   },
   "outputs": [
    {
     "data": {
      "text/plain": [
       "1"
      ]
     },
     "execution_count": 21,
     "metadata": {},
     "output_type": "execute_result"
    }
   ],
   "source": [
    "def singleNumber(nums):\n",
    "    for i in range(0,len(nums)):\n",
    "        single_number = True\n",
    "        if i == len(nums)-1:\n",
    "            return nums[i]\n",
    "        for j in range(0,len(nums)):\n",
    "            #print (i,j)\n",
    "            if i != j:\n",
    "                if nums[i] == nums[j]:\n",
    "                    single_number = False\n",
    "                    break\n",
    "        #print ('===========')\n",
    "        if single_number:\n",
    "            return nums[i]\n",
    "        \n",
    "\n",
    "nums =   [1]\n",
    "singleNumber(nums)\n"
   ]
  },
  {
   "cell_type": "markdown",
   "id": "a1063739",
   "metadata": {},
   "source": [
    "## Approach 2"
   ]
  },
  {
   "cell_type": "code",
   "execution_count": 22,
   "id": "7ca0c5e2",
   "metadata": {
    "ExecuteTime": {
     "end_time": "2022-07-04T16:40:53.241066Z",
     "start_time": "2022-07-04T16:40:53.237359Z"
    }
   },
   "outputs": [
    {
     "data": {
      "text/plain": [
       "4"
      ]
     },
     "execution_count": 22,
     "metadata": {},
     "output_type": "execute_result"
    }
   ],
   "source": [
    "def singleNumber(nums):\n",
    "    no_duplicate_list = []\n",
    "    for i in nums:\n",
    "        if i not in no_duplicate_list:\n",
    "            no_duplicate_list.append(i)\n",
    "        else:\n",
    "            no_duplicate_list.remove(i)\n",
    "    return no_duplicate_list.pop()\n",
    "\n",
    "nums = [4, 1, 2, 1, 2]\n",
    "singleNumber(nums)"
   ]
  },
  {
   "cell_type": "code",
   "execution_count": null,
   "id": "08c24346",
   "metadata": {},
   "outputs": [],
   "source": []
  }
 ],
 "metadata": {
  "hide_input": false,
  "kernelspec": {
   "display_name": "Python 3 (ipykernel)",
   "language": "python",
   "name": "python3"
  },
  "language_info": {
   "codemirror_mode": {
    "name": "ipython",
    "version": 3
   },
   "file_extension": ".py",
   "mimetype": "text/x-python",
   "name": "python",
   "nbconvert_exporter": "python",
   "pygments_lexer": "ipython3",
   "version": "3.9.7"
  },
  "toc": {
   "base_numbering": 1,
   "nav_menu": {},
   "number_sections": false,
   "sideBar": true,
   "skip_h1_title": false,
   "title_cell": "Table of Contents",
   "title_sidebar": "Contents",
   "toc_cell": false,
   "toc_position": {},
   "toc_section_display": true,
   "toc_window_display": false
  },
  "varInspector": {
   "cols": {
    "lenName": 16,
    "lenType": 16,
    "lenVar": 40
   },
   "kernels_config": {
    "python": {
     "delete_cmd_postfix": "",
     "delete_cmd_prefix": "del ",
     "library": "var_list.py",
     "varRefreshCmd": "print(var_dic_list())"
    },
    "r": {
     "delete_cmd_postfix": ") ",
     "delete_cmd_prefix": "rm(",
     "library": "var_list.r",
     "varRefreshCmd": "cat(var_dic_list()) "
    }
   },
   "types_to_exclude": [
    "module",
    "function",
    "builtin_function_or_method",
    "instance",
    "_Feature"
   ],
   "window_display": false
  }
 },
 "nbformat": 4,
 "nbformat_minor": 5
}
