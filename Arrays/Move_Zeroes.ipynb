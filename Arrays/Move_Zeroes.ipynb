{
 "cells": [
  {
   "cell_type": "markdown",
   "id": "a4fcf37d",
   "metadata": {},
   "source": [
    "Given an integer array nums, move all 0's to the end of it while maintaining the relative order of the non-zero elements.\n",
    "\n",
    "Note that you must do this in-place without making a copy of the array."
   ]
  },
  {
   "cell_type": "markdown",
   "id": "916212b9",
   "metadata": {},
   "source": [
    "## Example 1:"
   ]
  },
  {
   "cell_type": "markdown",
   "id": "9dcefe13",
   "metadata": {},
   "source": [
    "__Input__ : nums = [0,1,0,3,12]  \n",
    "__Output__ : [1,3,12,0,0]"
   ]
  },
  {
   "cell_type": "markdown",
   "id": "bed26ea4",
   "metadata": {},
   "source": [
    "## Example 2:"
   ]
  },
  {
   "cell_type": "markdown",
   "id": "f9221498",
   "metadata": {},
   "source": [
    "__Input__ : nums = [0]  \n",
    "__Output__ : [0]"
   ]
  },
  {
   "cell_type": "code",
   "execution_count": 3,
   "id": "2ce9e6be",
   "metadata": {
    "ExecuteTime": {
     "end_time": "2022-10-14T16:41:32.032536Z",
     "start_time": "2022-10-14T16:41:32.029745Z"
    },
    "hide_input": false
   },
   "outputs": [],
   "source": [
    "def moveZeroes(nums):\n",
    "    pos = 0\n",
    "    for i in range(len(nums)):\n",
    "        el = nums[i]\n",
    "        if el != 0:\n",
    "            nums[pos], nums[i] = nums[i], nums[pos]\n",
    "            pos += 1\n",
    "    return nums"
   ]
  },
  {
   "cell_type": "code",
   "execution_count": 4,
   "id": "a1ad92a7",
   "metadata": {
    "ExecuteTime": {
     "end_time": "2022-10-14T16:41:32.305475Z",
     "start_time": "2022-10-14T16:41:32.299050Z"
    }
   },
   "outputs": [
    {
     "data": {
      "text/plain": [
       "[1, 3, 12, 0, 0]"
      ]
     },
     "execution_count": 4,
     "metadata": {},
     "output_type": "execute_result"
    }
   ],
   "source": [
    "nums = [0,1,0,3,12]\n",
    "moveZeroes(nums)"
   ]
  },
  {
   "cell_type": "code",
   "execution_count": 5,
   "id": "ef9be356",
   "metadata": {
    "ExecuteTime": {
     "end_time": "2022-10-14T16:41:46.756688Z",
     "start_time": "2022-10-14T16:41:46.753283Z"
    }
   },
   "outputs": [
    {
     "data": {
      "text/plain": [
       "[0]"
      ]
     },
     "execution_count": 5,
     "metadata": {},
     "output_type": "execute_result"
    }
   ],
   "source": [
    "nums = [0]\n",
    "moveZeroes(nums)"
   ]
  },
  {
   "cell_type": "code",
   "execution_count": null,
   "id": "2519b9af",
   "metadata": {},
   "outputs": [],
   "source": []
  }
 ],
 "metadata": {
  "hide_input": false,
  "kernelspec": {
   "display_name": "Python 3 (ipykernel)",
   "language": "python",
   "name": "python3"
  },
  "language_info": {
   "codemirror_mode": {
    "name": "ipython",
    "version": 3
   },
   "file_extension": ".py",
   "mimetype": "text/x-python",
   "name": "python",
   "nbconvert_exporter": "python",
   "pygments_lexer": "ipython3",
   "version": "3.9.7"
  },
  "toc": {
   "base_numbering": 1,
   "nav_menu": {},
   "number_sections": false,
   "sideBar": true,
   "skip_h1_title": false,
   "title_cell": "Table of Contents",
   "title_sidebar": "Contents",
   "toc_cell": false,
   "toc_position": {},
   "toc_section_display": true,
   "toc_window_display": false
  },
  "varInspector": {
   "cols": {
    "lenName": 16,
    "lenType": 16,
    "lenVar": 40
   },
   "kernels_config": {
    "python": {
     "delete_cmd_postfix": "",
     "delete_cmd_prefix": "del ",
     "library": "var_list.py",
     "varRefreshCmd": "print(var_dic_list())"
    },
    "r": {
     "delete_cmd_postfix": ") ",
     "delete_cmd_prefix": "rm(",
     "library": "var_list.r",
     "varRefreshCmd": "cat(var_dic_list()) "
    }
   },
   "types_to_exclude": [
    "module",
    "function",
    "builtin_function_or_method",
    "instance",
    "_Feature"
   ],
   "window_display": false
  }
 },
 "nbformat": 4,
 "nbformat_minor": 5
}
