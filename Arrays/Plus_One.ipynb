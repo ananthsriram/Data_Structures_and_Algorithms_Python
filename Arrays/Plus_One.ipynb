{
 "cells": [
  {
   "cell_type": "markdown",
   "id": "26623957",
   "metadata": {},
   "source": [
    "You are given a large integer represented as an integer array digits, where each digits[i] is the ith digit of the integer. The digits are ordered from most significant to least significant in left-to-right order. The large integer does not contain any leading 0's.\n",
    "\n",
    "Increment the large integer by one and return the resulting array of digits."
   ]
  },
  {
   "cell_type": "markdown",
   "id": "a9abaa31",
   "metadata": {},
   "source": [
    "## Example 1:"
   ]
  },
  {
   "cell_type": "markdown",
   "id": "106ab7d3",
   "metadata": {},
   "source": [
    "__Input__ : digits = [1,2,3]  \n",
    "__Output__ : [1,2,4]  \n",
    "__Explanation__ : The array represents the integer 123.  \n",
    "\n",
    "Incrementing by one gives 123 + 1 = 124.\n",
    "\n",
    "Thus, the result should be [1,2,4]."
   ]
  },
  {
   "cell_type": "markdown",
   "id": "26da5e36",
   "metadata": {},
   "source": [
    "## Example 2:"
   ]
  },
  {
   "cell_type": "markdown",
   "id": "03052008",
   "metadata": {},
   "source": [
    "__Input__ : digits = [4,3,2,1]  \n",
    "__Output__ : [4,3,2,2]  \n",
    "__Explanation__ : The array represents the integer 4321.\n",
    "\n",
    "Incrementing by one gives 4321 + 1 = 4322.\n",
    "\n",
    "Thus, the result should be [4,3,2,2]."
   ]
  },
  {
   "cell_type": "markdown",
   "id": "73f86cb9",
   "metadata": {},
   "source": [
    "## Example 3:"
   ]
  },
  {
   "cell_type": "markdown",
   "id": "28ede4b3",
   "metadata": {},
   "source": [
    "__Input__ : digits = [9]  \n",
    "__Output__ : [1,0]  \n",
    "__Explanation__ : The array represents the integer 9.  \n",
    "\n",
    "Incrementing by one gives 9 + 1 = 10.\n",
    "\n",
    "Thus, the result should be [1,0]."
   ]
  },
  {
   "cell_type": "code",
   "execution_count": 2,
   "id": "33b581ce",
   "metadata": {
    "ExecuteTime": {
     "end_time": "2022-10-14T16:35:53.803350Z",
     "start_time": "2022-10-14T16:35:53.800386Z"
    }
   },
   "outputs": [],
   "source": [
    "def plusOne(digits):\n",
    "    n = len(digits)\n",
    "\n",
    "    # move along the input array starting from the end\n",
    "    for i in range(n):\n",
    "        idx = n - 1 - i\n",
    "        # set all the nines at the end of array to zeros\n",
    "        if digits[idx] == 9:\n",
    "            digits[idx] = 0\n",
    "        # here we have the rightmost not-nine\n",
    "        else:\n",
    "            # increase this rightmost not-nine by 1\n",
    "            digits[idx] += 1\n",
    "            # and the job is done\n",
    "            return digits\n",
    "\n",
    "    # we're here because all the digits are nines\n",
    "    return [1] + digits"
   ]
  },
  {
   "cell_type": "code",
   "execution_count": 4,
   "id": "800c0ed5",
   "metadata": {
    "ExecuteTime": {
     "end_time": "2022-10-14T16:36:47.711479Z",
     "start_time": "2022-10-14T16:36:47.705302Z"
    }
   },
   "outputs": [
    {
     "data": {
      "text/plain": [
       "[4, 3, 2, 2]"
      ]
     },
     "execution_count": 4,
     "metadata": {},
     "output_type": "execute_result"
    }
   ],
   "source": [
    "digits = [4,3,2,1]\n",
    "plusOne(digits)"
   ]
  },
  {
   "cell_type": "code",
   "execution_count": null,
   "id": "bb0ee803",
   "metadata": {},
   "outputs": [],
   "source": []
  }
 ],
 "metadata": {
  "hide_input": false,
  "kernelspec": {
   "display_name": "Python 3 (ipykernel)",
   "language": "python",
   "name": "python3"
  },
  "language_info": {
   "codemirror_mode": {
    "name": "ipython",
    "version": 3
   },
   "file_extension": ".py",
   "mimetype": "text/x-python",
   "name": "python",
   "nbconvert_exporter": "python",
   "pygments_lexer": "ipython3",
   "version": "3.9.7"
  },
  "toc": {
   "base_numbering": 1,
   "nav_menu": {},
   "number_sections": false,
   "sideBar": true,
   "skip_h1_title": false,
   "title_cell": "Table of Contents",
   "title_sidebar": "Contents",
   "toc_cell": false,
   "toc_position": {},
   "toc_section_display": true,
   "toc_window_display": false
  },
  "varInspector": {
   "cols": {
    "lenName": 16,
    "lenType": 16,
    "lenVar": 40
   },
   "kernels_config": {
    "python": {
     "delete_cmd_postfix": "",
     "delete_cmd_prefix": "del ",
     "library": "var_list.py",
     "varRefreshCmd": "print(var_dic_list())"
    },
    "r": {
     "delete_cmd_postfix": ") ",
     "delete_cmd_prefix": "rm(",
     "library": "var_list.r",
     "varRefreshCmd": "cat(var_dic_list()) "
    }
   },
   "types_to_exclude": [
    "module",
    "function",
    "builtin_function_or_method",
    "instance",
    "_Feature"
   ],
   "window_display": false
  }
 },
 "nbformat": 4,
 "nbformat_minor": 5
}
