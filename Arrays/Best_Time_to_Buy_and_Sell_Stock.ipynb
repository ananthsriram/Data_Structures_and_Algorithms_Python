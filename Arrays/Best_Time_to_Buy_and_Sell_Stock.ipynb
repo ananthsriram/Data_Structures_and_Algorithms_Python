{
 "cells": [
  {
   "cell_type": "markdown",
   "id": "a8b43c26",
   "metadata": {},
   "source": [
    "You are given an integer array prices where prices[i] is the price of a given stock on the ith day.\n",
    "\n",
    "On each day, you may decide to buy and/or sell the stock. You can only hold at most one share of the stock at any time. However, you can buy it then immediately sell it on the same day.\n",
    "\n",
    "Find and return the maximum profit you can achieve."
   ]
  },
  {
   "cell_type": "markdown",
   "id": "8f212a64",
   "metadata": {},
   "source": [
    "## Example 1\n",
    "\n",
    "__Input__ : prices = [7, 1, 5, 3, 6, 4]  \n",
    "__Output__ : 7  \n",
    "__Explanation__ : Buy on day 2 (price = 1) and sell on day 3 (price = 5), profit = 5-1 = 4.\n",
    "Then buy on day 4 (price = 3) and sell on day 5 (price = 6), profit = 6-3 = 3.  \n",
    "Total profit is 4 + 3 = 7."
   ]
  },
  {
   "cell_type": "markdown",
   "id": "22597676",
   "metadata": {},
   "source": [
    "## Example 2\n",
    "\n",
    "__Input__ : prices = [1, 2, 3, 4, 5]  \n",
    "__Output__ : 4  \n",
    "__Explanation__ : Buy on day 1 (price = 1) and sell on day 5 (price = 5), profit = 5-1 = 4.  \n",
    "Total profit is 4."
   ]
  },
  {
   "cell_type": "markdown",
   "id": "e11ee847",
   "metadata": {},
   "source": [
    "## Example 3\n",
    "\n",
    "__Input__ : prices = [7, 6, 4, 3, 1]  \n",
    "__Output__ : 0  \n",
    "__Explanation__ : There is no way to make a positive profit, so we never buy the stock to achieve the maximum profit of 0."
   ]
  },
  {
   "cell_type": "code",
   "execution_count": 21,
   "id": "625bd610",
   "metadata": {
    "ExecuteTime": {
     "end_time": "2022-07-01T11:09:46.727002Z",
     "start_time": "2022-07-01T11:09:46.720713Z"
    }
   },
   "outputs": [
    {
     "data": {
      "text/plain": [
       "7"
      ]
     },
     "execution_count": 21,
     "metadata": {},
     "output_type": "execute_result"
    }
   ],
   "source": [
    "def max_profit(prices):\n",
    "    profit = 0\n",
    "    for i in range(1,len(prices)):\n",
    "        if prices[i] > prices[i-1]:\n",
    "            profit += prices[i] - prices[i-1]\n",
    "    return profit\n",
    "\n",
    "def max_profit_with_debugging(prices):\n",
    "    profit = 0\n",
    "    for i in range(1,len(prices)):\n",
    "        if prices[i] > prices[i-1]:\n",
    "            profit += prices[i] - prices[i-1]\n",
    "            print (i,prices[i],prices[i-1])\n",
    "            print ('================')\n",
    "    return profit\n",
    "\n",
    "p_list =  [7, 1, 5, 3, 4, 6]\n",
    "max_profit(p_list) "
   ]
  },
  {
   "cell_type": "code",
   "execution_count": null,
   "id": "3f3b49a0",
   "metadata": {},
   "outputs": [],
   "source": []
  }
 ],
 "metadata": {
  "hide_input": false,
  "kernelspec": {
   "display_name": "Python 3 (ipykernel)",
   "language": "python",
   "name": "python3"
  },
  "language_info": {
   "codemirror_mode": {
    "name": "ipython",
    "version": 3
   },
   "file_extension": ".py",
   "mimetype": "text/x-python",
   "name": "python",
   "nbconvert_exporter": "python",
   "pygments_lexer": "ipython3",
   "version": "3.9.7"
  },
  "toc": {
   "base_numbering": 1,
   "nav_menu": {},
   "number_sections": false,
   "sideBar": true,
   "skip_h1_title": false,
   "title_cell": "Table of Contents",
   "title_sidebar": "Contents",
   "toc_cell": false,
   "toc_position": {},
   "toc_section_display": true,
   "toc_window_display": false
  },
  "varInspector": {
   "cols": {
    "lenName": 16,
    "lenType": 16,
    "lenVar": 40
   },
   "kernels_config": {
    "python": {
     "delete_cmd_postfix": "",
     "delete_cmd_prefix": "del ",
     "library": "var_list.py",
     "varRefreshCmd": "print(var_dic_list())"
    },
    "r": {
     "delete_cmd_postfix": ") ",
     "delete_cmd_prefix": "rm(",
     "library": "var_list.r",
     "varRefreshCmd": "cat(var_dic_list()) "
    }
   },
   "types_to_exclude": [
    "module",
    "function",
    "builtin_function_or_method",
    "instance",
    "_Feature"
   ],
   "window_display": false
  }
 },
 "nbformat": 4,
 "nbformat_minor": 5
}
