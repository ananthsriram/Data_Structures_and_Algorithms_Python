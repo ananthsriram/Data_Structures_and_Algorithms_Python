{
 "cells": [
  {
   "cell_type": "markdown",
   "id": "90f669d3",
   "metadata": {},
   "source": [
    "Given an integer array nums, return true if any value appears at least twice in the array, and return false if every element is distinct."
   ]
  },
  {
   "cell_type": "markdown",
   "id": "fbb7e2a8",
   "metadata": {},
   "source": [
    "## Example 1\n",
    "\n",
    "__Input__ : nums = [1, 2, 3, 1]  \n",
    "__Output__ : true"
   ]
  },
  {
   "cell_type": "markdown",
   "id": "81ff91ff",
   "metadata": {},
   "source": [
    "## Example 2\n",
    "\n",
    "__Input__ : nums = [1, 2, 3, 4]  \n",
    "__Output__ : false"
   ]
  },
  {
   "cell_type": "markdown",
   "id": "13bd3b95",
   "metadata": {},
   "source": [
    "## Example 3\n",
    "\n",
    "__Input__ : nums = [1, 1, 1, 3, 3, 4, 3, 2, 4, 2]  \n",
    "__Output__ : true\n"
   ]
  },
  {
   "cell_type": "code",
   "execution_count": 21,
   "id": "81c9b843",
   "metadata": {
    "ExecuteTime": {
     "end_time": "2022-07-03T15:38:38.870937Z",
     "start_time": "2022-07-03T15:38:38.867062Z"
    }
   },
   "outputs": [
    {
     "data": {
      "text/plain": [
       "'true'"
      ]
     },
     "execution_count": 21,
     "metadata": {},
     "output_type": "execute_result"
    }
   ],
   "source": [
    "def containsDuplicate(nums):\n",
    "    for i in range(0,len(nums)):\n",
    "        for j in range(i+1,len(nums)):\n",
    "            if nums[i] == nums[j]:\n",
    "                return 'true'\n",
    "    return 'false'\n",
    "\n",
    "nums = [1,1,1,3,3,4,3,2,4,2]\n",
    "containsDuplicate(nums)"
   ]
  },
  {
   "cell_type": "code",
   "execution_count": null,
   "id": "de560b8d",
   "metadata": {},
   "outputs": [],
   "source": [
    "        for i in range(0,len(nums)):\n",
    "            for j in range(i+1,len(nums)):\n",
    "                if nums[i] == nums[j]:\n",
    "                    return 'true'\n",
    "        return 'false'"
   ]
  }
 ],
 "metadata": {
  "hide_input": false,
  "kernelspec": {
   "display_name": "Python 3 (ipykernel)",
   "language": "python",
   "name": "python3"
  },
  "language_info": {
   "codemirror_mode": {
    "name": "ipython",
    "version": 3
   },
   "file_extension": ".py",
   "mimetype": "text/x-python",
   "name": "python",
   "nbconvert_exporter": "python",
   "pygments_lexer": "ipython3",
   "version": "3.9.7"
  },
  "toc": {
   "base_numbering": 1,
   "nav_menu": {},
   "number_sections": false,
   "sideBar": true,
   "skip_h1_title": false,
   "title_cell": "Table of Contents",
   "title_sidebar": "Contents",
   "toc_cell": false,
   "toc_position": {},
   "toc_section_display": true,
   "toc_window_display": false
  },
  "varInspector": {
   "cols": {
    "lenName": 16,
    "lenType": 16,
    "lenVar": 40
   },
   "kernels_config": {
    "python": {
     "delete_cmd_postfix": "",
     "delete_cmd_prefix": "del ",
     "library": "var_list.py",
     "varRefreshCmd": "print(var_dic_list())"
    },
    "r": {
     "delete_cmd_postfix": ") ",
     "delete_cmd_prefix": "rm(",
     "library": "var_list.r",
     "varRefreshCmd": "cat(var_dic_list()) "
    }
   },
   "types_to_exclude": [
    "module",
    "function",
    "builtin_function_or_method",
    "instance",
    "_Feature"
   ],
   "window_display": false
  }
 },
 "nbformat": 4,
 "nbformat_minor": 5
}
