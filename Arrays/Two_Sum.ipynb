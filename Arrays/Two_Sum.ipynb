{
 "cells": [
  {
   "cell_type": "markdown",
   "id": "5198b079",
   "metadata": {
    "ExecuteTime": {
     "end_time": "2022-04-19T15:56:13.956851Z",
     "start_time": "2022-04-19T15:56:13.951579Z"
    }
   },
   "source": [
    "# <font color=red>Two Sum Problem</font> "
   ]
  },
  {
   "cell_type": "markdown",
   "id": "2952b562",
   "metadata": {},
   "source": [
    "Given an array of integers nums and an integer target, return indices of the two numbers such that they add up to target.\n",
    "\n",
    "You may assume that each input would have exactly one solution, and you may not use the same element twice.\n",
    "\n",
    "You can return the answer in any order.\n",
    "\n",
    "### Example 1:\n",
    "Input: nums = [2,7,11,15], target = 9\n",
    "Output: [0,1]\n",
    "Explanation: Because nums[0] + nums[1] == 9, we return [0, 1].\n",
    "\n",
    "### Example 2:\n",
    "Input: nums = [3,2,4], target = 6\n",
    "Output: [1,2]\n",
    "\n",
    "### Example 3:\n",
    "Input: nums = [3,3], target = 6\n",
    "Output: [0,1]\n",
    " \n",
    "\n",
    "### Constraints:\n",
    "\n",
    "- 2 <= nums.length <= 10^4\n",
    "- -10^9 <= nums[i] <= 10^9\n",
    "- -10^9 <= target <= 10^9\n",
    "- **Only one valid answer exists.**\n",
    " \n",
    "\n",
    "**Follow-up:** Can you come up with an algorithm that is less than O(n2) time complexity?"
   ]
  },
  {
   "cell_type": "markdown",
   "id": "987ec6ef",
   "metadata": {},
   "source": [
    "# <font color=blue>Solutions</font> "
   ]
  },
  {
   "cell_type": "markdown",
   "id": "53e00b16",
   "metadata": {},
   "source": [
    "# Approach 1: Brute Force\n",
    "\n",
    "## Algorithm\n",
    "\n",
    "The brute force approach is simple. Loop through each element *x* and find if there is another value that equals to *target - x*.\n",
    "\n",
    "## Complexity Analysis\n",
    "\n",
    "- Time complexity: O(n^2). For each element, we try to find its complement by looping through the rest of the array which takes O(n) time. Therefore, the time complexity is O(n^2).\n",
    "- Space complexity: O(1). The space required does not depend on the size of the input array, so only constant space is used."
   ]
  },
  {
   "cell_type": "code",
   "execution_count": 7,
   "id": "e4ccfca9",
   "metadata": {
    "ExecuteTime": {
     "end_time": "2022-04-19T06:50:53.466352Z",
     "start_time": "2022-04-19T06:50:53.462441Z"
    }
   },
   "outputs": [
    {
     "name": "stdout",
     "output_type": "stream",
     "text": [
      "[0, 3]\n",
      "[1, 4]\n"
     ]
    }
   ],
   "source": [
    "class BruteForceSolution:\n",
    "    def twoSum(self, nums, target):\n",
    "        for i in range(len(nums)):\n",
    "            for j in range(i + 1, len(nums)):\n",
    "                if nums[j] == target - nums[i]:\n",
    "                    return [i, j]\n",
    "                \n",
    "list1 = [2,7,11,15]\n",
    "list2 = [3,4,9,6,4]\n",
    "\n",
    "target1 = 17\n",
    "target2 = 8\n",
    "\n",
    "solution_obj = BruteForceSolution()\n",
    "two_sum_indices = solution_obj.twoSum(list1,target1)\n",
    "print (two_sum_indices)\n",
    "\n",
    "two_sum_indices = solution_obj.twoSum(list2,target2)\n",
    "print (two_sum_indices)"
   ]
  },
  {
   "cell_type": "markdown",
   "id": "f77b5f33",
   "metadata": {},
   "source": [
    "## Complexity Analysis\n",
    "\n",
    "- Time complexity: O(n^2). For each element, we try to find its complement by looping through the rest of the array which takes O(n) time. Therefore, the time complexity is O(n^2).\n",
    "\n",
    "- Space complexity: O(1). The space required does not depend on the size of the input array, so only constant space is used."
   ]
  },
  {
   "cell_type": "markdown",
   "id": "349839e6",
   "metadata": {},
   "source": [
    "# Approach 2: Two-pass Hash Table\n",
    "\n",
    "## Intuition\n",
    "\n",
    "To improve our runtime complexity, we need a more efficient way to check if the element exists in the array. If the element exists, we need to get its index. What is the best way to maintain a mapping of each element in the array to its index? A hash table.\n",
    "\n",
    "We can reduce the lookup time from O(n) to O(1) by trading space for speed. A hash table is well suited for this purpose because it supports fast lookup in near constant time. I say \"near\" because if a collision occurred, a lookup could degenerate to O(n) time. However, lookup in a hash table should be amortized O(1) time as long as the hash function was chosen carefully.\n",
    "\n",
    "## Algorithm\n",
    "\n",
    "A simple implementation uses two iterations. In the first iteration, we add each element's value as a key and its index as a value to the hash table. Then, in the second iteration, we check if each element's complement (target - nums[i]) exists in the hash table. If it does exist, we return current element's index and its complement's index. Beware that the complement must not be nums[i] itself!\n"
   ]
  },
  {
   "cell_type": "code",
   "execution_count": 9,
   "id": "aef47c64",
   "metadata": {
    "ExecuteTime": {
     "end_time": "2022-04-19T16:03:14.215940Z",
     "start_time": "2022-04-19T16:03:14.211379Z"
    }
   },
   "outputs": [
    {
     "name": "stdout",
     "output_type": "stream",
     "text": [
      "[0, 3]\n",
      "[1, 4]\n"
     ]
    }
   ],
   "source": [
    "class TwoPassHashSolution:\n",
    "    def twoSum(self, nums, target):\n",
    "        hashmap = {}\n",
    "        for i in range(len(nums)):\n",
    "            hashmap[nums[i]] = i\n",
    "        for i in range(len(nums)):\n",
    "            complement = target - nums[i]\n",
    "            if complement in hashmap and hashmap[complement] != i:\n",
    "                return [i, hashmap[complement]] \n",
    "            \n",
    "            \n",
    "list1 = [2,7,11,15]\n",
    "list2 = [3,4,9,6,4]\n",
    "\n",
    "target1 = 17\n",
    "target2 = 8\n",
    "\n",
    "solution_obj = TwoPassHashSolution()\n",
    "two_sum_indices = solution_obj.twoSum(list1,target1)\n",
    "print (two_sum_indices)\n",
    "\n",
    "two_sum_indices = solution_obj.twoSum(list2,target2)\n",
    "print (two_sum_indices)            "
   ]
  },
  {
   "cell_type": "markdown",
   "id": "94b14b16",
   "metadata": {},
   "source": [
    "## Complexity Analysis\n",
    "\n",
    "- Time complexity: O(n). We traverse the list containing nn elements exactly twice. Since the hash table reduces the lookup time to O(1), the overall time complexity is O(n).\n",
    "\n",
    "- Space complexity: O(n). The extra space required depends on the number of items stored in the hash table, which stores exactly nn elements."
   ]
  },
  {
   "cell_type": "markdown",
   "id": "3ae1a607",
   "metadata": {},
   "source": [
    "# Approach 3: One-pass Hash Table\n",
    "\n",
    "## Algorithm\n",
    "\n",
    "It turns out we can do it in one-pass. While we are iterating and inserting elements into the hash table, we also look back to check if current element's complement already exists in the hash table. If it exists, we have found a solution and return the indices immediately."
   ]
  },
  {
   "cell_type": "code",
   "execution_count": 10,
   "id": "a3f54ae9",
   "metadata": {
    "ExecuteTime": {
     "end_time": "2022-04-19T16:06:34.256150Z",
     "start_time": "2022-04-19T16:06:34.251949Z"
    }
   },
   "outputs": [
    {
     "name": "stdout",
     "output_type": "stream",
     "text": [
      "[0, 3]\n",
      "[1, 4]\n"
     ]
    }
   ],
   "source": [
    "class OnePassHashSolution:\n",
    "    def twoSum(self, nums, target):\n",
    "        hashmap = {}\n",
    "        for i in range(len(nums)):\n",
    "            complement = target - nums[i]\n",
    "            if complement in hashmap:\n",
    "                return [i, hashmap[complement]]\n",
    "            hashmap[nums[i]] = i\n",
    "            \n",
    "list1 = [2,7,11,15]\n",
    "list2 = [3,4,9,6,4]\n",
    "\n",
    "target1 = 17\n",
    "target2 = 8\n",
    "\n",
    "solution_obj = TwoPassHashSolution()\n",
    "two_sum_indices = solution_obj.twoSum(list1,target1)\n",
    "print (two_sum_indices)\n",
    "\n",
    "two_sum_indices = solution_obj.twoSum(list2,target2)\n",
    "print (two_sum_indices)                        "
   ]
  },
  {
   "cell_type": "markdown",
   "id": "734c2cd8",
   "metadata": {},
   "source": [
    "## Complexity Analysis\n",
    "\n",
    "- Time complexity: O(n). We traverse the list containing nn elements only once. Each lookup in the table costs only O(1) time.\n",
    "\n",
    "- Space complexity: O(n). The extra space required depends on the number of items stored in the hash table, which stores at most nn elements."
   ]
  },
  {
   "cell_type": "code",
   "execution_count": null,
   "id": "32cf8e83",
   "metadata": {},
   "outputs": [],
   "source": []
  }
 ],
 "metadata": {
  "kernelspec": {
   "display_name": "Python 3 (ipykernel)",
   "language": "python",
   "name": "python3"
  },
  "language_info": {
   "codemirror_mode": {
    "name": "ipython",
    "version": 3
   },
   "file_extension": ".py",
   "mimetype": "text/x-python",
   "name": "python",
   "nbconvert_exporter": "python",
   "pygments_lexer": "ipython3",
   "version": "3.9.7"
  },
  "toc": {
   "base_numbering": 1,
   "nav_menu": {},
   "number_sections": false,
   "sideBar": true,
   "skip_h1_title": false,
   "title_cell": "Table of Contents",
   "title_sidebar": "Contents",
   "toc_cell": false,
   "toc_position": {},
   "toc_section_display": true,
   "toc_window_display": false
  },
  "varInspector": {
   "cols": {
    "lenName": 16,
    "lenType": 16,
    "lenVar": 40
   },
   "kernels_config": {
    "python": {
     "delete_cmd_postfix": "",
     "delete_cmd_prefix": "del ",
     "library": "var_list.py",
     "varRefreshCmd": "print(var_dic_list())"
    },
    "r": {
     "delete_cmd_postfix": ") ",
     "delete_cmd_prefix": "rm(",
     "library": "var_list.r",
     "varRefreshCmd": "cat(var_dic_list()) "
    }
   },
   "types_to_exclude": [
    "module",
    "function",
    "builtin_function_or_method",
    "instance",
    "_Feature"
   ],
   "window_display": false
  }
 },
 "nbformat": 4,
 "nbformat_minor": 5
}
