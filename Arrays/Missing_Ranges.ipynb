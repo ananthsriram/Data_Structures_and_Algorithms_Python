{
 "cells": [
  {
   "cell_type": "markdown",
   "id": "33be31d4",
   "metadata": {},
   "source": [
    "You are given an inclusive range [lower, upper] and a sorted unique integer array nums, where all elements are in the inclusive range.\n",
    "\n",
    "A number x is considered missing if x is in the range [lower, upper] and x is not in nums.\n",
    "\n",
    "Return the smallest sorted list of ranges that cover every missing number exactly. That is, no element of nums is in any of the ranges, and each missing number is in one of the ranges.\n",
    "\n",
    "Each range [a,b] in the list should be output as:\n",
    "\n",
    "- \"a->b\" if a != b\n",
    "- \"a\" if a == b"
   ]
  },
  {
   "cell_type": "markdown",
   "id": "9a96b4e2",
   "metadata": {},
   "source": [
    "## Example 1:\n",
    "\n",
    "__Input__: nums = [0,1,3,50,75], lower = 0, upper = 99  \n",
    "__Output__: [\"2\",\"4->49\",\"51->74\",\"76->99\"]  \n",
    "__Explanation__: The ranges are:  \n",
    "[2,2] --> \"2\"  \n",
    "[4,49] --> \"4->49\"  \n",
    "[51,74] --> \"51->74\"  \n",
    "[76,99] --> \"76->99\"\n",
    "\n",
    "\n",
    "## Example 2:\n",
    "\n",
    "__Input__: nums = [-1], lower = -1, upper = -1  \n",
    "__Output__: []  \n",
    "__Explanation__: There are no missing ranges since there are no missing numbers."
   ]
  },
  {
   "cell_type": "code",
   "execution_count": 2,
   "id": "0dc2043d",
   "metadata": {
    "ExecuteTime": {
     "end_time": "2022-10-15T13:22:00.964576Z",
     "start_time": "2022-10-15T13:22:00.961172Z"
    }
   },
   "outputs": [],
   "source": [
    "\n",
    "def findMissingRanges(nums, lower, upper):\n",
    "    # formats range in the requested format\n",
    "    def formatRange(lower, upper):\n",
    "        if lower == upper:\n",
    "            return str(lower)\n",
    "        return str(lower) + \"->\" + str(upper)\n",
    "\n",
    "    result = []\n",
    "    prev = lower - 1\n",
    "    for i in range(len(nums) + 1):\n",
    "        curr = nums[i] if i < len(nums) else upper + 1\n",
    "        if prev + 1 <= curr - 1:\n",
    "            result.append(formatRange(prev + 1, curr - 1))\n",
    "        prev = curr\n",
    "    return result\n"
   ]
  },
  {
   "cell_type": "code",
   "execution_count": 3,
   "id": "557642a0",
   "metadata": {
    "ExecuteTime": {
     "end_time": "2022-10-15T13:22:01.338565Z",
     "start_time": "2022-10-15T13:22:01.331897Z"
    }
   },
   "outputs": [
    {
     "data": {
      "text/plain": [
       "['2', '4->49', '51->74', '76->99']"
      ]
     },
     "execution_count": 3,
     "metadata": {},
     "output_type": "execute_result"
    }
   ],
   "source": [
    "nums = [0,1,3,50,75]\n",
    "lower = 0\n",
    "upper = 99\n",
    "findMissingRanges(nums, lower, upper)"
   ]
  },
  {
   "cell_type": "code",
   "execution_count": null,
   "id": "672371ec",
   "metadata": {},
   "outputs": [],
   "source": []
  }
 ],
 "metadata": {
  "hide_input": false,
  "kernelspec": {
   "display_name": "Python 3 (ipykernel)",
   "language": "python",
   "name": "python3"
  },
  "language_info": {
   "codemirror_mode": {
    "name": "ipython",
    "version": 3
   },
   "file_extension": ".py",
   "mimetype": "text/x-python",
   "name": "python",
   "nbconvert_exporter": "python",
   "pygments_lexer": "ipython3",
   "version": "3.9.7"
  },
  "toc": {
   "base_numbering": 1,
   "nav_menu": {},
   "number_sections": false,
   "sideBar": true,
   "skip_h1_title": false,
   "title_cell": "Table of Contents",
   "title_sidebar": "Contents",
   "toc_cell": false,
   "toc_position": {},
   "toc_section_display": true,
   "toc_window_display": false
  },
  "varInspector": {
   "cols": {
    "lenName": 16,
    "lenType": 16,
    "lenVar": 40
   },
   "kernels_config": {
    "python": {
     "delete_cmd_postfix": "",
     "delete_cmd_prefix": "del ",
     "library": "var_list.py",
     "varRefreshCmd": "print(var_dic_list())"
    },
    "r": {
     "delete_cmd_postfix": ") ",
     "delete_cmd_prefix": "rm(",
     "library": "var_list.r",
     "varRefreshCmd": "cat(var_dic_list()) "
    }
   },
   "types_to_exclude": [
    "module",
    "function",
    "builtin_function_or_method",
    "instance",
    "_Feature"
   ],
   "window_display": false
  }
 },
 "nbformat": 4,
 "nbformat_minor": 5
}
