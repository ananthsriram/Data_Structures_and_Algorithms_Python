{
 "cells": [
  {
   "cell_type": "markdown",
   "id": "e63cc9ce",
   "metadata": {},
   "source": [
    "Given an array of meeting time intervals intervals where intervals[i] = [starti, endi], return the minimum number of conference rooms required."
   ]
  },
  {
   "cell_type": "markdown",
   "id": "30272dd7",
   "metadata": {},
   "source": [
    "## Example 1:\n",
    "\n",
    "__Input__: intervals = [[0,30],[5,10],[15,20]]  \n",
    "__Output__: 2\n",
    "\n",
    "\n",
    "## Example 2:\n",
    "\n",
    "__Input__: intervals = [[7,10],[2,4]]  \n",
    "__Output__: 1"
   ]
  },
  {
   "cell_type": "code",
   "execution_count": 20,
   "id": "121fda10",
   "metadata": {
    "ExecuteTime": {
     "end_time": "2022-10-15T13:47:18.376645Z",
     "start_time": "2022-10-15T13:47:18.373275Z"
    }
   },
   "outputs": [],
   "source": [
    "def minMeetingRooms(intervals):\n",
    "    \n",
    "    # If there are no meetings, we don't need any rooms.\n",
    "    if not intervals:\n",
    "        return 0\n",
    "\n",
    "    used_rooms = 0\n",
    "\n",
    "    # Separate out the start and the end timings and sort them individually.\n",
    "    start_timings = sorted([i[0] for i in intervals])\n",
    "    end_timings = sorted(i[1] for i in intervals)\n",
    "    L = len(intervals)\n",
    "\n",
    "    # The two pointers in the algorithm: e_ptr and s_ptr.\n",
    "    end_pointer = 0\n",
    "    start_pointer = 0\n",
    "\n",
    "    # Until all the meetings have been processed\n",
    "    while start_pointer < L:\n",
    "        # If there is a meeting that has ended by the time the meeting at `start_pointer` starts\n",
    "        if start_timings[start_pointer] >= end_timings[end_pointer]:\n",
    "            # Free up a room and increment the end_pointer.\n",
    "            used_rooms -= 1\n",
    "            end_pointer += 1\n",
    "\n",
    "        # We do this irrespective of whether a room frees up or not.\n",
    "        # If a room got free, then this used_rooms += 1 wouldn't have any effect. used_rooms would\n",
    "        # remain the same in that case. If no room was free, then this would increase used_rooms\n",
    "        used_rooms += 1    \n",
    "        start_pointer += 1   \n",
    "\n",
    "    return used_rooms"
   ]
  },
  {
   "cell_type": "code",
   "execution_count": 21,
   "id": "82d8d158",
   "metadata": {
    "ExecuteTime": {
     "end_time": "2022-10-15T13:47:21.660342Z",
     "start_time": "2022-10-15T13:47:21.657547Z"
    }
   },
   "outputs": [
    {
     "data": {
      "text/plain": [
       "2"
      ]
     },
     "execution_count": 21,
     "metadata": {},
     "output_type": "execute_result"
    }
   ],
   "source": [
    "intervals = [[0,30],[5,10],[15,20]]\n",
    "minMeetingRooms(intervals)"
   ]
  },
  {
   "cell_type": "code",
   "execution_count": 22,
   "id": "59bcc651",
   "metadata": {
    "ExecuteTime": {
     "end_time": "2022-10-15T13:47:25.970280Z",
     "start_time": "2022-10-15T13:47:25.966809Z"
    }
   },
   "outputs": [
    {
     "data": {
      "text/plain": [
       "1"
      ]
     },
     "execution_count": 22,
     "metadata": {},
     "output_type": "execute_result"
    }
   ],
   "source": [
    "intervals = [[7,10],[2,4]]\n",
    "minMeetingRooms(intervals)"
   ]
  },
  {
   "cell_type": "code",
   "execution_count": null,
   "id": "3d0042c3",
   "metadata": {},
   "outputs": [],
   "source": []
  }
 ],
 "metadata": {
  "hide_input": false,
  "kernelspec": {
   "display_name": "Python 3 (ipykernel)",
   "language": "python",
   "name": "python3"
  },
  "language_info": {
   "codemirror_mode": {
    "name": "ipython",
    "version": 3
   },
   "file_extension": ".py",
   "mimetype": "text/x-python",
   "name": "python",
   "nbconvert_exporter": "python",
   "pygments_lexer": "ipython3",
   "version": "3.9.7"
  },
  "toc": {
   "base_numbering": 1,
   "nav_menu": {},
   "number_sections": false,
   "sideBar": true,
   "skip_h1_title": false,
   "title_cell": "Table of Contents",
   "title_sidebar": "Contents",
   "toc_cell": false,
   "toc_position": {},
   "toc_section_display": true,
   "toc_window_display": false
  },
  "varInspector": {
   "cols": {
    "lenName": 16,
    "lenType": 16,
    "lenVar": 40
   },
   "kernels_config": {
    "python": {
     "delete_cmd_postfix": "",
     "delete_cmd_prefix": "del ",
     "library": "var_list.py",
     "varRefreshCmd": "print(var_dic_list())"
    },
    "r": {
     "delete_cmd_postfix": ") ",
     "delete_cmd_prefix": "rm(",
     "library": "var_list.r",
     "varRefreshCmd": "cat(var_dic_list()) "
    }
   },
   "types_to_exclude": [
    "module",
    "function",
    "builtin_function_or_method",
    "instance",
    "_Feature"
   ],
   "window_display": false
  }
 },
 "nbformat": 4,
 "nbformat_minor": 5
}
