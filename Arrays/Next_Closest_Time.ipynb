{
 "cells": [
  {
   "cell_type": "markdown",
   "id": "d554f8dd",
   "metadata": {},
   "source": [
    "Given a time represented in the format \"HH:MM\", form the next closest time by reusing the current digits. There is no limit on how many times a digit can be reused.\n",
    "\n",
    "You may assume the given input string is always valid. For example, \"01:34\", \"12:09\" are all valid. \"1:34\", \"12:9\" are all invalid."
   ]
  },
  {
   "cell_type": "markdown",
   "id": "47ca2970",
   "metadata": {},
   "source": [
    "## Example 1:\n",
    "\n",
    "__Input__: time = \"19:34\"  \n",
    "__Output__: \"19:39\"  \n",
    "__Explanation__: The next closest time choosing from digits 1, 9, 3, 4, is 19:39, which occurs 5 minutes later.  \n",
    "It is not 19:33, because this occurs 23 hours and 59 minutes later.\n",
    "\n",
    "\n",
    "## Example 2:\n",
    "\n",
    "__Input__: time = \"23:59\"  \n",
    "__Output__: \"22:22\"  \n",
    "__Explanation__: The next closest time choosing from digits 2, 3, 5, 9, is 22:22.  \n",
    "It may be assumed that the returned time is next day's time since it is smaller than the input time numerical"
   ]
  },
  {
   "cell_type": "code",
   "execution_count": null,
   "id": "2444e91e",
   "metadata": {},
   "outputs": [],
   "source": []
  }
 ],
 "metadata": {
  "hide_input": false,
  "kernelspec": {
   "display_name": "Python 3 (ipykernel)",
   "language": "python",
   "name": "python3"
  },
  "language_info": {
   "codemirror_mode": {
    "name": "ipython",
    "version": 3
   },
   "file_extension": ".py",
   "mimetype": "text/x-python",
   "name": "python",
   "nbconvert_exporter": "python",
   "pygments_lexer": "ipython3",
   "version": "3.9.7"
  },
  "toc": {
   "base_numbering": 1,
   "nav_menu": {},
   "number_sections": false,
   "sideBar": true,
   "skip_h1_title": false,
   "title_cell": "Table of Contents",
   "title_sidebar": "Contents",
   "toc_cell": false,
   "toc_position": {},
   "toc_section_display": true,
   "toc_window_display": false
  },
  "varInspector": {
   "cols": {
    "lenName": 16,
    "lenType": 16,
    "lenVar": 40
   },
   "kernels_config": {
    "python": {
     "delete_cmd_postfix": "",
     "delete_cmd_prefix": "del ",
     "library": "var_list.py",
     "varRefreshCmd": "print(var_dic_list())"
    },
    "r": {
     "delete_cmd_postfix": ") ",
     "delete_cmd_prefix": "rm(",
     "library": "var_list.r",
     "varRefreshCmd": "cat(var_dic_list()) "
    }
   },
   "types_to_exclude": [
    "module",
    "function",
    "builtin_function_or_method",
    "instance",
    "_Feature"
   ],
   "window_display": false
  }
 },
 "nbformat": 4,
 "nbformat_minor": 5
}
