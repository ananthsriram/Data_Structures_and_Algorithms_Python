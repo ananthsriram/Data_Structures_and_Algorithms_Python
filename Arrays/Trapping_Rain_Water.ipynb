{
 "cells": [
  {
   "cell_type": "markdown",
   "id": "7550dc9b",
   "metadata": {},
   "source": [
    "Given n non-negative integers representing an elevation map where the width of each bar is 1, compute how much water it can trap after raining.\n",
    "\n"
   ]
  },
  {
   "attachments": {
    "image.png": {
     "image/png": "[encoded data removed]"
    }
   },
   "cell_type": "markdown",
   "id": "645d4819",
   "metadata": {},
   "source": [
    "## Example 1:\n",
    "\n",
    "![image.png](attachment:image.png)\n",
    "\n",
    "__Input__: height = [0,1,0,2,1,0,1,3,2,1,2,1]  \n",
    "__Output__: 6  \n",
    "__Explanation__: The above elevation map (black section) is represented by array [0,1,0,2,1,0,1,3,2,1,2,1]. In this case, 6 units of rain water (blue section) are being trapped.\n",
    "\n",
    "\n",
    "## Example 2:\n",
    "\n",
    "__Input__: height = [4,2,0,3,2,5]  \n",
    "__Output__: 9"
   ]
  },
  {
   "cell_type": "code",
   "execution_count": 4,
   "id": "005593e2",
   "metadata": {
    "ExecuteTime": {
     "end_time": "2022-10-15T13:37:54.171098Z",
     "start_time": "2022-10-15T13:37:54.168168Z"
    }
   },
   "outputs": [],
   "source": [
    "def trap(height):\n",
    "    areas = 0\n",
    "    max_l = max_r = 0\n",
    "    l = 0\n",
    "    r = len(height)-1\n",
    "    while l < r:\n",
    "        if height[l] < height[r]:\n",
    "            if height[l] > max_l:\n",
    "                max_l = height[l]\n",
    "            else:\n",
    "                areas += max_l - height[l]\n",
    "            l +=1\n",
    "        else:\n",
    "            if height[r] > max_r:\n",
    "                max_r = height[r]\n",
    "            else:\n",
    "                areas += max_r - height[r]\n",
    "            r -=1\n",
    "    return areas"
   ]
  },
  {
   "cell_type": "code",
   "execution_count": 5,
   "id": "6c7094a6",
   "metadata": {
    "ExecuteTime": {
     "end_time": "2022-10-15T13:38:00.406691Z",
     "start_time": "2022-10-15T13:38:00.400433Z"
    }
   },
   "outputs": [
    {
     "data": {
      "text/plain": [
       "6"
      ]
     },
     "execution_count": 5,
     "metadata": {},
     "output_type": "execute_result"
    }
   ],
   "source": [
    "height = [0,1,0,2,1,0,1,3,2,1,2,1]\n",
    "trap(height)"
   ]
  },
  {
   "cell_type": "code",
   "execution_count": 6,
   "id": "03f437fb",
   "metadata": {
    "ExecuteTime": {
     "end_time": "2022-10-15T13:38:08.694630Z",
     "start_time": "2022-10-15T13:38:08.691622Z"
    }
   },
   "outputs": [
    {
     "data": {
      "text/plain": [
       "9"
      ]
     },
     "execution_count": 6,
     "metadata": {},
     "output_type": "execute_result"
    }
   ],
   "source": [
    "height = [4,2,0,3,2,5]\n",
    "trap(height)"
   ]
  },
  {
   "cell_type": "code",
   "execution_count": null,
   "id": "068ac718",
   "metadata": {},
   "outputs": [],
   "source": []
  }
 ],
 "metadata": {
  "hide_input": false,
  "kernelspec": {
   "display_name": "Python 3 (ipykernel)",
   "language": "python",
   "name": "python3"
  },
  "language_info": {
   "codemirror_mode": {
    "name": "ipython",
    "version": 3
   },
   "file_extension": ".py",
   "mimetype": "text/x-python",
   "name": "python",
   "nbconvert_exporter": "python",
   "pygments_lexer": "ipython3",
   "version": "3.9.7"
  },
  "toc": {
   "base_numbering": 1,
   "nav_menu": {},
   "number_sections": false,
   "sideBar": true,
   "skip_h1_title": false,
   "title_cell": "Table of Contents",
   "title_sidebar": "Contents",
   "toc_cell": false,
   "toc_position": {},
   "toc_section_display": true,
   "toc_window_display": false
  },
  "varInspector": {
   "cols": {
    "lenName": 16,
    "lenType": 16,
    "lenVar": 40
   },
   "kernels_config": {
    "python": {
     "delete_cmd_postfix": "",
     "delete_cmd_prefix": "del ",
     "library": "var_list.py",
     "varRefreshCmd": "print(var_dic_list())"
    },
    "r": {
     "delete_cmd_postfix": ") ",
     "delete_cmd_prefix": "rm(",
     "library": "var_list.r",
     "varRefreshCmd": "cat(var_dic_list()) "
    }
   },
   "types_to_exclude": [
    "module",
    "function",
    "builtin_function_or_method",
    "instance",
    "_Feature"
   ],
   "window_display": false
  }
 },
 "nbformat": 4,
 "nbformat_minor": 5
}
