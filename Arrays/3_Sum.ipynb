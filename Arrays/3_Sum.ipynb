{
 "cells": [
  {
   "cell_type": "markdown",
   "id": "a15c19e4",
   "metadata": {},
   "source": [
    "Given an integer array nums, return all the triplets [nums[i], nums[j], nums[k]] such that i != j, i != k, and j != k, and nums[i] + nums[j] + nums[k] == 0.\n",
    "\n",
    "Notice that the solution set must not contain duplicate triplets."
   ]
  },
  {
   "cell_type": "markdown",
   "id": "9d089139",
   "metadata": {},
   "source": [
    "## Example 1:\n",
    "\n",
    "__Input__: nums = [-1,0,1,2,-1,-4]  \n",
    "__Output__: [[-1,-1,2],[-1,0,1]]  \n",
    "__Explanation__:  \n",
    "nums[0] + nums[1] + nums[2] = (-1) + 0 + 1 = 0.  \n",
    "nums[1] + nums[2] + nums[4] = 0 + 1 + (-1) = 0.  \n",
    "nums[0] + nums[3] + nums[4] = (-1) + 2 + (-1) = 0.  \n",
    "The distinct triplets are [-1,0,1] and [-1,-1,2].  \n",
    "Notice that the order of the output and the order of the triplets does not matter.\n",
    "\n",
    "\n",
    "## Example 2:\n",
    "\n",
    "__Input__: nums = [0,1,1]  \n",
    "__Output__: []  \n",
    "__Explanation__: The only possible triplet does not sum up to 0.\n",
    "\n",
    "\n",
    "## Example 3:\n",
    "\n",
    "__Input__: nums = [0,0,0]  \n",
    "__Output__: [[0,0,0]]  \n",
    "__Explanation__: The only possible triplet sums up to 0."
   ]
  },
  {
   "cell_type": "code",
   "execution_count": 2,
   "id": "9c4cc753",
   "metadata": {
    "ExecuteTime": {
     "end_time": "2022-10-15T12:55:46.302889Z",
     "start_time": "2022-10-15T12:55:46.298840Z"
    }
   },
   "outputs": [],
   "source": [
    "class Solution:\n",
    "    def threeSum(self, nums):\n",
    "        res = []\n",
    "        nums.sort()\n",
    "        for i in range(len(nums)):\n",
    "            if nums[i] > 0:\n",
    "                break\n",
    "            if i == 0 or nums[i - 1] != nums[i]:\n",
    "                self.twoSumII(nums, i, res)\n",
    "        return res\n",
    "\n",
    "    def twoSumII(self, nums, i, res):\n",
    "        lo, hi = i + 1, len(nums) - 1\n",
    "        while (lo < hi):\n",
    "            sum = nums[i] + nums[lo] + nums[hi]\n",
    "            if sum < 0:\n",
    "                lo += 1\n",
    "            elif sum > 0:\n",
    "                hi -= 1\n",
    "            else:\n",
    "                res.append([nums[i], nums[lo], nums[hi]])\n",
    "                lo += 1\n",
    "                hi -= 1\n",
    "                while lo < hi and nums[lo] == nums[lo - 1]:\n",
    "                    lo += 1"
   ]
  },
  {
   "cell_type": "code",
   "execution_count": 3,
   "id": "0ece2127",
   "metadata": {
    "ExecuteTime": {
     "end_time": "2022-10-15T12:56:14.618108Z",
     "start_time": "2022-10-15T12:56:14.614054Z"
    }
   },
   "outputs": [],
   "source": [
    "class Solution:\n",
    "    def threeSum(self, nums):\n",
    "        res = []\n",
    "        nums.sort()\n",
    "        for i in range(len(nums)):\n",
    "            if nums[i] > 0:\n",
    "                break\n",
    "            if i == 0 or nums[i - 1] != nums[i]:\n",
    "                self.twoSum(nums, i, res)\n",
    "        return res\n",
    "\n",
    "    def twoSum(self, nums, i, res):\n",
    "        seen = set()\n",
    "        j = i + 1\n",
    "        while j < len(nums):\n",
    "            complement = -nums[i] - nums[j]\n",
    "            if complement in seen:\n",
    "                res.append([nums[i], nums[j], complement])\n",
    "                while j + 1 < len(nums) and nums[j] == nums[j + 1]:\n",
    "                    j += 1\n",
    "            seen.add(nums[j])\n",
    "            j += 1"
   ]
  },
  {
   "cell_type": "code",
   "execution_count": 4,
   "id": "7e7ac3e8",
   "metadata": {
    "ExecuteTime": {
     "end_time": "2022-10-15T12:56:26.833824Z",
     "start_time": "2022-10-15T12:56:26.830639Z"
    }
   },
   "outputs": [],
   "source": [
    "class Solution:\n",
    "    def threeSum(self, nums):\n",
    "        res, dups = set(), set()\n",
    "        seen = {}\n",
    "        for i, val1 in enumerate(nums):\n",
    "            if val1 not in dups:\n",
    "                dups.add(val1)\n",
    "                for j, val2 in enumerate(nums[i+1:]):\n",
    "                    complement = -val1 - val2\n",
    "                    if complement in seen and seen[complement] == i:\n",
    "                        res.add(tuple(sorted((val1, val2, complement))))\n",
    "                    seen[val2] = i\n",
    "        return res"
   ]
  },
  {
   "cell_type": "code",
   "execution_count": null,
   "id": "083183df",
   "metadata": {},
   "outputs": [],
   "source": []
  }
 ],
 "metadata": {
  "hide_input": false,
  "kernelspec": {
   "display_name": "Python 3 (ipykernel)",
   "language": "python",
   "name": "python3"
  },
  "language_info": {
   "codemirror_mode": {
    "name": "ipython",
    "version": 3
   },
   "file_extension": ".py",
   "mimetype": "text/x-python",
   "name": "python",
   "nbconvert_exporter": "python",
   "pygments_lexer": "ipython3",
   "version": "3.9.7"
  },
  "toc": {
   "base_numbering": 1,
   "nav_menu": {},
   "number_sections": false,
   "sideBar": true,
   "skip_h1_title": false,
   "title_cell": "Table of Contents",
   "title_sidebar": "Contents",
   "toc_cell": false,
   "toc_position": {},
   "toc_section_display": true,
   "toc_window_display": false
  },
  "varInspector": {
   "cols": {
    "lenName": 16,
    "lenType": 16,
    "lenVar": 40
   },
   "kernels_config": {
    "python": {
     "delete_cmd_postfix": "",
     "delete_cmd_prefix": "del ",
     "library": "var_list.py",
     "varRefreshCmd": "print(var_dic_list())"
    },
    "r": {
     "delete_cmd_postfix": ") ",
     "delete_cmd_prefix": "rm(",
     "library": "var_list.r",
     "varRefreshCmd": "cat(var_dic_list()) "
    }
   },
   "types_to_exclude": [
    "module",
    "function",
    "builtin_function_or_method",
    "instance",
    "_Feature"
   ],
   "window_display": false
  }
 },
 "nbformat": 4,
 "nbformat_minor": 5
}
