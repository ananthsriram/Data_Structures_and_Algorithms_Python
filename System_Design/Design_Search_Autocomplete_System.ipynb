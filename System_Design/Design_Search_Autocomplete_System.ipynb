{
 "cells": [
  {
   "cell_type": "markdown",
   "id": "98123703",
   "metadata": {},
   "source": [
    "Design a search autocomplete system for a search engine. Users may input a sentence (at least one word and end with a special character '#').\n",
    "\n",
    "You are given a string array sentences and an integer array times both of length n where sentences[i] is a previously typed sentence and times[i] is the corresponding number of times the sentence was typed. For each input character except '#', return the top 3 historical hot sentences that have the same prefix as the part of the sentence already typed.\n",
    "\n",
    "Here are the specific rules:\n",
    "- The hot degree for a sentence is defined as the number of times a user typed the exactly same sentence before.\n",
    "- The returned top 3 hot sentences should be sorted by hot degree (The first is the hottest one). If several sentences have the same hot degree, use ASCII-code order (smaller one appears first).\n",
    "- If less than 3 hot sentences exist, return as many as you can.\n",
    "- When the input is a special character, it means the sentence ends, and in this case, you need to return an empty list.\n",
    "\n",
    "Implement the AutocompleteSystem class:\n",
    "- AutocompleteSystem(String[] sentences, int[] times) Initializes the object with the sentences and times arrays.\n",
    "- List<String> input(char c) This indicates that the user typed the character c.\n",
    "    - Returns an empty array [] if c == '#' and stores the inputted sentence in the system.\n",
    "    - Returns the top 3 historical hot sentences that have the same prefix as the part of the sentence already typed. If there are fewer than 3 matches, return them all."
   ]
  },
  {
   "cell_type": "markdown",
   "id": "c5a19ea2",
   "metadata": {},
   "source": [
    "## Example 1:\n",
    "\n",
    "__Input__   \n",
    "[\"AutocompleteSystem\", \"input\", \"input\", \"input\", \"input\"]  \n",
    "[[[\"i love you\", \"island\", \"iroman\", \"i love leetcode\"], [5, 3, 2, 2]], [\"i\"], [\" \"], [\"a\"], [\"#\"]]  \n",
    "\n",
    "__Output__   \n",
    "[null, [\"i love you\", \"island\", \"i love leetcode\"], [\"i love you\", \"i love leetcode\"], [], []]  \n",
    "\n",
    "__Explanation__  \n",
    "AutocompleteSystem obj = new AutocompleteSystem([\"i love you\", \"island\", \"iroman\", \"i love leetcode\"], [5, 3, 2, 2]);\n",
    "\n",
    "\n",
    "obj.input(\"i\"); // return [\"i love you\", \"island\", \"i love leetcode\"]. There are four sentences that have prefix \"i\". \n",
    "Among them, \"ironman\" and \"i love leetcode\" have same hot degree. Since ' ' has ASCII code 32 and 'r' has ASCII code 114, \"i love leetcode\" should be in front of \"ironman\". Also we only need to output top 3 hot sentences, so \"ironman\" will be ignored.  \n",
    "\n",
    "\n",
    "obj.input(\" \"); // return [\"i love you\", \"i love leetcode\"]. There are only two sentences that have prefix \"i \".  \n",
    "\n",
    "obj.input(\"a\"); // return []. There are no sentences that have prefix \"i a\".  \n",
    "\n",
    "obj.input(\"#\"); // return []. The user finished the input, the sentence \"i a\" should be saved as a historical sentence in system. And the following input will be counted as a new search.  \n"
   ]
  },
  {
   "cell_type": "code",
   "execution_count": null,
   "id": "82ff7c9e",
   "metadata": {},
   "outputs": [],
   "source": []
  }
 ],
 "metadata": {
  "hide_input": false,
  "kernelspec": {
   "display_name": "Python 3 (ipykernel)",
   "language": "python",
   "name": "python3"
  },
  "language_info": {
   "codemirror_mode": {
    "name": "ipython",
    "version": 3
   },
   "file_extension": ".py",
   "mimetype": "text/x-python",
   "name": "python",
   "nbconvert_exporter": "python",
   "pygments_lexer": "ipython3",
   "version": "3.9.7"
  },
  "toc": {
   "base_numbering": 1,
   "nav_menu": {},
   "number_sections": false,
   "sideBar": true,
   "skip_h1_title": false,
   "title_cell": "Table of Contents",
   "title_sidebar": "Contents",
   "toc_cell": false,
   "toc_position": {},
   "toc_section_display": true,
   "toc_window_display": false
  },
  "varInspector": {
   "cols": {
    "lenName": 16,
    "lenType": 16,
    "lenVar": 40
   },
   "kernels_config": {
    "python": {
     "delete_cmd_postfix": "",
     "delete_cmd_prefix": "del ",
     "library": "var_list.py",
     "varRefreshCmd": "print(var_dic_list())"
    },
    "r": {
     "delete_cmd_postfix": ") ",
     "delete_cmd_prefix": "rm(",
     "library": "var_list.r",
     "varRefreshCmd": "cat(var_dic_list()) "
    }
   },
   "types_to_exclude": [
    "module",
    "function",
    "builtin_function_or_method",
    "instance",
    "_Feature"
   ],
   "window_display": false
  }
 },
 "nbformat": 4,
 "nbformat_minor": 5
}
