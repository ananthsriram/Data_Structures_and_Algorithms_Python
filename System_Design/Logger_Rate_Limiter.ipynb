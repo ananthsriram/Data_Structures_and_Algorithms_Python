{
 "cells": [
  {
   "cell_type": "markdown",
   "id": "b4786898",
   "metadata": {},
   "source": [
    "Design a logger system that receives a stream of messages along with their timestamps. Each unique message should only be printed at most every 10 seconds (i.e. a message printed at timestamp t will prevent other identical messages from being printed until timestamp t + 10).\n",
    "\n",
    "All messages will come in chronological order. Several messages may arrive at the same timestamp.\n",
    "\n",
    "Implement the Logger class:\n",
    "\n",
    "- Logger() Initializes the logger object.\n",
    "- bool shouldPrintMessage(int timestamp, string message) Returns true if the message should be printed in the given timestamp, otherwise returns false."
   ]
  },
  {
   "cell_type": "markdown",
   "id": "6960ff4f",
   "metadata": {},
   "source": [
    "## Example 1:\n",
    "\n",
    "__Input__  \n",
    "[\"Logger\", \"shouldPrintMessage\", \"shouldPrintMessage\", \"shouldPrintMessage\", \"shouldPrintMessage\", \"shouldPrintMessage\", \"shouldPrintMessage\"]  \n",
    "[[], [1, \"foo\"], [2, \"bar\"], [3, \"foo\"], [8, \"bar\"], [10, \"foo\"], [11, \"foo\"]]  \n",
    "\n",
    "__Output__  \n",
    "[null, true, true, false, false, false, true]\n",
    "\n",
    "__Explanation__   \n",
    "Logger logger = new Logger();  \n",
    "logger.shouldPrintMessage(1, \"foo\");  // return true, next allowed timestamp for \"foo\" is 1 + 10 = 11  \n",
    "logger.shouldPrintMessage(2, \"bar\");  // return true, next allowed timestamp for \"bar\" is 2 + 10 = 12  \n",
    "logger.shouldPrintMessage(3, \"foo\");  // 3 < 11, return false  \n",
    "logger.shouldPrintMessage(8, \"bar\");  // 8 < 12, return false  \n",
    "logger.shouldPrintMessage(10, \"foo\"); // 10 < 11, return false  \n",
    "logger.shouldPrintMessage(11, \"foo\"); // 11 >= 11, return true, next allowed timestamp for \"foo\" is 11   "
   ]
  },
  {
   "cell_type": "code",
   "execution_count": 1,
   "id": "a762ada7",
   "metadata": {
    "ExecuteTime": {
     "end_time": "2022-10-15T15:58:00.174841Z",
     "start_time": "2022-10-15T15:58:00.170927Z"
    }
   },
   "outputs": [],
   "source": [
    "from collections import deque\n",
    "\n",
    "class Logger(object):\n",
    "\n",
    "    def __init__(self):\n",
    "        \"\"\"\n",
    "        Initialize your data structure here.\n",
    "        \"\"\"\n",
    "        self._msg_set = set()\n",
    "        self._msg_queue = deque()\n",
    "    \n",
    "    def shouldPrintMessage(self, timestamp, message):\n",
    "        \"\"\"\n",
    "        Returns true if the message should be printed in the given timestamp, otherwise returns false.\n",
    "        \"\"\"\n",
    "        while self._msg_queue:\n",
    "            msg, ts = self._msg_queue[0]\n",
    "            if timestamp - ts >= 10:\n",
    "                self._msg_queue.popleft()\n",
    "                self._msg_set.remove(msg)\n",
    "            else:\n",
    "                break\n",
    "        \n",
    "        if message not in self._msg_set:\n",
    "            self._msg_set.add(message)\n",
    "            self._msg_queue.append((message, timestamp))\n",
    "            return True\n",
    "        else:\n",
    "            return False"
   ]
  },
  {
   "cell_type": "code",
   "execution_count": 2,
   "id": "e8bca0e1",
   "metadata": {
    "ExecuteTime": {
     "end_time": "2022-10-15T15:58:09.451762Z",
     "start_time": "2022-10-15T15:58:09.448856Z"
    }
   },
   "outputs": [],
   "source": [
    "class Logger(object):\n",
    "\n",
    "    def __init__(self):\n",
    "        \"\"\"\n",
    "        Initialize your data structure here.\n",
    "        \"\"\"\n",
    "        self._msg_dict = {}\n",
    "    \n",
    "    def shouldPrintMessage(self, timestamp, message):\n",
    "        \"\"\"\n",
    "        Returns true if the message should be printed in the given timestamp, otherwise returns false.\n",
    "        \"\"\"\n",
    "        if message not in self._msg_dict:\n",
    "            # case 1). add the message to print\n",
    "            self._msg_dict[message] = timestamp\n",
    "            return True\n",
    "\n",
    "        if timestamp - self._msg_dict[message] >= 10:\n",
    "            # case 2). update the timestamp of the message\n",
    "            self._msg_dict[message] = timestamp\n",
    "            return True\n",
    "        else:\n",
    "            return False\n"
   ]
  },
  {
   "cell_type": "code",
   "execution_count": null,
   "id": "86ade2ca",
   "metadata": {},
   "outputs": [],
   "source": []
  }
 ],
 "metadata": {
  "hide_input": false,
  "kernelspec": {
   "display_name": "Python 3 (ipykernel)",
   "language": "python",
   "name": "python3"
  },
  "language_info": {
   "codemirror_mode": {
    "name": "ipython",
    "version": 3
   },
   "file_extension": ".py",
   "mimetype": "text/x-python",
   "name": "python",
   "nbconvert_exporter": "python",
   "pygments_lexer": "ipython3",
   "version": "3.9.7"
  },
  "toc": {
   "base_numbering": 1,
   "nav_menu": {},
   "number_sections": false,
   "sideBar": true,
   "skip_h1_title": false,
   "title_cell": "Table of Contents",
   "title_sidebar": "Contents",
   "toc_cell": false,
   "toc_position": {},
   "toc_section_display": true,
   "toc_window_display": false
  },
  "varInspector": {
   "cols": {
    "lenName": 16,
    "lenType": 16,
    "lenVar": 40
   },
   "kernels_config": {
    "python": {
     "delete_cmd_postfix": "",
     "delete_cmd_prefix": "del ",
     "library": "var_list.py",
     "varRefreshCmd": "print(var_dic_list())"
    },
    "r": {
     "delete_cmd_postfix": ") ",
     "delete_cmd_prefix": "rm(",
     "library": "var_list.r",
     "varRefreshCmd": "cat(var_dic_list()) "
    }
   },
   "types_to_exclude": [
    "module",
    "function",
    "builtin_function_or_method",
    "instance",
    "_Feature"
   ],
   "window_display": false
  }
 },
 "nbformat": 4,
 "nbformat_minor": 5
}
