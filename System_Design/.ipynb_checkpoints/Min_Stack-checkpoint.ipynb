{
 "cells": [
  {
   "cell_type": "markdown",
   "id": "218de3ae",
   "metadata": {},
   "source": [
    "Design a stack that supports push, pop, top, and retrieving the minimum element in constant time.\n",
    "\n",
    "Implement the MinStack class:\n",
    "\n",
    "- MinStack() initializes the stack object.\n",
    "- void push(int val) pushes the element val onto the stack.\n",
    "- void pop() removes the element on the top of the stack.\n",
    "- int top() gets the top element of the stack.\n",
    "- int getMin() retrieves the minimum element in the stack.\n",
    "\n",
    "You must implement a solution with O(1) time complexity for each function."
   ]
  },
  {
   "cell_type": "markdown",
   "id": "734236d9",
   "metadata": {},
   "source": [
    "## Example 1:\n",
    "\n",
    "__Input__   \n",
    "[\"MinStack\",\"push\",\"push\",\"push\",\"getMin\",\"pop\",\"top\",\"getMin\"]  \n",
    "[[],[-2],[0],[-3],[],[],[],[]]   \n",
    "\n",
    "__Output__   \n",
    "[null,null,null,null,-3,null,0,-2]  \n",
    "\n",
    "__Explanation__   \n",
    "MinStack minStack = new MinStack();  \n",
    "minStack.push(-2);  \n",
    "minStack.push(0);  \n",
    "minStack.push(-3);  \n",
    "minStack.getMin(); // return -3  \n",
    "minStack.pop();  \n",
    "minStack.top();    // return 0  \n",
    "minStack.getMin(); // return -2  "
   ]
  },
  {
   "cell_type": "code",
   "execution_count": 1,
   "id": "6c3b9448",
   "metadata": {
    "ExecuteTime": {
     "end_time": "2022-10-15T15:50:19.214193Z",
     "start_time": "2022-10-15T15:50:19.210633Z"
    }
   },
   "outputs": [],
   "source": [
    "class MinStack:\n",
    "\n",
    "    def __init__(self):\n",
    "        self.stack = []\n",
    "        \n",
    "\n",
    "    def push(self, x: int) -> None:\n",
    "        \n",
    "        # If the stack is empty, then the min value\n",
    "        # must just be the first value we add\n",
    "        if not self.stack:\n",
    "            self.stack.append((x, x))\n",
    "            return\n",
    "\n",
    "        current_min = self.stack[-1][1]\n",
    "        self.stack.append((x, min(x, current_min)))\n",
    "        \n",
    "        \n",
    "    def pop(self) -> None:\n",
    "        self.stack.pop()\n",
    "        \n",
    "\n",
    "    def top(self) -> int:\n",
    "        return self.stack[-1][0]\n",
    "        \n",
    "\n",
    "    def getMin(self) -> int:\n",
    "        return self.stack[-1][1]"
   ]
  },
  {
   "cell_type": "code",
   "execution_count": 2,
   "id": "125efef5",
   "metadata": {
    "ExecuteTime": {
     "end_time": "2022-10-15T15:50:28.818743Z",
     "start_time": "2022-10-15T15:50:28.815391Z"
    }
   },
   "outputs": [],
   "source": [
    "class MinStack:\n",
    "\n",
    "    def __init__(self):\n",
    "        self.stack = []\n",
    "        self.min_stack = []        \n",
    "        \n",
    "\n",
    "    def push(self, x: int) -> None:\n",
    "        self.stack.append(x)\n",
    "        if not self.min_stack or x <= self.min_stack[-1]:\n",
    "            self.min_stack.append(x)\n",
    "    \n",
    "    def pop(self) -> None:\n",
    "        if self.min_stack[-1] == self.stack[-1]:\n",
    "            self.min_stack.pop()\n",
    "        self.stack.pop()\n",
    "\n",
    "    def top(self) -> int:\n",
    "        return self.stack[-1]\n",
    "\n",
    "    def getMin(self) -> int:\n",
    "        return self.min_stack[-1]"
   ]
  },
  {
   "cell_type": "code",
   "execution_count": 3,
   "id": "7c59bec0",
   "metadata": {
    "ExecuteTime": {
     "end_time": "2022-10-15T15:50:35.424596Z",
     "start_time": "2022-10-15T15:50:35.419838Z"
    }
   },
   "outputs": [],
   "source": [
    "class MinStack:\n",
    "\n",
    "    def __init__(self):\n",
    "        self.stack = []\n",
    "        self.min_stack = []        \n",
    "        \n",
    "\n",
    "    def push(self, x: int) -> None:\n",
    "        \n",
    "        # We always put the number onto the main stack.\n",
    "        self.stack.append(x)\n",
    "        \n",
    "        # If the min stack is empty, or this number is smaller than\n",
    "        # the top of the min stack, put it on with a count of 1.\n",
    "        if not self.min_stack or x < self.min_stack[-1][0]:\n",
    "            self.min_stack.append([x, 1])\n",
    "            \n",
    "        # Else if this number is equal to what's currently at the top\n",
    "        # of the min stack, then increment the count at the top by 1.\n",
    "        elif x == self.min_stack[-1][0]:\n",
    "            self.min_stack[-1][1] += 1\n",
    "\n",
    "    \n",
    "    def pop(self) -> None:\n",
    "\n",
    "        # If the top of min stack is the same as the top of stack\n",
    "        # then we need to decrement the count at the top by 1.\n",
    "        if self.min_stack[-1][0] == self.stack[-1]:\n",
    "            self.min_stack[-1][1] -= 1\n",
    "            \n",
    "        # If the count at the top of min stack is now 0, then remove\n",
    "        # that value as we're done with it.\n",
    "        if self.min_stack[-1][1] == 0:\n",
    "            self.min_stack.pop()\n",
    "            \n",
    "        # And like before, pop the top of the main stack.\n",
    "        self.stack.pop()\n",
    "\n",
    "\n",
    "    def top(self) -> int:\n",
    "        return self.stack[-1]\n",
    "\n",
    "\n",
    "    def getMin(self) -> int:\n",
    "        return self.min_stack[-1][0]   "
   ]
  },
  {
   "cell_type": "code",
   "execution_count": null,
   "id": "db63811c",
   "metadata": {},
   "outputs": [],
   "source": []
  }
 ],
 "metadata": {
  "hide_input": false,
  "kernelspec": {
   "display_name": "Python 3 (ipykernel)",
   "language": "python",
   "name": "python3"
  },
  "language_info": {
   "codemirror_mode": {
    "name": "ipython",
    "version": 3
   },
   "file_extension": ".py",
   "mimetype": "text/x-python",
   "name": "python",
   "nbconvert_exporter": "python",
   "pygments_lexer": "ipython3",
   "version": "3.9.7"
  },
  "toc": {
   "base_numbering": 1,
   "nav_menu": {},
   "number_sections": false,
   "sideBar": true,
   "skip_h1_title": false,
   "title_cell": "Table of Contents",
   "title_sidebar": "Contents",
   "toc_cell": false,
   "toc_position": {},
   "toc_section_display": true,
   "toc_window_display": false
  },
  "varInspector": {
   "cols": {
    "lenName": 16,
    "lenType": 16,
    "lenVar": 40
   },
   "kernels_config": {
    "python": {
     "delete_cmd_postfix": "",
     "delete_cmd_prefix": "del ",
     "library": "var_list.py",
     "varRefreshCmd": "print(var_dic_list())"
    },
    "r": {
     "delete_cmd_postfix": ") ",
     "delete_cmd_prefix": "rm(",
     "library": "var_list.r",
     "varRefreshCmd": "cat(var_dic_list()) "
    }
   },
   "types_to_exclude": [
    "module",
    "function",
    "builtin_function_or_method",
    "instance",
    "_Feature"
   ],
   "window_display": false
  }
 },
 "nbformat": 4,
 "nbformat_minor": 5
}
