{
 "cells": [
  {
   "cell_type": "markdown",
   "id": "76473160",
   "metadata": {},
   "source": [
    "You are implementing a program to use as your calendar. We can add a new event if adding the event will not cause a triple booking.\n",
    "\n",
    "A triple booking happens when three events have some non-empty intersection (i.e., some moment is common to all the three events.).\n",
    "\n",
    "The event can be represented as a pair of integers start and end that represents a booking on the half-open interval [start, end), the range of real numbers x such that start <= x < end.\n",
    "\n",
    "Implement the MyCalendarTwo class:\n",
    "\n",
    "- MyCalendarTwo() Initializes the calendar object.\n",
    "- boolean book(int start, int end) Returns true if the event can be added to the calendar successfully without causing a triple booking. Otherwise, return false and do not add the event to the calendar.\n"
   ]
  },
  {
   "cell_type": "markdown",
   "id": "746cbb11",
   "metadata": {},
   "source": [
    "## Example 1:\n",
    "\n",
    "__Input__  \n",
    "[\"MyCalendarTwo\", \"book\", \"book\", \"book\", \"book\", \"book\", \"book\"]  \n",
    "[[], [10, 20], [50, 60], [10, 40], [5, 15], [5, 10], [25, 55]]  \n",
    "__Output__  \n",
    "[null, true, true, true, false, true, true]  \n",
    "\n",
    "__Explanation__   \n",
    "MyCalendarTwo myCalendarTwo = new MyCalendarTwo();  \n",
    "myCalendarTwo.book(10, 20); // return True, The event can be booked.   \n",
    "myCalendarTwo.book(50, 60); // return True, The event can be booked.   \n",
    "myCalendarTwo.book(10, 40); // return True, The event can be double booked.   \n",
    "myCalendarTwo.book(5, 15);  // return False, The event cannot be booked, because it would result in a triple booking.  \n",
    "myCalendarTwo.book(5, 10); // return True, The event can be booked, as it does not use time 10 which is already double booked.  \n",
    "myCalendarTwo.book(25, 55); // return True, The event can be booked, as the time in [25, 40) will be double booked with the third event, the time [40, 50) will be single booked, and the time [50, 55) will be double booked with the second event.  "
   ]
  },
  {
   "cell_type": "code",
   "execution_count": 1,
   "id": "b34db90d",
   "metadata": {
    "ExecuteTime": {
     "end_time": "2022-10-16T11:03:26.367277Z",
     "start_time": "2022-10-16T11:03:26.364038Z"
    }
   },
   "outputs": [],
   "source": [
    "class MyCalendarTwo:\n",
    "    def __init__(self):\n",
    "        self.calendar = []\n",
    "        self.overlaps = []\n",
    "\n",
    "    def book(self, start, end):\n",
    "        for i, j in self.overlaps:\n",
    "            if start < j and end > i:\n",
    "                return False\n",
    "        for i, j in self.calendar:\n",
    "            if start < j and end > i:\n",
    "                self.overlaps.append((max(start, i), min(end, j)))\n",
    "        self.calendar.append((start, end))\n",
    "        return True"
   ]
  },
  {
   "cell_type": "code",
   "execution_count": 2,
   "id": "f037ff28",
   "metadata": {
    "ExecuteTime": {
     "end_time": "2022-10-16T11:03:52.012000Z",
     "start_time": "2022-10-16T11:03:52.008503Z"
    }
   },
   "outputs": [],
   "source": [
    "import bisect\n",
    "class MyCalendarTwo(object):\n",
    "\n",
    "    def __init__(self):\n",
    "        self.calendar = []\n",
    "\n",
    "    def book(self, start, end):\n",
    "        bisect.insort(self.calendar, (start, 1))\n",
    "        bisect.insort(self.calendar, (end, -1))\n",
    "        \n",
    "        bookings = 0\n",
    "        for time, freq in self.calendar:\n",
    "            bookings += freq\n",
    "            if bookings == 3:\n",
    "                self.calendar.pop(bisect.bisect_left(self.calendar, (start, 1)))\n",
    "                self.calendar.pop(bisect.bisect_left(self.calendar, (end, -1)))\n",
    "                return False\n",
    "        \n",
    "        return True"
   ]
  },
  {
   "cell_type": "code",
   "execution_count": null,
   "id": "51f7e13c",
   "metadata": {},
   "outputs": [],
   "source": []
  }
 ],
 "metadata": {
  "hide_input": false,
  "kernelspec": {
   "display_name": "Python 3 (ipykernel)",
   "language": "python",
   "name": "python3"
  },
  "language_info": {
   "codemirror_mode": {
    "name": "ipython",
    "version": 3
   },
   "file_extension": ".py",
   "mimetype": "text/x-python",
   "name": "python",
   "nbconvert_exporter": "python",
   "pygments_lexer": "ipython3",
   "version": "3.9.7"
  },
  "toc": {
   "base_numbering": 1,
   "nav_menu": {},
   "number_sections": false,
   "sideBar": true,
   "skip_h1_title": false,
   "title_cell": "Table of Contents",
   "title_sidebar": "Contents",
   "toc_cell": false,
   "toc_position": {},
   "toc_section_display": true,
   "toc_window_display": false
  },
  "varInspector": {
   "cols": {
    "lenName": 16,
    "lenType": 16,
    "lenVar": 40
   },
   "kernels_config": {
    "python": {
     "delete_cmd_postfix": "",
     "delete_cmd_prefix": "del ",
     "library": "var_list.py",
     "varRefreshCmd": "print(var_dic_list())"
    },
    "r": {
     "delete_cmd_postfix": ") ",
     "delete_cmd_prefix": "rm(",
     "library": "var_list.r",
     "varRefreshCmd": "cat(var_dic_list()) "
    }
   },
   "types_to_exclude": [
    "module",
    "function",
    "builtin_function_or_method",
    "instance",
    "_Feature"
   ],
   "window_display": false
  }
 },
 "nbformat": 4,
 "nbformat_minor": 5
}
