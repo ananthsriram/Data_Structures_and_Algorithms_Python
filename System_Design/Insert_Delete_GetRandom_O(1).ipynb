{
 "cells": [
  {
   "cell_type": "markdown",
   "id": "d7f41e9f",
   "metadata": {},
   "source": [
    "Implement the RandomizedSet class:\n",
    "\n",
    "- RandomizedSet() Initializes the RandomizedSet object.\n",
    "- bool insert(int val) Inserts an item val into the set if not present. Returns true if the item was not present, false otherwise.\n",
    "- bool remove(int val) Removes an item val from the set if present. Returns true if the item was present, false otherwise.\n",
    "- int getRandom() Returns a random element from the current set of elements (it's guaranteed that at least one element exists when this method is called). Each element must have the same probability of being returned.\n",
    "\n",
    "You must implement the functions of the class such that each function works in average O(1) time complexity."
   ]
  },
  {
   "cell_type": "markdown",
   "id": "7aafdb4e",
   "metadata": {},
   "source": [
    "## Example 1:\n",
    "\n",
    "__Input__  \n",
    "[\"RandomizedSet\", \"insert\", \"remove\", \"insert\", \"getRandom\", \"remove\", \"insert\", \"getRandom\"]  \n",
    "[[], [1], [2], [2], [], [1], [2], []]  \n",
    "\n",
    "__Output__  \n",
    "[null, true, false, true, 2, true, false, 2]  \n",
    "\n",
    "__Explanation__   \n",
    "RandomizedSet randomizedSet = new RandomizedSet();  \n",
    "randomizedSet.insert(1); // Inserts 1 to the set. Returns true as 1 was inserted successfully.  \n",
    "randomizedSet.remove(2); // Returns false as 2 does not exist in the set.  \n",
    "randomizedSet.insert(2); // Inserts 2 to the set, returns true. Set now contains [1,2].  \n",
    "randomizedSet.getRandom(); // getRandom() should return either 1 or 2 randomly.  \n",
    "randomizedSet.remove(1); // Removes 1 from the set, returns true. Set now contains [2].  \n",
    "randomizedSet.insert(2); // 2 was already in the set, so return false.  \n",
    "randomizedSet.getRandom(); // Since 2 is the only number in the set, getRandom() will always return 2.  "
   ]
  },
  {
   "cell_type": "code",
   "execution_count": 1,
   "id": "bb71a2e6",
   "metadata": {
    "ExecuteTime": {
     "end_time": "2022-10-15T16:00:18.667231Z",
     "start_time": "2022-10-15T16:00:18.664204Z"
    }
   },
   "outputs": [],
   "source": [
    "def remove(self, val):\n",
    "    \"\"\"\n",
    "    Removes a value from the set. Returns true if the set contained the specified element.\n",
    "    \"\"\"\n",
    "    if val in self.dict:\n",
    "        # move the last element to the place idx of the element to delete\n",
    "        last_element, idx = self.list[-1], self.dict[val]\n",
    "        self.list[idx], self.dict[last_element] = last_element, idx\n",
    "        # delete the last element\n",
    "        self.list.pop()\n",
    "        del self.dict[val]\n",
    "        return True\n",
    "    return False"
   ]
  },
  {
   "cell_type": "code",
   "execution_count": 2,
   "id": "3f373979",
   "metadata": {
    "ExecuteTime": {
     "end_time": "2022-10-15T16:00:37.901701Z",
     "start_time": "2022-10-15T16:00:37.897331Z"
    }
   },
   "outputs": [],
   "source": [
    "from random import choice\n",
    "class RandomizedSet():\n",
    "    def __init__(self):\n",
    "        \"\"\"\n",
    "        Initialize your data structure here.\n",
    "        \"\"\"\n",
    "        self.dict = {}\n",
    "        self.list = []\n",
    "\n",
    "        \n",
    "    def insert(self, val: int) -> bool:\n",
    "        \"\"\"\n",
    "        Inserts a value to the set. Returns true if the set did not already contain the specified element.\n",
    "        \"\"\"\n",
    "        if val in self.dict:\n",
    "            return False\n",
    "        self.dict[val] = len(self.list)\n",
    "        self.list.append(val)\n",
    "        return True\n",
    "        \n",
    "\n",
    "    def remove(self, val: int) -> bool:\n",
    "        \"\"\"\n",
    "        Removes a value from the set. Returns true if the set contained the specified element.\n",
    "        \"\"\"\n",
    "        if val in self.dict:\n",
    "            # move the last element to the place idx of the element to delete\n",
    "            last_element, idx = self.list[-1], self.dict[val]\n",
    "            self.list[idx], self.dict[last_element] = last_element, idx\n",
    "            # delete the last element\n",
    "            self.list.pop()\n",
    "            del self.dict[val]\n",
    "            return True\n",
    "        return False\n",
    "\n",
    "    def getRandom(self) -> int:\n",
    "        \"\"\"\n",
    "        Get a random element from the set.\n",
    "        \"\"\"\n",
    "        return choice(self.list)"
   ]
  },
  {
   "cell_type": "code",
   "execution_count": null,
   "id": "c06ac06e",
   "metadata": {},
   "outputs": [],
   "source": []
  }
 ],
 "metadata": {
  "hide_input": false,
  "kernelspec": {
   "display_name": "Python 3 (ipykernel)",
   "language": "python",
   "name": "python3"
  },
  "language_info": {
   "codemirror_mode": {
    "name": "ipython",
    "version": 3
   },
   "file_extension": ".py",
   "mimetype": "text/x-python",
   "name": "python",
   "nbconvert_exporter": "python",
   "pygments_lexer": "ipython3",
   "version": "3.9.7"
  },
  "toc": {
   "base_numbering": 1,
   "nav_menu": {},
   "number_sections": false,
   "sideBar": true,
   "skip_h1_title": false,
   "title_cell": "Table of Contents",
   "title_sidebar": "Contents",
   "toc_cell": false,
   "toc_position": {},
   "toc_section_display": true,
   "toc_window_display": false
  },
  "varInspector": {
   "cols": {
    "lenName": 16,
    "lenType": 16,
    "lenVar": 40
   },
   "kernels_config": {
    "python": {
     "delete_cmd_postfix": "",
     "delete_cmd_prefix": "del ",
     "library": "var_list.py",
     "varRefreshCmd": "print(var_dic_list())"
    },
    "r": {
     "delete_cmd_postfix": ") ",
     "delete_cmd_prefix": "rm(",
     "library": "var_list.r",
     "varRefreshCmd": "cat(var_dic_list()) "
    }
   },
   "types_to_exclude": [
    "module",
    "function",
    "builtin_function_or_method",
    "instance",
    "_Feature"
   ],
   "window_display": false
  }
 },
 "nbformat": 4,
 "nbformat_minor": 5
}
