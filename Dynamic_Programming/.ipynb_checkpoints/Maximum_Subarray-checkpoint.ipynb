{
 "cells": [
  {
   "cell_type": "markdown",
   "id": "0431d336",
   "metadata": {
    "ExecuteTime": {
     "end_time": "2022-10-15T08:55:21.367595Z",
     "start_time": "2022-10-15T08:55:21.364434Z"
    }
   },
   "source": [
    "Given an integer array nums, find the contiguous subarray (containing at least one number) which has the largest sum and return its sum.\n",
    "\n",
    "A subarray is a contiguous part of an array."
   ]
  },
  {
   "cell_type": "markdown",
   "id": "a9f8a182",
   "metadata": {},
   "source": [
    "## Example 1:\n",
    "\n",
    "__Input__: nums = [-2,1,-3,4,-1,2,1,-5,4]  \n",
    "__Output__: 6  \n",
    "__Explanation__: [4,-1,2,1] has the largest sum = 6.\n",
    "\n",
    "## Example 2:\n",
    "\n",
    "__Input__: nums = [1]  \n",
    "__Output__: 1\n",
    "\n",
    "## Example 3:\n",
    "\n",
    "__Input__: nums = [5,4,-1,7,8]  \n",
    "__Output__: 23"
   ]
  },
  {
   "cell_type": "code",
   "execution_count": 3,
   "id": "accecf4c",
   "metadata": {
    "ExecuteTime": {
     "end_time": "2022-10-15T08:56:56.335818Z",
     "start_time": "2022-10-15T08:56:56.333271Z"
    }
   },
   "outputs": [],
   "source": [
    "class Solution:\n",
    "    def maxSubArray(self, nums):\n",
    "        max_subarray = -math.inf\n",
    "        for i in range(len(nums)):\n",
    "            current_subarray = 0\n",
    "            for j in range(i, len(nums)):\n",
    "                current_subarray += nums[j]\n",
    "                max_subarray = max(max_subarray, current_subarray)\n",
    "        \n",
    "        return max_subarray"
   ]
  },
  {
   "cell_type": "code",
   "execution_count": 4,
   "id": "7b1274f1",
   "metadata": {
    "ExecuteTime": {
     "end_time": "2022-10-15T08:57:09.564539Z",
     "start_time": "2022-10-15T08:57:09.561793Z"
    }
   },
   "outputs": [],
   "source": [
    "class Solution:\n",
    "    def maxSubArray(self, nums):\n",
    "        # Initialize our variables using the first element.\n",
    "        current_subarray = max_subarray = nums[0]\n",
    "        \n",
    "        # Start with the 2nd element since we already used the first one.\n",
    "        for num in nums[1:]:\n",
    "            # If current_subarray is negative, throw it away. Otherwise, keep adding to it.\n",
    "            current_subarray = max(num, current_subarray + num)\n",
    "            max_subarray = max(max_subarray, current_subarray)\n",
    "        \n",
    "        return max_subarray"
   ]
  },
  {
   "cell_type": "code",
   "execution_count": 5,
   "id": "aa1a48f4",
   "metadata": {
    "ExecuteTime": {
     "end_time": "2022-10-15T08:57:20.928787Z",
     "start_time": "2022-10-15T08:57:20.924688Z"
    }
   },
   "outputs": [],
   "source": [
    "class Solution:\n",
    "    def maxSubArray(self, nums):\n",
    "        def findBestSubarray(nums, left, right):\n",
    "            # Base case - empty array.\n",
    "            if left > right:\n",
    "                return -math.inf\n",
    "\n",
    "            mid = (left + right) // 2\n",
    "            curr = best_left_sum = best_right_sum = 0\n",
    "\n",
    "            # Iterate from the middle to the beginning.\n",
    "            for i in range(mid - 1, left - 1, -1):\n",
    "                curr += nums[i]\n",
    "                best_left_sum = max(best_left_sum, curr)\n",
    "\n",
    "            # Reset curr and iterate from the middle to the end.\n",
    "            curr = 0\n",
    "            for i in range(mid + 1, right + 1):\n",
    "                curr += nums[i]\n",
    "                best_right_sum = max(best_right_sum, curr)\n",
    "\n",
    "            # The best_combined_sum uses the middle element and\n",
    "            # the best possible sum from each half.\n",
    "            best_combined_sum = nums[mid] + best_left_sum + best_right_sum\n",
    "\n",
    "            # Find the best subarray possible from both halves.\n",
    "            left_half = findBestSubarray(nums, left, mid - 1)\n",
    "            right_half = findBestSubarray(nums, mid + 1, right)\n",
    "\n",
    "            # The largest of the 3 is the answer for any given input array.\n",
    "            return max(best_combined_sum, left_half, right_half)\n",
    "        \n",
    "        # Our helper function is designed to solve this problem for\n",
    "        # any array - so just call it using the entire input!\n",
    "        return findBestSubarray(nums, 0, len(nums) - 1)\n"
   ]
  },
  {
   "cell_type": "code",
   "execution_count": null,
   "id": "e3c5fddb",
   "metadata": {},
   "outputs": [],
   "source": []
  }
 ],
 "metadata": {
  "hide_input": false,
  "kernelspec": {
   "display_name": "Python 3 (ipykernel)",
   "language": "python",
   "name": "python3"
  },
  "language_info": {
   "codemirror_mode": {
    "name": "ipython",
    "version": 3
   },
   "file_extension": ".py",
   "mimetype": "text/x-python",
   "name": "python",
   "nbconvert_exporter": "python",
   "pygments_lexer": "ipython3",
   "version": "3.9.7"
  },
  "toc": {
   "base_numbering": 1,
   "nav_menu": {},
   "number_sections": false,
   "sideBar": true,
   "skip_h1_title": false,
   "title_cell": "Table of Contents",
   "title_sidebar": "Contents",
   "toc_cell": false,
   "toc_position": {},
   "toc_section_display": true,
   "toc_window_display": false
  },
  "varInspector": {
   "cols": {
    "lenName": 16,
    "lenType": 16,
    "lenVar": 40
   },
   "kernels_config": {
    "python": {
     "delete_cmd_postfix": "",
     "delete_cmd_prefix": "del ",
     "library": "var_list.py",
     "varRefreshCmd": "print(var_dic_list())"
    },
    "r": {
     "delete_cmd_postfix": ") ",
     "delete_cmd_prefix": "rm(",
     "library": "var_list.r",
     "varRefreshCmd": "cat(var_dic_list()) "
    }
   },
   "types_to_exclude": [
    "module",
    "function",
    "builtin_function_or_method",
    "instance",
    "_Feature"
   ],
   "window_display": false
  }
 },
 "nbformat": 4,
 "nbformat_minor": 5
}
