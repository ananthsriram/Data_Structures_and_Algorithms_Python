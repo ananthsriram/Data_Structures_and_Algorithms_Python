{
 "cells": [
  {
   "cell_type": "markdown",
   "id": "0224e7b4",
   "metadata": {},
   "source": [
    "You are given an integer array coins representing coins of different denominations and an integer amount representing a total amount of money.\n",
    "\n",
    "Return the fewest number of coins that you need to make up that amount. If that amount of money cannot be made up by any combination of the coins, return -1.\n",
    "\n",
    "You may assume that you have an infinite number of each kind of coin."
   ]
  },
  {
   "cell_type": "markdown",
   "id": "6aa3ec4b",
   "metadata": {},
   "source": [
    "## Example 1:\n",
    "\n",
    "__Input__: coins = [1,2,5], amount = 11  \n",
    "__Output__: 3  \n",
    "__Explanation__: 11 = 5 + 5 + 1\n",
    "\n",
    "\n",
    "## Example 2:\n",
    "\n",
    "__Input__ : coins = [2], amount = 3  \n",
    "__Output__: -1\n",
    "\n",
    "\n",
    "## Example 3:\n",
    "\n",
    "__Input__: coins = [1], amount = 0  \n",
    "__Output__: 0"
   ]
  },
  {
   "cell_type": "code",
   "execution_count": 1,
   "id": "bbedd1ff",
   "metadata": {
    "ExecuteTime": {
     "end_time": "2022-10-15T15:39:43.292501Z",
     "start_time": "2022-10-15T15:39:43.289292Z"
    }
   },
   "outputs": [],
   "source": [
    "def coinChange(coins, amount):\n",
    "    n = len(coins)\n",
    "\n",
    "    def dfs(idx, amount):\n",
    "        if amount == 0:\n",
    "            return 0\n",
    "        if idx < n and amount > 0:\n",
    "            min_cost = float('inf')\n",
    "            for x in range(0, amount // coins[idx] + 1):\n",
    "                res = dfs(idx + 1, amount-x * coins[idx])\n",
    "                if res != -1:\n",
    "                    min_cost = min(min_cost, res + x)\n",
    "            return -1 if min_cost == float('inf') else min_cost\n",
    "        return -1\n",
    "\n",
    "    return dfs(0, amount)"
   ]
  },
  {
   "cell_type": "code",
   "execution_count": 2,
   "id": "9a1e6ef5",
   "metadata": {
    "ExecuteTime": {
     "end_time": "2022-10-15T15:39:56.737321Z",
     "start_time": "2022-10-15T15:39:56.730207Z"
    }
   },
   "outputs": [
    {
     "data": {
      "text/plain": [
       "3"
      ]
     },
     "execution_count": 2,
     "metadata": {},
     "output_type": "execute_result"
    }
   ],
   "source": [
    "coins = [1,2,5]\n",
    "amount = 11\n",
    "coinChange(coins, amount)"
   ]
  },
  {
   "cell_type": "code",
   "execution_count": 3,
   "id": "194ac8ac",
   "metadata": {
    "ExecuteTime": {
     "end_time": "2022-10-15T15:40:09.491033Z",
     "start_time": "2022-10-15T15:40:09.487682Z"
    }
   },
   "outputs": [
    {
     "data": {
      "text/plain": [
       "-1"
      ]
     },
     "execution_count": 3,
     "metadata": {},
     "output_type": "execute_result"
    }
   ],
   "source": [
    "coins = [2]\n",
    "amount = 3\n",
    "coinChange(coins, amount)"
   ]
  },
  {
   "cell_type": "code",
   "execution_count": 4,
   "id": "de591b88",
   "metadata": {
    "ExecuteTime": {
     "end_time": "2022-10-15T15:40:19.748198Z",
     "start_time": "2022-10-15T15:40:19.745169Z"
    }
   },
   "outputs": [
    {
     "data": {
      "text/plain": [
       "0"
      ]
     },
     "execution_count": 4,
     "metadata": {},
     "output_type": "execute_result"
    }
   ],
   "source": [
    "coins = [1]\n",
    "amount = 0\n",
    "coinChange(coins, amount)"
   ]
  },
  {
   "cell_type": "code",
   "execution_count": 5,
   "id": "84bb625a",
   "metadata": {
    "ExecuteTime": {
     "end_time": "2022-10-15T15:40:51.865752Z",
     "start_time": "2022-10-15T15:40:51.862807Z"
    }
   },
   "outputs": [],
   "source": [
    "def coinChange(coins, amount):\n",
    "    def dfs(rem):\n",
    "        if rem < 0:\n",
    "            return -1\n",
    "        if rem == 0:\n",
    "            return 0\n",
    "        min_cost = float('inf')\n",
    "        for coin in coins:\n",
    "            res = dfs(rem - coin)\n",
    "            if res != -1:\n",
    "                min_cost = min(min_cost, res + 1)\n",
    "        return min_cost if min_cost != float('inf') else -1\n",
    "\n",
    "    return dfs(amount)"
   ]
  },
  {
   "cell_type": "code",
   "execution_count": 6,
   "id": "b52d15d0",
   "metadata": {
    "ExecuteTime": {
     "end_time": "2022-10-15T15:40:57.572160Z",
     "start_time": "2022-10-15T15:40:57.567244Z"
    }
   },
   "outputs": [
    {
     "data": {
      "text/plain": [
       "3"
      ]
     },
     "execution_count": 6,
     "metadata": {},
     "output_type": "execute_result"
    }
   ],
   "source": [
    "coins = [1,2,5]\n",
    "amount = 11\n",
    "coinChange(coins, amount)"
   ]
  },
  {
   "cell_type": "code",
   "execution_count": 7,
   "id": "b1867eca",
   "metadata": {
    "ExecuteTime": {
     "end_time": "2022-10-15T15:41:37.797852Z",
     "start_time": "2022-10-15T15:41:37.795109Z"
    }
   },
   "outputs": [],
   "source": [
    "def coinChange(coins,amount):\n",
    "    dp = [float('inf')] * (amount + 1)\n",
    "    dp[0] = 0\n",
    "    \n",
    "    for coin in coins:\n",
    "        for x in range(coin, amount + 1):\n",
    "            dp[x] = min(dp[x], dp[x - coin] + 1)\n",
    "    return dp[amount] if dp[amount] != float('inf') else -1 "
   ]
  },
  {
   "cell_type": "code",
   "execution_count": 8,
   "id": "e438a102",
   "metadata": {
    "ExecuteTime": {
     "end_time": "2022-10-15T15:41:41.317885Z",
     "start_time": "2022-10-15T15:41:41.314416Z"
    }
   },
   "outputs": [
    {
     "data": {
      "text/plain": [
       "3"
      ]
     },
     "execution_count": 8,
     "metadata": {},
     "output_type": "execute_result"
    }
   ],
   "source": [
    "coins = [1,2,5]\n",
    "amount = 11\n",
    "coinChange(coins, amount)"
   ]
  },
  {
   "cell_type": "code",
   "execution_count": null,
   "id": "21243211",
   "metadata": {
    "ExecuteTime": {
     "end_time": "2022-10-15T15:41:59.644246Z",
     "start_time": "2022-10-15T15:41:59.641124Z"
    }
   },
   "outputs": [],
   "source": []
  }
 ],
 "metadata": {
  "hide_input": false,
  "kernelspec": {
   "display_name": "Python 3 (ipykernel)",
   "language": "python",
   "name": "python3"
  },
  "language_info": {
   "codemirror_mode": {
    "name": "ipython",
    "version": 3
   },
   "file_extension": ".py",
   "mimetype": "text/x-python",
   "name": "python",
   "nbconvert_exporter": "python",
   "pygments_lexer": "ipython3",
   "version": "3.9.7"
  },
  "toc": {
   "base_numbering": 1,
   "nav_menu": {},
   "number_sections": false,
   "sideBar": true,
   "skip_h1_title": false,
   "title_cell": "Table of Contents",
   "title_sidebar": "Contents",
   "toc_cell": false,
   "toc_position": {},
   "toc_section_display": true,
   "toc_window_display": false
  },
  "varInspector": {
   "cols": {
    "lenName": 16,
    "lenType": 16,
    "lenVar": 40
   },
   "kernels_config": {
    "python": {
     "delete_cmd_postfix": "",
     "delete_cmd_prefix": "del ",
     "library": "var_list.py",
     "varRefreshCmd": "print(var_dic_list())"
    },
    "r": {
     "delete_cmd_postfix": ") ",
     "delete_cmd_prefix": "rm(",
     "library": "var_list.r",
     "varRefreshCmd": "cat(var_dic_list()) "
    }
   },
   "types_to_exclude": [
    "module",
    "function",
    "builtin_function_or_method",
    "instance",
    "_Feature"
   ],
   "window_display": false
  }
 },
 "nbformat": 4,
 "nbformat_minor": 5
}
