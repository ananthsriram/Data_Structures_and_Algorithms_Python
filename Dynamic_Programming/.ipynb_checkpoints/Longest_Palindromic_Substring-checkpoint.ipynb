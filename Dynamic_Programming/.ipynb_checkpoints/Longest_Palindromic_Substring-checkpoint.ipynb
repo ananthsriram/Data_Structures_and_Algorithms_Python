{
 "cells": [
  {
   "cell_type": "markdown",
   "id": "f98cb86d",
   "metadata": {},
   "source": [
    "Given a string s, return the longest palindromic substring in s.\n",
    "\n",
    "A string is called a palindrome string if the reverse of that string is the same as the original string."
   ]
  },
  {
   "cell_type": "markdown",
   "id": "9050b8fe",
   "metadata": {},
   "source": [
    "## Example 1:\n",
    "\n",
    "__Input__: s = \"babad\"  \n",
    "__Output__: \"bab\"  \n",
    "__Explanation__: \"aba\" is also a valid answer.\n",
    "\n",
    "\n",
    "## Example 2:\n",
    "\n",
    "__Input__: s = \"cbbd\"  \n",
    "__Output__: \"bb\""
   ]
  },
  {
   "cell_type": "code",
   "execution_count": 2,
   "id": "3650c507",
   "metadata": {
    "ExecuteTime": {
     "end_time": "2022-10-15T15:33:18.896965Z",
     "start_time": "2022-10-15T15:33:18.892909Z"
    }
   },
   "outputs": [],
   "source": [
    "class Solution:\n",
    "    def longestPalindrome(self, s):\n",
    "        self.maxlen = 0\n",
    "        self.start = 0\n",
    "        \n",
    "        for i in range(len(s)):\n",
    "            self.expandFromCenter(s,i,i)\n",
    "            self.expandFromCenter(s,i,i+1)\n",
    "        return s[self.start:self.start+self.maxlen]\n",
    "        \n",
    "    \n",
    "    def expandFromCenter(self,s,l,r):\n",
    "        while l > -1 and r < len(s) and s[l] ==s[r]:\n",
    "            l -= 1\n",
    "            r += 1\n",
    "        \n",
    "        if self.maxlen < r-l-1:\n",
    "            self.maxlen = r-l-1\n",
    "            self.start = l + 1"
   ]
  },
  {
   "cell_type": "code",
   "execution_count": 6,
   "id": "cf1522ab",
   "metadata": {
    "ExecuteTime": {
     "end_time": "2022-10-15T15:33:52.446710Z",
     "start_time": "2022-10-15T15:33:52.444130Z"
    }
   },
   "outputs": [],
   "source": [
    "def longestPalindrome(s):\n",
    "    m = '' \n",
    "    for i in range(len(s)):  # i = start, O = n\n",
    "        for j in range(len(s), i, -1):  # j = end, O = n^2\n",
    "            if len(m) >= j-i:  # To reduce time\n",
    "                break\n",
    "            elif s[i:j] == s[i:j][::-1]:\n",
    "                m = s[i:j]\n",
    "                break\n",
    "    return m"
   ]
  },
  {
   "cell_type": "code",
   "execution_count": 7,
   "id": "31d230f8",
   "metadata": {
    "ExecuteTime": {
     "end_time": "2022-10-15T15:34:02.000664Z",
     "start_time": "2022-10-15T15:34:01.994255Z"
    }
   },
   "outputs": [
    {
     "data": {
      "text/plain": [
       "'bab'"
      ]
     },
     "execution_count": 7,
     "metadata": {},
     "output_type": "execute_result"
    }
   ],
   "source": [
    "s = \"babad\"\n",
    "longestPalindrome(s)"
   ]
  },
  {
   "cell_type": "code",
   "execution_count": 8,
   "id": "a8bf90ce",
   "metadata": {
    "ExecuteTime": {
     "end_time": "2022-10-15T15:34:10.705728Z",
     "start_time": "2022-10-15T15:34:10.702668Z"
    }
   },
   "outputs": [
    {
     "data": {
      "text/plain": [
       "'bb'"
      ]
     },
     "execution_count": 8,
     "metadata": {},
     "output_type": "execute_result"
    }
   ],
   "source": [
    "s = \"cbbd\"\n",
    "longestPalindrome(s)"
   ]
  },
  {
   "cell_type": "code",
   "execution_count": null,
   "id": "edad9ef6",
   "metadata": {},
   "outputs": [],
   "source": []
  }
 ],
 "metadata": {
  "hide_input": false,
  "kernelspec": {
   "display_name": "Python 3 (ipykernel)",
   "language": "python",
   "name": "python3"
  },
  "language_info": {
   "codemirror_mode": {
    "name": "ipython",
    "version": 3
   },
   "file_extension": ".py",
   "mimetype": "text/x-python",
   "name": "python",
   "nbconvert_exporter": "python",
   "pygments_lexer": "ipython3",
   "version": "3.9.7"
  },
  "toc": {
   "base_numbering": 1,
   "nav_menu": {},
   "number_sections": false,
   "sideBar": true,
   "skip_h1_title": false,
   "title_cell": "Table of Contents",
   "title_sidebar": "Contents",
   "toc_cell": false,
   "toc_position": {},
   "toc_section_display": true,
   "toc_window_display": false
  },
  "varInspector": {
   "cols": {
    "lenName": 16,
    "lenType": 16,
    "lenVar": 40
   },
   "kernels_config": {
    "python": {
     "delete_cmd_postfix": "",
     "delete_cmd_prefix": "del ",
     "library": "var_list.py",
     "varRefreshCmd": "print(var_dic_list())"
    },
    "r": {
     "delete_cmd_postfix": ") ",
     "delete_cmd_prefix": "rm(",
     "library": "var_list.r",
     "varRefreshCmd": "cat(var_dic_list()) "
    }
   },
   "types_to_exclude": [
    "module",
    "function",
    "builtin_function_or_method",
    "instance",
    "_Feature"
   ],
   "window_display": false
  }
 },
 "nbformat": 4,
 "nbformat_minor": 5
}
