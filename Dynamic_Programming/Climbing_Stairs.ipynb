{
 "cells": [
  {
   "cell_type": "markdown",
   "id": "382885c1",
   "metadata": {},
   "source": [
    "You are climbing a staircase. It takes n steps to reach the top.\n",
    "\n",
    "Each time you can either climb 1 or 2 steps. In how many distinct ways can you climb to the top?"
   ]
  },
  {
   "cell_type": "markdown",
   "id": "fea12e1e",
   "metadata": {},
   "source": [
    "## Example 1:\n",
    "\n",
    "__Input__: n = 2  \n",
    "__Output__: 2  \n",
    "__Explanation__: There are two ways to climb to the top.  \n",
    "1. 1 step + 1 step  \n",
    "2. 2 steps  \n",
    "\n",
    "\n",
    "## Example 2:\n",
    "\n",
    "__Input__: n = 3  \n",
    "__Output__: 3  \n",
    "__Explanation__: There are three ways to climb to the top.  \n",
    "1. 1 step + 1 step + 1 step\n",
    "2. 1 step + 2 steps\n",
    "3. 2 steps + 1 step"
   ]
  },
  {
   "cell_type": "code",
   "execution_count": 1,
   "id": "08e9bcee",
   "metadata": {
    "ExecuteTime": {
     "end_time": "2022-10-15T08:52:01.789812Z",
     "start_time": "2022-10-15T08:52:01.786929Z"
    }
   },
   "outputs": [],
   "source": [
    "def climbStairs(self, n):\n",
    "    # Fibonacci Approach\n",
    "    a = b = 1\n",
    "    for _ in range(n - 1):\n",
    "        temp = a + b\n",
    "        a = b\n",
    "        b = temp\n",
    "    return b"
   ]
  },
  {
   "cell_type": "code",
   "execution_count": null,
   "id": "7124901f",
   "metadata": {},
   "outputs": [],
   "source": []
  }
 ],
 "metadata": {
  "hide_input": false,
  "kernelspec": {
   "display_name": "Python 3 (ipykernel)",
   "language": "python",
   "name": "python3"
  },
  "language_info": {
   "codemirror_mode": {
    "name": "ipython",
    "version": 3
   },
   "file_extension": ".py",
   "mimetype": "text/x-python",
   "name": "python",
   "nbconvert_exporter": "python",
   "pygments_lexer": "ipython3",
   "version": "3.9.7"
  },
  "toc": {
   "base_numbering": 1,
   "nav_menu": {},
   "number_sections": false,
   "sideBar": true,
   "skip_h1_title": false,
   "title_cell": "Table of Contents",
   "title_sidebar": "Contents",
   "toc_cell": false,
   "toc_position": {},
   "toc_section_display": true,
   "toc_window_display": false
  },
  "varInspector": {
   "cols": {
    "lenName": 16,
    "lenType": 16,
    "lenVar": 40
   },
   "kernels_config": {
    "python": {
     "delete_cmd_postfix": "",
     "delete_cmd_prefix": "del ",
     "library": "var_list.py",
     "varRefreshCmd": "print(var_dic_list())"
    },
    "r": {
     "delete_cmd_postfix": ") ",
     "delete_cmd_prefix": "rm(",
     "library": "var_list.r",
     "varRefreshCmd": "cat(var_dic_list()) "
    }
   },
   "types_to_exclude": [
    "module",
    "function",
    "builtin_function_or_method",
    "instance",
    "_Feature"
   ],
   "window_display": false
  }
 },
 "nbformat": 4,
 "nbformat_minor": 5
}
