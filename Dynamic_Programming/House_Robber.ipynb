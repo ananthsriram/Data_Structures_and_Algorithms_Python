{
 "cells": [
  {
   "cell_type": "markdown",
   "id": "3945df98",
   "metadata": {},
   "source": [
    "You are a professional robber planning to rob houses along a street. Each house has a certain amount of money stashed, the only constraint stopping you from robbing each of them is that adjacent houses have security systems connected and it will automatically contact the police if two adjacent houses were broken into on the same night.\n",
    "\n",
    "Given an integer array nums representing the amount of money of each house, return the maximum amount of money you can rob tonight without alerting the police.\n",
    "\n"
   ]
  },
  {
   "cell_type": "markdown",
   "id": "1fe3783f",
   "metadata": {},
   "source": [
    "## Example 1:\n",
    "\n",
    "__Input__: nums = [1,2,3,1]  \n",
    "__Output__: 4  \n",
    "__Explanation__: Rob house 1 (money = 1) and then rob house 3 (money = 3).  \n",
    "Total amount you can rob = 1 + 3 = 4.\n",
    "\n",
    "\n",
    "## Example 2:\n",
    "\n",
    "__Input__: nums = [2,7,9,3,1]  \n",
    "__Output__: 12  \n",
    "__Explanation__: Rob house 1 (money = 2), rob house 3 (money = 9) and rob house 5 (money = 1).  \n",
    "Total amount you can rob = 2 + 9 + 1 = 12."
   ]
  },
  {
   "cell_type": "code",
   "execution_count": 1,
   "id": "905ed28c",
   "metadata": {
    "ExecuteTime": {
     "end_time": "2022-10-15T08:48:42.292158Z",
     "start_time": "2022-10-15T08:48:42.288354Z"
    }
   },
   "outputs": [],
   "source": [
    "class Solution:\n",
    "    \n",
    "    def __init__(self):\n",
    "        self.memo = {}\n",
    "    \n",
    "    def rob(self, nums):\n",
    "        \n",
    "        self.memo = {}\n",
    "        \n",
    "        return self.robFrom(0, nums)\n",
    "    \n",
    "    def robFrom(self, i, nums):\n",
    "        \n",
    "        \n",
    "        # No more houses left to examine.\n",
    "        if i >= len(nums):\n",
    "            return 0\n",
    "        \n",
    "        # Return cached value.\n",
    "        if i in self.memo:\n",
    "            return self.memo[i]\n",
    "        \n",
    "        # Recursive relation evaluation to get the optimal answer.\n",
    "        ans = max(self.robFrom(i + 1, nums), self.robFrom(i + 2, nums) + nums[i])\n",
    "        \n",
    "        # Cache for future use.\n",
    "        self.memo[i] = ans\n",
    "        return ans"
   ]
  },
  {
   "cell_type": "code",
   "execution_count": 2,
   "id": "c7c7d221",
   "metadata": {
    "ExecuteTime": {
     "end_time": "2022-10-15T08:48:55.766184Z",
     "start_time": "2022-10-15T08:48:55.763069Z"
    }
   },
   "outputs": [],
   "source": [
    "class Solution:\n",
    "    \n",
    "    def rob(self, nums):\n",
    "        \n",
    "        # Special handling for empty case.\n",
    "        if not nums:\n",
    "            return 0\n",
    "        \n",
    "        maxRobbedAmount = [None for _ in range(len(nums) + 1)]\n",
    "        N = len(nums)\n",
    "        \n",
    "        # Base case initialization.\n",
    "        maxRobbedAmount[N], maxRobbedAmount[N - 1] = 0, nums[N - 1]\n",
    "        \n",
    "        # DP table calculations.\n",
    "        for i in range(N - 2, -1, -1):\n",
    "            \n",
    "            # Same as recursive solution.\n",
    "            maxRobbedAmount[i] = max(maxRobbedAmount[i + 1], maxRobbedAmount[i + 2] + nums[i])\n",
    "            \n",
    "        return maxRobbedAmount[0]    \n",
    "        "
   ]
  },
  {
   "cell_type": "code",
   "execution_count": 3,
   "id": "d0f88cc4",
   "metadata": {
    "ExecuteTime": {
     "end_time": "2022-10-15T08:49:06.521912Z",
     "start_time": "2022-10-15T08:49:06.518800Z"
    }
   },
   "outputs": [],
   "source": [
    "class Solution:\n",
    "    \n",
    "    def rob(self, nums):\n",
    "        \n",
    "        # Special handling for empty case.\n",
    "        if not nums:\n",
    "            return 0\n",
    "        \n",
    "        N = len(nums)\n",
    "        \n",
    "        rob_next_plus_one = 0\n",
    "        rob_next = nums[N - 1]\n",
    "        \n",
    "        # DP table calculations.\n",
    "        for i in range(N - 2, -1, -1):\n",
    "            \n",
    "            # Same as recursive solution.\n",
    "            current = max(rob_next, rob_next_plus_one + nums[i])\n",
    "            \n",
    "            # Update the variables\n",
    "            rob_next_plus_one = rob_next\n",
    "            rob_next = current\n",
    "            \n",
    "        return rob_next"
   ]
  },
  {
   "cell_type": "code",
   "execution_count": null,
   "id": "68a4b60d",
   "metadata": {},
   "outputs": [],
   "source": []
  }
 ],
 "metadata": {
  "hide_input": false,
  "kernelspec": {
   "display_name": "Python 3 (ipykernel)",
   "language": "python",
   "name": "python3"
  },
  "language_info": {
   "codemirror_mode": {
    "name": "ipython",
    "version": 3
   },
   "file_extension": ".py",
   "mimetype": "text/x-python",
   "name": "python",
   "nbconvert_exporter": "python",
   "pygments_lexer": "ipython3",
   "version": "3.9.7"
  },
  "toc": {
   "base_numbering": 1,
   "nav_menu": {},
   "number_sections": true,
   "sideBar": true,
   "skip_h1_title": false,
   "title_cell": "Table of Contents",
   "title_sidebar": "Contents",
   "toc_cell": false,
   "toc_position": {},
   "toc_section_display": true,
   "toc_window_display": false
  },
  "varInspector": {
   "cols": {
    "lenName": 16,
    "lenType": 16,
    "lenVar": 40
   },
   "kernels_config": {
    "python": {
     "delete_cmd_postfix": "",
     "delete_cmd_prefix": "del ",
     "library": "var_list.py",
     "varRefreshCmd": "print(var_dic_list())"
    },
    "r": {
     "delete_cmd_postfix": ") ",
     "delete_cmd_prefix": "rm(",
     "library": "var_list.r",
     "varRefreshCmd": "cat(var_dic_list()) "
    }
   },
   "types_to_exclude": [
    "module",
    "function",
    "builtin_function_or_method",
    "instance",
    "_Feature"
   ],
   "window_display": false
  }
 },
 "nbformat": 4,
 "nbformat_minor": 5
}
