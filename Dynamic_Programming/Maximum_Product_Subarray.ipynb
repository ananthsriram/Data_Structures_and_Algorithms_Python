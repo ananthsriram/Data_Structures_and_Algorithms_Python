{
 "cells": [
  {
   "cell_type": "markdown",
   "id": "5c62291f",
   "metadata": {},
   "source": [
    "Given an integer array nums, find a contiguous non-empty subarray within the array that has the largest product, and return the product.\n",
    "\n",
    "The test cases are generated so that the answer will fit in a 32-bit integer.\n",
    "\n",
    "A __subarray__ is a contiguous subsequence of the array."
   ]
  },
  {
   "cell_type": "markdown",
   "id": "21cf9ce6",
   "metadata": {},
   "source": [
    "## Example 1:\n",
    "\n",
    "__Input__: nums = [2,3,-2,4]  \n",
    "__Output__: 6  \n",
    "__Explanation__: [2,3] has the largest product 6.\n",
    "\n",
    "\n",
    "## Example 2:\n",
    "\n",
    "__Input__: nums = [-2,0,-1]  \n",
    "__Output__: 0  \n",
    "__Explanation__: The result cannot be 2, because [-2,-1] is not a subarray."
   ]
  },
  {
   "cell_type": "code",
   "execution_count": 1,
   "id": "cf50b1eb",
   "metadata": {
    "ExecuteTime": {
     "end_time": "2022-10-15T15:36:53.554413Z",
     "start_time": "2022-10-15T15:36:53.551703Z"
    }
   },
   "outputs": [],
   "source": [
    "def maxProduct(nums):\n",
    "    if len(nums) == 0:\n",
    "        return 0\n",
    "\n",
    "    result = nums[0]\n",
    "\n",
    "    for i in range(len(nums)):\n",
    "        accu = 1\n",
    "        for j in range(i, len(nums)):\n",
    "            accu *= nums[j]\n",
    "            result = max(result, accu)\n",
    "\n",
    "    return result"
   ]
  },
  {
   "cell_type": "code",
   "execution_count": 3,
   "id": "5d24514a",
   "metadata": {
    "ExecuteTime": {
     "end_time": "2022-10-15T15:37:04.613850Z",
     "start_time": "2022-10-15T15:37:04.607394Z"
    }
   },
   "outputs": [
    {
     "data": {
      "text/plain": [
       "6"
      ]
     },
     "execution_count": 3,
     "metadata": {},
     "output_type": "execute_result"
    }
   ],
   "source": [
    "nums = [2,3,-2,4]\n",
    "maxProduct(nums)"
   ]
  },
  {
   "cell_type": "code",
   "execution_count": 4,
   "id": "8096f8f4",
   "metadata": {
    "ExecuteTime": {
     "end_time": "2022-10-15T15:37:12.361928Z",
     "start_time": "2022-10-15T15:37:12.358795Z"
    }
   },
   "outputs": [
    {
     "data": {
      "text/plain": [
       "0"
      ]
     },
     "execution_count": 4,
     "metadata": {},
     "output_type": "execute_result"
    }
   ],
   "source": [
    "nums = [-2,0,-1]\n",
    "maxProduct(nums)"
   ]
  },
  {
   "cell_type": "code",
   "execution_count": 5,
   "id": "704cbcca",
   "metadata": {
    "ExecuteTime": {
     "end_time": "2022-10-15T15:37:36.130723Z",
     "start_time": "2022-10-15T15:37:36.127812Z"
    }
   },
   "outputs": [],
   "source": [
    "def maxProduct(nums):\n",
    "    if len(nums) == 0:\n",
    "        return 0\n",
    "\n",
    "    max_so_far = nums[0]\n",
    "    min_so_far = nums[0]\n",
    "    result = max_so_far\n",
    "\n",
    "    for i in range(1, len(nums)):\n",
    "        curr = nums[i]\n",
    "        temp_max = max(curr, max_so_far * curr, min_so_far * curr)\n",
    "        min_so_far = min(curr, max_so_far * curr, min_so_far * curr)\n",
    "\n",
    "        max_so_far = temp_max\n",
    "\n",
    "        result = max(max_so_far, result)\n",
    "\n",
    "    return result"
   ]
  },
  {
   "cell_type": "code",
   "execution_count": 6,
   "id": "77e87523",
   "metadata": {
    "ExecuteTime": {
     "end_time": "2022-10-15T15:37:40.158029Z",
     "start_time": "2022-10-15T15:37:40.155185Z"
    }
   },
   "outputs": [
    {
     "data": {
      "text/plain": [
       "6"
      ]
     },
     "execution_count": 6,
     "metadata": {},
     "output_type": "execute_result"
    }
   ],
   "source": [
    "nums = [2,3,-2,4]\n",
    "maxProduct(nums)"
   ]
  },
  {
   "cell_type": "code",
   "execution_count": 7,
   "id": "924a27c0",
   "metadata": {
    "ExecuteTime": {
     "end_time": "2022-10-15T15:37:45.349823Z",
     "start_time": "2022-10-15T15:37:45.346873Z"
    }
   },
   "outputs": [
    {
     "data": {
      "text/plain": [
       "0"
      ]
     },
     "execution_count": 7,
     "metadata": {},
     "output_type": "execute_result"
    }
   ],
   "source": [
    "nums = [-2,0,-1]\n",
    "maxProduct(nums)"
   ]
  },
  {
   "cell_type": "code",
   "execution_count": null,
   "id": "3049a50c",
   "metadata": {},
   "outputs": [],
   "source": []
  }
 ],
 "metadata": {
  "hide_input": false,
  "kernelspec": {
   "display_name": "Python 3 (ipykernel)",
   "language": "python",
   "name": "python3"
  },
  "language_info": {
   "codemirror_mode": {
    "name": "ipython",
    "version": 3
   },
   "file_extension": ".py",
   "mimetype": "text/x-python",
   "name": "python",
   "nbconvert_exporter": "python",
   "pygments_lexer": "ipython3",
   "version": "3.9.7"
  },
  "toc": {
   "base_numbering": 1,
   "nav_menu": {},
   "number_sections": false,
   "sideBar": true,
   "skip_h1_title": false,
   "title_cell": "Table of Contents",
   "title_sidebar": "Contents",
   "toc_cell": false,
   "toc_position": {},
   "toc_section_display": true,
   "toc_window_display": false
  },
  "varInspector": {
   "cols": {
    "lenName": 16,
    "lenType": 16,
    "lenVar": 40
   },
   "kernels_config": {
    "python": {
     "delete_cmd_postfix": "",
     "delete_cmd_prefix": "del ",
     "library": "var_list.py",
     "varRefreshCmd": "print(var_dic_list())"
    },
    "r": {
     "delete_cmd_postfix": ") ",
     "delete_cmd_prefix": "rm(",
     "library": "var_list.r",
     "varRefreshCmd": "cat(var_dic_list()) "
    }
   },
   "types_to_exclude": [
    "module",
    "function",
    "builtin_function_or_method",
    "instance",
    "_Feature"
   ],
   "window_display": false
  }
 },
 "nbformat": 4,
 "nbformat_minor": 5
}
