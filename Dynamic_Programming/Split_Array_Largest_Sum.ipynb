{
 "cells": [
  {
   "cell_type": "markdown",
   "id": "08597aab",
   "metadata": {
    "ExecuteTime": {
     "end_time": "2022-10-15T15:43:17.114229Z",
     "start_time": "2022-10-15T15:43:17.111123Z"
    }
   },
   "source": [
    "Given an integer array nums and an integer k, split nums into k non-empty subarrays such that the largest sum of any subarray is minimized.\n",
    "\n",
    "Return the minimized largest sum of the split.\n",
    "\n",
    "A subarray is a contiguous part of the array.\n",
    "\n"
   ]
  },
  {
   "cell_type": "markdown",
   "id": "6df72cbc",
   "metadata": {},
   "source": [
    "## Example 1:\n",
    "\n",
    "__Input__: nums = [7,2,5,10,8], k = 2  \n",
    "__Output__: 18  \n",
    "__Explanation__: There are four ways to split nums into two subarrays.  \n",
    "The best way is to split it into [7,2,5] and [10,8], where the largest sum among the two subarrays is only 18.\n",
    "\n",
    "\n",
    "## Example 2:\n",
    "\n",
    "__Input__: nums = [1,2,3,4,5], k = 2  \n",
    "__Output__: 9  \n",
    "__Explanation__: There are four ways to split nums into two subarrays.  \n",
    "The best way is to split it into [1,2,3] and [4,5], where the largest sum among the two subarrays is only 9."
   ]
  },
  {
   "cell_type": "code",
   "execution_count": 6,
   "id": "6fd3caf8",
   "metadata": {
    "ExecuteTime": {
     "end_time": "2022-10-15T15:45:58.419425Z",
     "start_time": "2022-10-15T15:45:58.414973Z"
    }
   },
   "outputs": [],
   "source": [
    "import itertools\n",
    "def splitArray(nums, m):\n",
    "    n = len(nums)\n",
    "    \n",
    "    # Create a prefix sum array of nums.\n",
    "    prefix_sum = [0] + list(itertools.accumulate(nums))\n",
    "    \n",
    "    #@functools.lru_cache(None)\n",
    "    def get_min_largest_split_sum(curr_index: int, subarray_count: int):\n",
    "        # Base Case: If there is only one subarray left, then all of the remaining numbers\n",
    "        # must go in the current subarray. So return the sum of the remaining numbers.\n",
    "        if subarray_count == 1:\n",
    "            return prefix_sum[n] - prefix_sum[curr_index]\n",
    "    \n",
    "        # Otherwise, use the recurrence relation to determine the minimum largest subarray sum\n",
    "        # between curr_index and the end of the array with subarray_count subarrays remaining.\n",
    "        minimum_largest_split_sum = prefix_sum[n]\n",
    "        for i in range(curr_index, n - subarray_count + 1):\n",
    "            # Store the sum of the first subarray.\n",
    "            first_split_sum = prefix_sum[i + 1] - prefix_sum[curr_index]\n",
    "\n",
    "            # Find the maximum subarray sum for the current first split.\n",
    "            largest_split_sum = max(first_split_sum, \n",
    "                                    get_min_largest_split_sum(i + 1, subarray_count - 1))\n",
    "\n",
    "            # Find the minimum among all possible combinations.\n",
    "            minimum_largest_split_sum = min(minimum_largest_split_sum, largest_split_sum)\n",
    "\n",
    "            if first_split_sum >= minimum_largest_split_sum:\n",
    "                break\n",
    "        \n",
    "        return minimum_largest_split_sum\n",
    "    \n",
    "    return get_min_largest_split_sum(0, m)"
   ]
  },
  {
   "cell_type": "code",
   "execution_count": 7,
   "id": "bda7de38",
   "metadata": {
    "ExecuteTime": {
     "end_time": "2022-10-15T15:45:59.219937Z",
     "start_time": "2022-10-15T15:45:59.213069Z"
    }
   },
   "outputs": [
    {
     "data": {
      "text/plain": [
       "18"
      ]
     },
     "execution_count": 7,
     "metadata": {},
     "output_type": "execute_result"
    }
   ],
   "source": [
    "nums = [7,2,5,10,8]\n",
    "k = 2\n",
    "splitArray(nums, k)"
   ]
  },
  {
   "cell_type": "code",
   "execution_count": 8,
   "id": "281b9b85",
   "metadata": {
    "ExecuteTime": {
     "end_time": "2022-10-15T15:46:12.411224Z",
     "start_time": "2022-10-15T15:46:12.408289Z"
    }
   },
   "outputs": [
    {
     "data": {
      "text/plain": [
       "9"
      ]
     },
     "execution_count": 8,
     "metadata": {},
     "output_type": "execute_result"
    }
   ],
   "source": [
    "nums = [1,2,3,4,5]\n",
    "k = 2\n",
    "splitArray(nums, k)"
   ]
  },
  {
   "cell_type": "code",
   "execution_count": 9,
   "id": "97138a96",
   "metadata": {
    "ExecuteTime": {
     "end_time": "2022-10-15T15:46:39.264916Z",
     "start_time": "2022-10-15T15:46:39.260735Z"
    }
   },
   "outputs": [],
   "source": [
    "def splitArray(nums, m):\n",
    "    n = len(nums)\n",
    "    memo = [[0] * (m + 1) for _ in range(n)]\n",
    "    \n",
    "    # Create a prefix sum array of nums.\n",
    "    prefix_sum = [0] + list(itertools.accumulate(nums))\n",
    "    \n",
    "    for subarray_count in range(1, m + 1):\n",
    "        for curr_index in range(n):\n",
    "            # Base Case: If there is only one subarray left, then all of the remaining numbers\n",
    "            # must go in the current subarray. So return the sum of the remaining numbers.\n",
    "            if subarray_count == 1:\n",
    "                memo[curr_index][subarray_count] = prefix_sum[n] - prefix_sum[curr_index]\n",
    "                continue\n",
    "\n",
    "            # Otherwise, use the recurrence relation to determine the minimum largest subarray sum\n",
    "            # between curr_index and the end of the array with subarray_count subarrays remaining.\n",
    "            minimum_largest_split_sum = prefix_sum[n]\n",
    "            for i in range(curr_index, n - subarray_count + 1):\n",
    "                # Store the sum of the first subarray.\n",
    "                first_split_sum = prefix_sum[i + 1] - prefix_sum[curr_index]\n",
    "\n",
    "                # Find the maximum subarray sum for the current first split.\n",
    "                largest_split_sum = max(first_split_sum, memo[i + 1][subarray_count - 1])\n",
    "\n",
    "                # Find the minimum among all possible combinations.\n",
    "                minimum_largest_split_sum = min(minimum_largest_split_sum, largest_split_sum)\n",
    "\n",
    "                if first_split_sum >= minimum_largest_split_sum:\n",
    "                    break\n",
    "        \n",
    "            memo[curr_index][subarray_count] = minimum_largest_split_sum\n",
    "    \n",
    "    return memo[0][m]"
   ]
  },
  {
   "cell_type": "code",
   "execution_count": 10,
   "id": "7108059c",
   "metadata": {
    "ExecuteTime": {
     "end_time": "2022-10-15T15:46:44.326938Z",
     "start_time": "2022-10-15T15:46:44.323024Z"
    }
   },
   "outputs": [
    {
     "data": {
      "text/plain": [
       "18"
      ]
     },
     "execution_count": 10,
     "metadata": {},
     "output_type": "execute_result"
    }
   ],
   "source": [
    "nums = [7,2,5,10,8]\n",
    "k = 2\n",
    "splitArray(nums, k)"
   ]
  },
  {
   "cell_type": "code",
   "execution_count": 11,
   "id": "87f5f676",
   "metadata": {
    "ExecuteTime": {
     "end_time": "2022-10-15T15:46:49.680630Z",
     "start_time": "2022-10-15T15:46:49.677422Z"
    }
   },
   "outputs": [
    {
     "data": {
      "text/plain": [
       "9"
      ]
     },
     "execution_count": 11,
     "metadata": {},
     "output_type": "execute_result"
    }
   ],
   "source": [
    "nums = [1,2,3,4,5]\n",
    "k = 2\n",
    "splitArray(nums, k)"
   ]
  },
  {
   "cell_type": "code",
   "execution_count": 12,
   "id": "d035f1d2",
   "metadata": {
    "ExecuteTime": {
     "end_time": "2022-10-15T15:47:16.476406Z",
     "start_time": "2022-10-15T15:47:16.472916Z"
    }
   },
   "outputs": [],
   "source": [
    "def splitArray(nums, m):\n",
    "    \n",
    "    def min_subarrays_required(max_sum_allowed: int) -> int:\n",
    "        current_sum = 0\n",
    "        splits_required = 0\n",
    "        \n",
    "        for element in nums:\n",
    "            # Add element only if the sum doesn't exceed max_sum_allowed\n",
    "            if current_sum + element <= max_sum_allowed:\n",
    "                current_sum += element\n",
    "            else:\n",
    "                # If the element addition makes sum more than max_sum_allowed\n",
    "                # Increment the splits required and reset sum\n",
    "                current_sum = element\n",
    "                splits_required += 1\n",
    "\n",
    "        # Return the number of subarrays, which is the number of splits + 1\n",
    "        return splits_required + 1\n",
    "    \n",
    "    # Define the left and right boundary of binary search\n",
    "    left = max(nums)\n",
    "    right = sum(nums)\n",
    "    while left <= right:\n",
    "        # Find the mid value\n",
    "        max_sum_allowed = (left + right) // 2\n",
    "        \n",
    "        # Find the minimum splits. If splits_required is less than\n",
    "        # or equal to m move towards left i.e., smaller values\n",
    "        if min_subarrays_required(max_sum_allowed) <= m:\n",
    "            right = max_sum_allowed - 1\n",
    "            minimum_largest_split_sum = max_sum_allowed\n",
    "        else:\n",
    "            # Move towards right if splits_required is more than m\n",
    "            left = max_sum_allowed + 1\n",
    "    \n",
    "    return minimum_largest_split_sum"
   ]
  },
  {
   "cell_type": "code",
   "execution_count": 13,
   "id": "248304bc",
   "metadata": {
    "ExecuteTime": {
     "end_time": "2022-10-15T15:47:19.614997Z",
     "start_time": "2022-10-15T15:47:19.612029Z"
    }
   },
   "outputs": [
    {
     "data": {
      "text/plain": [
       "18"
      ]
     },
     "execution_count": 13,
     "metadata": {},
     "output_type": "execute_result"
    }
   ],
   "source": [
    "nums = [7,2,5,10,8]\n",
    "k = 2\n",
    "splitArray(nums, k)"
   ]
  },
  {
   "cell_type": "code",
   "execution_count": null,
   "id": "a77f4e05",
   "metadata": {},
   "outputs": [],
   "source": []
  }
 ],
 "metadata": {
  "hide_input": false,
  "kernelspec": {
   "display_name": "Python 3 (ipykernel)",
   "language": "python",
   "name": "python3"
  },
  "language_info": {
   "codemirror_mode": {
    "name": "ipython",
    "version": 3
   },
   "file_extension": ".py",
   "mimetype": "text/x-python",
   "name": "python",
   "nbconvert_exporter": "python",
   "pygments_lexer": "ipython3",
   "version": "3.9.7"
  },
  "toc": {
   "base_numbering": 1,
   "nav_menu": {},
   "number_sections": false,
   "sideBar": true,
   "skip_h1_title": false,
   "title_cell": "Table of Contents",
   "title_sidebar": "Contents",
   "toc_cell": false,
   "toc_position": {},
   "toc_section_display": true,
   "toc_window_display": false
  },
  "varInspector": {
   "cols": {
    "lenName": 16,
    "lenType": 16,
    "lenVar": 40
   },
   "kernels_config": {
    "python": {
     "delete_cmd_postfix": "",
     "delete_cmd_prefix": "del ",
     "library": "var_list.py",
     "varRefreshCmd": "print(var_dic_list())"
    },
    "r": {
     "delete_cmd_postfix": ") ",
     "delete_cmd_prefix": "rm(",
     "library": "var_list.r",
     "varRefreshCmd": "cat(var_dic_list()) "
    }
   },
   "types_to_exclude": [
    "module",
    "function",
    "builtin_function_or_method",
    "instance",
    "_Feature"
   ],
   "window_display": false
  }
 },
 "nbformat": 4,
 "nbformat_minor": 5
}
