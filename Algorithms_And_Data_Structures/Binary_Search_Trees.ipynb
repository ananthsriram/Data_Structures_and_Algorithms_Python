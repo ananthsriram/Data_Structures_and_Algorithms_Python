{
 "cells": [
  {
   "cell_type": "markdown",
   "metadata": {
    "ExecuteTime": {
     "end_time": "2021-06-03T15:03:04.132920Z",
     "start_time": "2021-06-03T15:03:04.088235Z"
    }
   },
   "source": [
    "# 1) Binary Search Tree Implementation"
   ]
  },
  {
   "cell_type": "code",
   "execution_count": 42,
   "metadata": {
    "ExecuteTime": {
     "end_time": "2021-06-06T17:03:07.725601Z",
     "start_time": "2021-06-06T17:03:07.708215Z"
    }
   },
   "outputs": [
    {
     "name": "stdout",
     "output_type": "stream",
     "text": [
      "Inorder traversal of the given tree\n",
      "20\n",
      "30\n",
      "40\n",
      "50\n",
      "60\n",
      "70\n",
      "80\n",
      "\n",
      "Delete 20\n",
      "Inorder traversal of the modified tree\n",
      "30\n",
      "40\n",
      "50\n",
      "60\n",
      "70\n",
      "80\n",
      "\n",
      "Delete 30\n",
      "Inorder traversal of the modified tree\n",
      "40\n",
      "50\n",
      "60\n",
      "70\n",
      "80\n",
      "\n",
      "Delete 50\n",
      "Inorder traversal of the modified tree\n",
      "40\n",
      "50\n",
      "70\n",
      "80\n"
     ]
    }
   ],
   "source": [
    "class Node:\n",
    "    def __init__(self, key):\n",
    "        self.left = None\n",
    "        self.right = None\n",
    "        self.val = key\n",
    " \n",
    "# A utility function to insert \n",
    "def insert(root, key):\n",
    "    if root is None:\n",
    "        return Node(key)\n",
    "    else:\n",
    "        if root.val == key:\n",
    "            return root\n",
    "        elif root.val < key:\n",
    "            root.right = insert(root.right, key)\n",
    "        else:\n",
    "            root.left = insert(root.left, key)\n",
    "    return root\n",
    "\n",
    "# A utility function to search a given key in BST\n",
    "def search(root,key):\n",
    "     \n",
    "    # Base Cases: root is null or key is present at root\n",
    "    if root is None or root.val == key:\n",
    "        return root\n",
    " \n",
    "    # Key is greater than root's key\n",
    "    if root.val < key:\n",
    "        return search(root.right,key)\n",
    "   \n",
    "    # Key is smaller than root's key\n",
    "    return search(root.left,key)\n",
    "\n",
    "def minValueNode(node):\n",
    "    current = node\n",
    " \n",
    "    # loop down to find the leftmost leaf\n",
    "    while(current.left is not None):\n",
    "        current = current.left\n",
    " \n",
    "    return current\n",
    "\n",
    "\n",
    "def deleteNode(root, key):\n",
    " \n",
    "    # Base Case\n",
    "    if root is None:\n",
    "        return root\n",
    " \n",
    "    # If the key to be deleted is smaller than the root's key then it lies in  left subtree\n",
    "    if key < root.val:\n",
    "        root.left = deleteNode(root.left, key)\n",
    " \n",
    "    # If the kye to be delete is greater than the root's key then it lies in right subtree\n",
    "    elif(key > root.val):\n",
    "        root.right = deleteNode(root.right, key)\n",
    " \n",
    "    # If key is same as root's key, then this is the node to be deleted\n",
    "    else:\n",
    " \n",
    "        # Node with only one child or no child\n",
    "        if root.left is None:\n",
    "            temp = root.right\n",
    "            root = None\n",
    "            return temp\n",
    " \n",
    "        elif root.right is None:\n",
    "            temp = root.left\n",
    "            root = None\n",
    "            return temp\n",
    " \n",
    "        # Node with two children:\n",
    "        # Get the inorder successor (smallest in the right subtree)\n",
    "        temp = minValueNode(root.right)\n",
    " \n",
    "        # Copy the inorder successor's content to this node\n",
    "        root.key = temp.val\n",
    " \n",
    "        # Delete the inorder successor\n",
    "        root.right = deleteNode(root.right, temp.val)\n",
    " \n",
    "    return root\n",
    "\n",
    "\n",
    "def inorder(root):\n",
    "    if root:\n",
    "        inorder(root.left)\n",
    "        print(root.val)\n",
    "        inorder(root.right)\n",
    "\n",
    "\n",
    "#\"\"\" Let us create following BST\n",
    "#              50\n",
    "#           /     \\\n",
    "#          30      70\n",
    "#         /  \\    /  \\\n",
    "#       20   40  60   80 \"\"\"\n",
    " \n",
    "root = None\n",
    "root = insert(root, 50)\n",
    "root = insert(root, 30)\n",
    "root = insert(root, 20)\n",
    "root = insert(root, 40)\n",
    "root = insert(root, 70)\n",
    "root = insert(root, 60)\n",
    "root = insert(root, 80)\n",
    " \n",
    "print (\"Inorder traversal of the given tree\")\n",
    "inorder(root)\n",
    " \n",
    "print (\"\\nDelete 20\")\n",
    "root = deleteNode(root, 20)\n",
    "print (\"Inorder traversal of the modified tree\")\n",
    "inorder(root)\n",
    " \n",
    "print (\"\\nDelete 30\")\n",
    "root = deleteNode(root, 30)\n",
    "print (\"Inorder traversal of the modified tree\")\n",
    "inorder(root)\n",
    " \n",
    "print (\"\\nDelete 50\")\n",
    "root = deleteNode(root, 50)\n",
    "print (\"Inorder traversal of the modified tree\")\n",
    "inorder(root)"
   ]
  },
  {
   "cell_type": "code",
   "execution_count": null,
   "metadata": {
    "ExecuteTime": {
     "end_time": "2021-06-06T16:58:22.988941Z",
     "start_time": "2021-06-06T16:58:22.981162Z"
    }
   },
   "outputs": [],
   "source": []
  },
  {
   "cell_type": "code",
   "execution_count": 3,
   "metadata": {
    "ExecuteTime": {
     "end_time": "2021-06-04T15:07:48.913393Z",
     "start_time": "2021-06-04T15:07:48.909977Z"
    }
   },
   "outputs": [],
   "source": [
    "def treeSum(root):\n",
    "    if root is None:\n",
    "        return 0\n",
    "    else:\n",
    "        leftSum  = treeSum(root.left)\n",
    "        rightSum = treeSum(root.right)\n",
    "        return root.data + leftSum + rightSum"
   ]
  },
  {
   "cell_type": "code",
   "execution_count": 6,
   "metadata": {
    "ExecuteTime": {
     "end_time": "2021-06-04T15:10:42.277580Z",
     "start_time": "2021-06-04T15:10:42.273945Z"
    }
   },
   "outputs": [],
   "source": [
    "def treeMax(root):\n",
    "    if root is None:\n",
    "        return 0\n",
    "    else:\n",
    "        leftMax = treeMax(root.left)\n",
    "        rightMax = treeMax(root.right)\n",
    "        return max(root.data,leftMax,rightMax)"
   ]
  },
  {
   "cell_type": "code",
   "execution_count": 7,
   "metadata": {
    "ExecuteTime": {
     "end_time": "2021-06-04T15:12:15.405044Z",
     "start_time": "2021-06-04T15:12:15.401427Z"
    }
   },
   "outputs": [],
   "source": [
    "def treeHeight(root):\n",
    "    if root is None:\n",
    "        return 0\n",
    "    else:\n",
    "        leftHeight = treeHeight(root.left)\n",
    "        rightHeight = treeHeight(root.right)\n",
    "        return 1 + max(leftHeight,rightHeight)"
   ]
  },
  {
   "cell_type": "code",
   "execution_count": 8,
   "metadata": {
    "ExecuteTime": {
     "end_time": "2021-06-04T15:14:00.907100Z",
     "start_time": "2021-06-04T15:14:00.903124Z"
    }
   },
   "outputs": [],
   "source": [
    "def existsInTree(root,value):\n",
    "    if root is None:\n",
    "        return False\n",
    "    else:\n",
    "        inLeft = existsInTree(root.left,value)\n",
    "        inRight = existsInTree(root.right,value)\n",
    "        return root.data == value or inLeft or inRight"
   ]
  },
  {
   "cell_type": "code",
   "execution_count": 9,
   "metadata": {
    "ExecuteTime": {
     "end_time": "2021-06-04T15:15:14.502412Z",
     "start_time": "2021-06-04T15:15:14.498946Z"
    }
   },
   "outputs": [],
   "source": [
    "def reverseTree(root):\n",
    "    if root is None:\n",
    "        return\n",
    "    else:\n",
    "        reverseTree(root.left)\n",
    "        reverseTree(root.right)\n",
    "        root.left, root.right = root.right, root.left"
   ]
  },
  {
   "cell_type": "code",
   "execution_count": 19,
   "metadata": {
    "ExecuteTime": {
     "end_time": "2021-06-06T16:07:38.883555Z",
     "start_time": "2021-06-06T16:07:38.879965Z"
    }
   },
   "outputs": [],
   "source": [
    "def serializeTree(root):\n",
    "    if root is None:\n",
    "        return 'X'\n",
    "    else:\n",
    "        leftSerialize = serializeTree(root.left)\n",
    "        rightSerialize = serializeTree(root.right)\n",
    "        return str(root.data)+\",\"+leftSerialize+rightSerialize"
   ]
  },
  {
   "cell_type": "code",
   "execution_count": 16,
   "metadata": {
    "ExecuteTime": {
     "end_time": "2021-06-06T16:06:34.494373Z",
     "start_time": "2021-06-06T16:06:34.486067Z"
    }
   },
   "outputs": [
    {
     "name": "stdout",
     "output_type": "stream",
     "text": [
      "Tree is not balanced\n"
     ]
    }
   ],
   "source": [
    "class Node:\n",
    "    # Constructor to create a new Node\n",
    "    def __init__(self, data):\n",
    "        self.data = data\n",
    "        self.left = None\n",
    "        self.right = None\n",
    " \n",
    "# function to find height of binary tree\n",
    "def height(root):\n",
    "     \n",
    "    # base condition when binary tree is empty\n",
    "    if root is None:\n",
    "        return 0\n",
    "    return max(height(root.left), height(root.right)) + 1\n",
    " \n",
    "# function to check if tree is height-balanced or not\n",
    "def isBalanced(root):\n",
    "     \n",
    "    # Base condition\n",
    "    if root is None:\n",
    "        return True\n",
    " \n",
    "    # for left and right subtree height\n",
    "    lh = height(root.left)\n",
    "    rh = height(root.right)\n",
    " \n",
    "    # allowed values for (lh - rh) are 1, -1, 0\n",
    "    if (abs(lh - rh) <= 1) and isBalanced(root.left) is True and isBalanced(root.right) is True:\n",
    "        return True\n",
    " \n",
    "    # if we reach here means tree is not height-balanced tree\n",
    "    return False\n",
    " \n",
    "# Driver function to test the above function\n",
    "root = Node(5)\n",
    "root.left = Node(3)\n",
    "root.right = Node(8)\n",
    "root.left.left = Node(2)\n",
    "root.left.right = Node(4)\n",
    "root.left.left.left = Node(1)\n",
    "if isBalanced(root):\n",
    "    print(\"Tree is balanced\")\n",
    "else:\n",
    "    print(\"Tree is not balanced\")"
   ]
  },
  {
   "cell_type": "code",
   "execution_count": 32,
   "metadata": {
    "ExecuteTime": {
     "end_time": "2021-06-06T16:15:17.644216Z",
     "start_time": "2021-06-06T16:15:17.634763Z"
    }
   },
   "outputs": [
    {
     "data": {
      "text/plain": [
       "True"
      ]
     },
     "execution_count": 32,
     "metadata": {},
     "output_type": "execute_result"
    }
   ],
   "source": [
    "class Node:\n",
    "    # Constructor to create a new Node\n",
    "    def __init__(self, data):\n",
    "        self.data = data\n",
    "        self.left = None\n",
    "        self.right = None\n",
    "        \n",
    "def isBST(root, l = None, r = None):\n",
    " \n",
    "    # Base condition\n",
    "    if (root == None) :\n",
    "        return True\n",
    " \n",
    "    # if left node exist then check it has correct data or not i.e. left node's data should be less than root's data\n",
    "    if (l != None and root.data <= l.data) :\n",
    "        return False\n",
    " \n",
    "    # if right node exist then check it has correct data or not i.e. right node's data should be greater than root's data\n",
    "    if (r != None and root.data >= r.data) :\n",
    "        return False\n",
    " \n",
    "    # check recursively for every node.\n",
    "    return isBST(root.left, l, root) and \\\n",
    "        isBST(root.right, root, r)\n",
    "    \n",
    "root = Node(5)\n",
    "root.left = Node(3)\n",
    "root.right = Node(8)\n",
    "root.left.left = Node(2)\n",
    "root.left.right = Node(4)\n",
    "root.left.left.left = Node(1)\n",
    "isBST(root)"
   ]
  },
  {
   "cell_type": "code",
   "execution_count": 28,
   "metadata": {
    "ExecuteTime": {
     "end_time": "2021-06-06T16:09:15.519383Z",
     "start_time": "2021-06-06T16:09:15.516816Z"
    }
   },
   "outputs": [],
   "source": [
    "reverseTree(root)"
   ]
  },
  {
   "cell_type": "code",
   "execution_count": 29,
   "metadata": {
    "ExecuteTime": {
     "end_time": "2021-06-06T16:09:15.788578Z",
     "start_time": "2021-06-06T16:09:15.785742Z"
    }
   },
   "outputs": [
    {
     "name": "stdout",
     "output_type": "stream",
     "text": [
      "8\n",
      "5\n",
      "4\n",
      "3\n",
      "2\n",
      "1\n"
     ]
    }
   ],
   "source": [
    "validateBST(root)"
   ]
  },
  {
   "cell_type": "code",
   "execution_count": null,
   "metadata": {},
   "outputs": [],
   "source": []
  }
 ],
 "metadata": {
  "kernelspec": {
   "display_name": "Python 3",
   "language": "python",
   "name": "python3"
  },
  "language_info": {
   "codemirror_mode": {
    "name": "ipython",
    "version": 3
   },
   "file_extension": ".py",
   "mimetype": "text/x-python",
   "name": "python",
   "nbconvert_exporter": "python",
   "pygments_lexer": "ipython3",
   "version": "3.7.6"
  }
 },
 "nbformat": 4,
 "nbformat_minor": 4
}
