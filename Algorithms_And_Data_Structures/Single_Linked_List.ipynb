{
 "cells": [
  {
   "cell_type": "markdown",
   "metadata": {},
   "source": [
    "# 1) Singly Linked List Cycle Check \n",
    "\n",
    "## Problem Statement\n",
    "\n",
    "Given a singly linked list, write a function which takes in the first node in a singly linked list and returns a boolean indicating if the linked list contains a \"cycle\".\n",
    "\n",
    "A cycle is when a node's next point actually points back to a previous node in the list. This is also sometimes known as a circularly linked list.\n",
    "\n",
    "You've been given the Linked List Node class code:"
   ]
  },
  {
   "cell_type": "code",
   "execution_count": 142,
   "metadata": {
    "ExecuteTime": {
     "end_time": "2021-05-23T14:28:22.923945Z",
     "start_time": "2021-05-23T14:28:22.919202Z"
    }
   },
   "outputs": [],
   "source": [
    "class Node(object):\n",
    "    def __init__(self,value):\n",
    "        self.value = value\n",
    "        self.next_node = None\n",
    "\n",
    "# CREATE CYCLE LIST\n",
    "a = Node(1)\n",
    "b = Node(2)\n",
    "c = Node(3)\n",
    "\n",
    "a.next_node = b\n",
    "b.next_node = c\n",
    "c.next_node = a # Cycle Here!\n",
    "\n",
    "\n",
    "# CREATE NON CYCLE LIST\n",
    "x = Node(1)\n",
    "y = Node(2)\n",
    "z = Node(3)\n",
    "\n",
    "x.next_node = y\n",
    "y.next_node = z"
   ]
  },
  {
   "cell_type": "markdown",
   "metadata": {},
   "source": [
    "## Solution"
   ]
  },
  {
   "cell_type": "code",
   "execution_count": 141,
   "metadata": {
    "ExecuteTime": {
     "end_time": "2021-05-23T14:28:20.832142Z",
     "start_time": "2021-05-23T14:28:20.827699Z"
    }
   },
   "outputs": [],
   "source": [
    "def cycle_check(head):\n",
    "    if head is None:\n",
    "        return False\n",
    "    if head.next_node is None:\n",
    "        return True\n",
    "    fast, slow = head, head\n",
    "    while (fast is not None and fast.next_node is not None):\n",
    "        fast = fast.next_node\n",
    "        if fast == slow:\n",
    "            return True\n",
    "        else:\n",
    "            slow = slow.next_node\n",
    "            fast = fast.next_node\n",
    "    return False"
   ]
  },
  {
   "cell_type": "markdown",
   "metadata": {},
   "source": [
    "## Test your Solution"
   ]
  },
  {
   "cell_type": "code",
   "execution_count": 143,
   "metadata": {
    "ExecuteTime": {
     "end_time": "2021-05-23T14:28:24.769285Z",
     "start_time": "2021-05-23T14:28:24.764434Z"
    }
   },
   "outputs": [
    {
     "name": "stdout",
     "output_type": "stream",
     "text": [
      "Cyclic Pattern Found in the List!\n",
      "Cyclic Pattern Not Found in the List!\n"
     ]
    }
   ],
   "source": [
    "if cycle_check(a):\n",
    "    print ('Cyclic Pattern Found in the List!')\n",
    "else:\n",
    "    print ('Cyclic Pattern Not Found in the List!')\n",
    "\n",
    "if cycle_check(x):\n",
    "    print ('Cyclic Pattern Found in the List!')\n",
    "else:\n",
    "    print ('Cyclic Pattern Not Found in the List!')    "
   ]
  },
  {
   "cell_type": "markdown",
   "metadata": {},
   "source": [
    "# 2) Linked List Nth to Last Node \n",
    "\n",
    "## Problem Statement\n",
    "Write a function that takes a head node and an integer value **n** and then returns the nth to last node in the linked list."
   ]
  },
  {
   "cell_type": "code",
   "execution_count": 145,
   "metadata": {
    "ExecuteTime": {
     "end_time": "2021-05-23T14:34:42.988284Z",
     "start_time": "2021-05-23T14:34:42.985250Z"
    }
   },
   "outputs": [],
   "source": [
    "class Node:\n",
    "\n",
    "    def __init__(self, value):\n",
    "        self.value = value\n",
    "        self.next_node  = None"
   ]
  },
  {
   "cell_type": "markdown",
   "metadata": {},
   "source": [
    "**Example Input and Output:**"
   ]
  },
  {
   "cell_type": "code",
   "execution_count": 146,
   "metadata": {
    "ExecuteTime": {
     "end_time": "2021-05-23T14:34:43.638333Z",
     "start_time": "2021-05-23T14:34:43.634139Z"
    }
   },
   "outputs": [],
   "source": [
    "a = Node(1)\n",
    "b = Node(2)\n",
    "c = Node(3)\n",
    "d = Node(4)\n",
    "e = Node(5)\n",
    "\n",
    "a.next_node = b\n",
    "b.next_node = c\n",
    "c.next_node = d\n",
    "d.next_node = e"
   ]
  },
  {
   "cell_type": "markdown",
   "metadata": {},
   "source": [
    "## Solution\n",
    "Fill out your solution below:"
   ]
  },
  {
   "cell_type": "code",
   "execution_count": 147,
   "metadata": {
    "ExecuteTime": {
     "end_time": "2021-05-23T14:34:47.669464Z",
     "start_time": "2021-05-23T14:34:47.665361Z"
    }
   },
   "outputs": [],
   "source": [
    "def nth_to_last_node(n, head):\n",
    "    if head is None or head.next_node is None:\n",
    "        return head\n",
    "\n",
    "    fast , slow = head, head\n",
    "    while n > 0 and fast is not None:\n",
    "        fast = fast.next_node\n",
    "        n -= 1\n",
    "        \n",
    "    while fast is not None:\n",
    "        fast = fast.next_node\n",
    "        slow = slow.next_node\n",
    "    return slow"
   ]
  },
  {
   "cell_type": "markdown",
   "metadata": {},
   "source": [
    "## Test your Solution"
   ]
  },
  {
   "cell_type": "code",
   "execution_count": 154,
   "metadata": {
    "ExecuteTime": {
     "end_time": "2021-05-23T14:35:08.273534Z",
     "start_time": "2021-05-23T14:35:08.270683Z"
    }
   },
   "outputs": [
    {
     "name": "stdout",
     "output_type": "stream",
     "text": [
      "4\n"
     ]
    }
   ],
   "source": [
    "# This would return the node d with a value of 4, because its the 2nd to last node.\n",
    "target_node = nth_to_last_node(2, a) \n",
    "print (target_node.value)"
   ]
  },
  {
   "cell_type": "markdown",
   "metadata": {},
   "source": [
    "# 3) Linked List Reversal  (Iterative & Recursive)\n",
    "\n",
    "## Problem\n",
    "\n",
    "Write a function to reverse a Linked List in place. The function will take in the head of the list as input and return the new head of the list.\n",
    "\n",
    "You are given the example Linked List Node class:"
   ]
  },
  {
   "cell_type": "code",
   "execution_count": 155,
   "metadata": {
    "ExecuteTime": {
     "end_time": "2021-05-23T14:35:53.630700Z",
     "start_time": "2021-05-23T14:35:53.627636Z"
    }
   },
   "outputs": [],
   "source": [
    "class Node:\n",
    "\n",
    "    def __init__(self, value):\n",
    "        self.value = value\n",
    "        self.next_node  = None"
   ]
  },
  {
   "cell_type": "code",
   "execution_count": 171,
   "metadata": {
    "ExecuteTime": {
     "end_time": "2021-05-23T14:44:50.731729Z",
     "start_time": "2021-05-23T14:44:50.727086Z"
    }
   },
   "outputs": [
    {
     "name": "stdout",
     "output_type": "stream",
     "text": [
      "11\n",
      "21\n",
      "31\n",
      "41\n"
     ]
    }
   ],
   "source": [
    "# Create a list of 4 nodes\n",
    "a = Node(11)\n",
    "b = Node(21)\n",
    "c = Node(31)\n",
    "d = Node(41)\n",
    "\n",
    "# Set up order a,b,c,d with values 1,2,3,4\n",
    "a.next_node = b\n",
    "b.next_node = c\n",
    "c.next_node = d\n",
    "\n",
    "head = a\n",
    "while head:\n",
    "    print (head.value)\n",
    "    head = head.next_node"
   ]
  },
  {
   "cell_type": "markdown",
   "metadata": {},
   "source": [
    "# Solution\n",
    "\n",
    "Fill out your solution below:"
   ]
  },
  {
   "cell_type": "code",
   "execution_count": 157,
   "metadata": {
    "ExecuteTime": {
     "end_time": "2021-05-23T14:39:07.056038Z",
     "start_time": "2021-05-23T14:39:07.052633Z"
    }
   },
   "outputs": [],
   "source": [
    "def reverse(curr):\n",
    "    prev = None\n",
    "    while curr is not None:\n",
    "        nxt = curr.next_node\n",
    "        curr.next_node = prev\n",
    "        prev = curr\n",
    "        curr = nxt"
   ]
  },
  {
   "cell_type": "code",
   "execution_count": 172,
   "metadata": {
    "ExecuteTime": {
     "end_time": "2021-05-23T14:44:53.609140Z",
     "start_time": "2021-05-23T14:44:53.605411Z"
    }
   },
   "outputs": [],
   "source": [
    "def recursive_reverse(head):\n",
    "    if head is None or head.next_node is None:\n",
    "        #print ('In if clause and checking if head or head.next_node is None')\n",
    "        #if head is None:\n",
    "        #    print ('In if clause. head is None')\n",
    "        #if head.next_node is None:\n",
    "        #    print ('In if clause. head.next_node is None and Value in head is '+str(head.value))\n",
    "        return head\n",
    "\n",
    "    #print ('head Value is '+str(head.value))\n",
    "    recursive_reverse(head.next_node)\n",
    "    #print ('Came back from recursion. head.value is '+str(head.value))\n",
    "    head.next_node.next_node = head\n",
    "    #print ('Done with first assignment. head.value is '+str(head.value))\n",
    "    head.next_node = None\n",
    "    #print ('Done with second assignment. head.value is '+str(head.value))"
   ]
  },
  {
   "cell_type": "markdown",
   "metadata": {},
   "source": [
    "## Test your Solution"
   ]
  },
  {
   "cell_type": "code",
   "execution_count": 169,
   "metadata": {
    "ExecuteTime": {
     "end_time": "2021-05-23T14:44:39.549414Z",
     "start_time": "2021-05-23T14:44:39.545289Z"
    }
   },
   "outputs": [
    {
     "name": "stdout",
     "output_type": "stream",
     "text": [
      "4\n",
      "3\n",
      "2\n",
      "1\n"
     ]
    }
   ],
   "source": [
    "reverse(a)\n",
    "\n",
    "head = d\n",
    "while head:\n",
    "    print (head.value)\n",
    "    head = head.next_node"
   ]
  },
  {
   "cell_type": "code",
   "execution_count": 173,
   "metadata": {
    "ExecuteTime": {
     "end_time": "2021-05-23T14:44:56.331931Z",
     "start_time": "2021-05-23T14:44:56.328583Z"
    }
   },
   "outputs": [
    {
     "name": "stdout",
     "output_type": "stream",
     "text": [
      "41\n",
      "31\n",
      "21\n",
      "11\n"
     ]
    }
   ],
   "source": [
    "recursive_reverse(a)\n",
    "\n",
    "head = d\n",
    "while head:\n",
    "    print (head.value)\n",
    "    head = head.next_node"
   ]
  },
  {
   "cell_type": "markdown",
   "metadata": {},
   "source": [
    "## 4) Create single Class Object with inbuilt Reverse modules for iterative and recursive"
   ]
  },
  {
   "cell_type": "code",
   "execution_count": 16,
   "metadata": {
    "ExecuteTime": {
     "end_time": "2021-05-22T14:10:43.906376Z",
     "start_time": "2021-05-22T14:10:43.897576Z"
    }
   },
   "outputs": [],
   "source": [
    "class Node:\n",
    "    def __init__(self,data):\n",
    "        self.data = data\n",
    "        self.next = None\n",
    "        \n",
    "class LinkedList:\n",
    "    def __init__(self):\n",
    "        self.head = None\n",
    "        \n",
    "    def push(self,new_data):\n",
    "        new_node = Node(new_data)\n",
    "        new_node.next = self.head\n",
    "        self.head = new_node\n",
    "        \n",
    "    def printList(self):\n",
    "        temp = self.head\n",
    "        while (temp is not None):\n",
    "            print (temp.data)\n",
    "            temp = temp.next\n",
    "    \n",
    "    def iterativeReverse(self):\n",
    "        curr = self.head\n",
    "        prev = None\n",
    "        while (curr is not None):\n",
    "            nxt = curr.next\n",
    "            curr.next = prev\n",
    "            prev = curr\n",
    "            curr = nxt\n",
    "        self.head = prev\n",
    "        \n",
    "    def reverseUtil(self,curr,prev):\n",
    "        if curr.next is None:\n",
    "            self.head = curr\n",
    "            curr.next = prev\n",
    "            return\n",
    "        next = curr.next\n",
    "        curr.next = prev\n",
    "        self.reverseUtil(next, curr)\n",
    "        \n",
    "    def recursiveReverse(self):\n",
    "        if self.head is None:\n",
    "            return\n",
    "        self.reverseUtil(self.head,None)  "
   ]
  },
  {
   "cell_type": "code",
   "execution_count": 17,
   "metadata": {
    "ExecuteTime": {
     "end_time": "2021-05-22T14:10:44.283765Z",
     "start_time": "2021-05-22T14:10:44.278149Z"
    }
   },
   "outputs": [
    {
     "name": "stdout",
     "output_type": "stream",
     "text": [
      "\n",
      "Print the list as inserted :\n",
      "1\n",
      "2\n",
      "3\n",
      "4\n",
      "\n",
      "Print the list after reversing iteratively :\n",
      "4\n",
      "3\n",
      "2\n",
      "1\n",
      "\n",
      "Print the list after reversing recursively :\n",
      "1\n",
      "2\n",
      "3\n",
      "4\n"
     ]
    }
   ],
   "source": [
    "llist = LinkedList()\n",
    "llist.push(4)\n",
    "llist.push(3)\n",
    "llist.push(2)\n",
    "llist.push(1)\n",
    "print ('\\nPrint the list as inserted :')\n",
    "llist.printList()\n",
    "\n",
    "llist.iterativeReverse()\n",
    "print ('\\nPrint the list after reversing iteratively :')\n",
    "llist.printList()\n",
    "\n",
    "llist.recursiveReverse()\n",
    "print ('\\nPrint the list after reversing recursively :')\n",
    "llist.printList()"
   ]
  },
  {
   "cell_type": "markdown",
   "metadata": {
    "ExecuteTime": {
     "end_time": "2021-05-22T14:17:37.820927Z",
     "start_time": "2021-05-22T14:17:37.814826Z"
    }
   },
   "source": [
    "# 5) Find the middle of a given linked list\n",
    "\n",
    "Given a singly linked list, find the middle of the linked list. For example, if the given linked list is 1->2->3->4->5 then the output should be 3. \n",
    "\n",
    "If there are even nodes, then there would be two middle nodes, we need to print the second middle element. For example, if given linked list is 1->2->3->4->5->6 then the output should be 4. "
   ]
  },
  {
   "cell_type": "code",
   "execution_count": 251,
   "metadata": {
    "ExecuteTime": {
     "end_time": "2021-05-23T17:12:22.832378Z",
     "start_time": "2021-05-23T17:12:22.824420Z"
    }
   },
   "outputs": [
    {
     "name": "stdout",
     "output_type": "stream",
     "text": [
      "1\n",
      "2\n",
      "3\n",
      "4\n",
      "5\n",
      "6\n",
      "7\n",
      "8\n",
      "9\n"
     ]
    }
   ],
   "source": [
    "class Node:\n",
    "    def __init__(self, value):\n",
    "        self.value = value\n",
    "        self.next_node  = None\n",
    "\n",
    "# Create a list of 4 nodes\n",
    "a = Node(1)\n",
    "b = Node(2)\n",
    "c = Node(3)\n",
    "d = Node(4)\n",
    "e = Node(5)\n",
    "f = Node(6)\n",
    "g = Node(7)\n",
    "h = Node(8)\n",
    "i = Node(9)\n",
    "\n",
    "# Set up order a,b,c,d with values 1,2,3,4\n",
    "a.next_node = b\n",
    "b.next_node = c\n",
    "c.next_node = d\n",
    "d.next_node = e\n",
    "e.next_node = f\n",
    "f.next_node = g\n",
    "g.next_node = h\n",
    "h.next_node = i\n",
    "\n",
    "head = a\n",
    "while head:\n",
    "    print (head.value)\n",
    "    head = head.next_node"
   ]
  },
  {
   "cell_type": "markdown",
   "metadata": {},
   "source": [
    "# Solution\n",
    "\n",
    "Fill out your solution below:"
   ]
  },
  {
   "cell_type": "code",
   "execution_count": 255,
   "metadata": {
    "ExecuteTime": {
     "end_time": "2021-05-23T17:22:29.650086Z",
     "start_time": "2021-05-23T17:22:29.645701Z"
    }
   },
   "outputs": [],
   "source": [
    "def find_middle_value(head):\n",
    "    if head is None or head.next_node is None:\n",
    "        return head\n",
    "    \n",
    "    fast, slow = head, head\n",
    "    #while (fast is not None) and (fast.next_node is not None) and (fast.next_node.next_node is not None):\n",
    "    while (fast is not None) and (fast.next_node is not None):\n",
    "        fast = fast.next_node.next_node\n",
    "        slow = slow.next_node\n",
    " \n",
    "    if fast is None or fast.next_node is None:\n",
    "        return slow\n",
    "    else:\n",
    "        return slow.next_node"
   ]
  },
  {
   "cell_type": "markdown",
   "metadata": {},
   "source": [
    "## Test your Solution"
   ]
  },
  {
   "cell_type": "code",
   "execution_count": 253,
   "metadata": {
    "ExecuteTime": {
     "end_time": "2021-05-23T17:12:24.502276Z",
     "start_time": "2021-05-23T17:12:24.498943Z"
    }
   },
   "outputs": [
    {
     "name": "stdout",
     "output_type": "stream",
     "text": [
      "5\n"
     ]
    }
   ],
   "source": [
    "d1 = find_middle_value(a)\n",
    "print (d1.value)"
   ]
  },
  {
   "cell_type": "markdown",
   "metadata": {},
   "source": [
    "# 6) Delete Middle of Linked List \n",
    "Given a singly linked list, delete middle of the linked list. \n",
    "\n",
    "For example, if given linked list is 1->2->3->4->5 then linked list should be modified to 1->2->4->5.\n",
    "\n",
    "If there are even nodes, then there would be two middle nodes, we need to delete the second middle element. \n",
    "\n",
    "For example, if given linked list is 1->2->3->4->5->6 then it should be modified to 1->2->3->5->6.\n",
    "\n",
    "If the input linked list is NULL or has 1 node, then it should return NULL"
   ]
  },
  {
   "cell_type": "code",
   "execution_count": 269,
   "metadata": {
    "ExecuteTime": {
     "end_time": "2021-05-23T17:28:38.747020Z",
     "start_time": "2021-05-23T17:28:38.741428Z"
    }
   },
   "outputs": [
    {
     "name": "stdout",
     "output_type": "stream",
     "text": [
      "1\n",
      "2\n",
      "3\n",
      "4\n",
      "5\n",
      "6\n",
      "7\n"
     ]
    }
   ],
   "source": [
    "class Node:\n",
    "    def __init__(self, value):\n",
    "        self.value = value\n",
    "        self.next_node  = None\n",
    "\n",
    "# Create a list of 4 nodes\n",
    "a = Node(1)\n",
    "b = Node(2)\n",
    "c = Node(3)\n",
    "d = Node(4)\n",
    "e = Node(5)\n",
    "f = Node(6)\n",
    "g = Node(7)\n",
    "#h = Node(8)\n",
    "#i = Node(9)\n",
    "\n",
    "# Set up order a,b,c,d with values 1,2,3,4\n",
    "a.next_node = b\n",
    "b.next_node = c\n",
    "c.next_node = d\n",
    "d.next_node = e\n",
    "e.next_node = f\n",
    "f.next_node = g\n",
    "#g.next_node = h\n",
    "#h.next_node = i\n",
    "\n",
    "head = a\n",
    "while head:\n",
    "    print (head.value)\n",
    "    head = head.next_node"
   ]
  },
  {
   "cell_type": "markdown",
   "metadata": {},
   "source": [
    "# Solution\n",
    "\n",
    "Fill out your solution below:"
   ]
  },
  {
   "cell_type": "code",
   "execution_count": 270,
   "metadata": {
    "ExecuteTime": {
     "end_time": "2021-05-23T17:28:42.236271Z",
     "start_time": "2021-05-23T17:28:42.231409Z"
    }
   },
   "outputs": [],
   "source": [
    "def delete_middle_value(head):\n",
    "    if head is None or head.next_node is None:\n",
    "        return None\n",
    "    \n",
    "    fast, slow = head, head\n",
    "    while (fast is not None) and (fast.next_node is not None):\n",
    "        fast = fast.next_node.next_node\n",
    "        prev = slow\n",
    "        slow = slow.next_node\n",
    " \n",
    "    if fast is None or fast.next_node is None:\n",
    "        prev.next_node = slow.next_node\n",
    "    else:\n",
    "        prev.next_node = slow.next_node.next_node"
   ]
  },
  {
   "cell_type": "markdown",
   "metadata": {},
   "source": [
    "## Test your Solution"
   ]
  },
  {
   "cell_type": "code",
   "execution_count": 271,
   "metadata": {
    "ExecuteTime": {
     "end_time": "2021-05-23T17:28:42.954338Z",
     "start_time": "2021-05-23T17:28:42.950939Z"
    }
   },
   "outputs": [
    {
     "name": "stdout",
     "output_type": "stream",
     "text": [
      "1\n",
      "2\n",
      "3\n",
      "5\n",
      "6\n",
      "7\n"
     ]
    }
   ],
   "source": [
    "delete_middle_value(a)\n",
    "head = a\n",
    "while head:\n",
    "    print (head.value)\n",
    "    head = head.next_node"
   ]
  },
  {
   "cell_type": "markdown",
   "metadata": {},
   "source": [
    "# 7) Remove duplicate element from sorted Linked List\n",
    "\n",
    "Given a singly linked list consisting of N nodes. The task is to remove duplicates (nodes with duplicate values) from the given list (if exists).\n",
    "\n",
    "\n",
    "Note: Try not to use extra space. Expected time complexity is O(N). The nodes are arranged in a sorted way.\n",
    "\n",
    "#### Input:\n",
    "LinkedList: 2->2->4->5\n",
    "#### Output: \n",
    "2->4->5\n",
    "\n",
    "#### Input:\n",
    "LinkedList: 2->2->2->2->2\n",
    "#### Output: \n",
    "2"
   ]
  },
  {
   "cell_type": "code",
   "execution_count": 409,
   "metadata": {
    "ExecuteTime": {
     "end_time": "2021-05-24T07:01:24.697892Z",
     "start_time": "2021-05-24T07:01:24.690791Z"
    }
   },
   "outputs": [
    {
     "name": "stdout",
     "output_type": "stream",
     "text": [
      "2\n",
      "2\n",
      "2\n",
      "2\n",
      "2\n"
     ]
    }
   ],
   "source": [
    "class Node:\n",
    "\n",
    "    def __init__(self, value):\n",
    "        self.value = value\n",
    "        self.next_node  = None\n",
    "\n",
    "# Create a list of 4 nodes\n",
    "a = Node(2)\n",
    "b = Node(2)\n",
    "c = Node(2)\n",
    "d = Node(2)\n",
    "e = Node(2)\n",
    "\n",
    "# Set up order a,b,c,d with values 1,2,3,4\n",
    "a.next_node = b\n",
    "b.next_node = c\n",
    "c.next_node = d\n",
    "d.next_node = e\n",
    "\n",
    "head = a\n",
    "while head:\n",
    "    print (head.value)\n",
    "    head = head.next_node"
   ]
  },
  {
   "cell_type": "markdown",
   "metadata": {},
   "source": [
    "# Solution\n",
    "\n",
    "Fill out your solution below:"
   ]
  },
  {
   "cell_type": "code",
   "execution_count": 410,
   "metadata": {
    "ExecuteTime": {
     "end_time": "2021-05-24T07:01:25.303271Z",
     "start_time": "2021-05-24T07:01:25.297551Z"
    }
   },
   "outputs": [],
   "source": [
    "def remove_duplicates(head):\n",
    "    while head is not None:\n",
    "        if head.next_node is not None:\n",
    "            if head.value == head.next_node.value:\n",
    "                head.next_node = head.next_node.next_node\n",
    "                prev = head\n",
    "            else:\n",
    "                prev = head\n",
    "                head = head.next_node\n",
    "        else:\n",
    "            if prev.value == head.value and head != prev:\n",
    "                prev.next_node = None\n",
    "            else:\n",
    "                head = head.next_node"
   ]
  },
  {
   "cell_type": "code",
   "execution_count": 411,
   "metadata": {
    "ExecuteTime": {
     "end_time": "2021-05-24T07:01:25.617384Z",
     "start_time": "2021-05-24T07:01:25.612825Z"
    }
   },
   "outputs": [
    {
     "name": "stdout",
     "output_type": "stream",
     "text": [
      "2\n"
     ]
    }
   ],
   "source": [
    "remove_duplicates(a)\n",
    "head = a\n",
    "while head:\n",
    "    print (head.value)\n",
    "    head = head.next_node"
   ]
  },
  {
   "cell_type": "markdown",
   "metadata": {},
   "source": [
    "# 8) Add 1 to a number represented as linked list\n",
    "\n",
    "Number is represented in linked list such that each digit corresponds to a node in linked list. Add 1 to it. \n",
    "\n",
    "For example 1999 is represented as (1-> 9-> 9 -> 9) and adding 1 to it should change it to (2->0->0->0) "
   ]
  },
  {
   "cell_type": "code",
   "execution_count": 28,
   "metadata": {
    "ExecuteTime": {
     "end_time": "2021-05-30T14:27:17.836570Z",
     "start_time": "2021-05-30T14:27:17.830892Z"
    }
   },
   "outputs": [
    {
     "name": "stdout",
     "output_type": "stream",
     "text": [
      "1\n",
      "9\n",
      "9\n",
      "9\n"
     ]
    }
   ],
   "source": [
    "class Node:\n",
    "\n",
    "    def __init__(self, value):\n",
    "        self.value = value\n",
    "        self.next_node  = None\n",
    "\n",
    "# Create a list of 4 nodes\n",
    "a = Node(1)\n",
    "b = Node(9)\n",
    "c = Node(9)\n",
    "d = Node(9)\n",
    "\n",
    "\n",
    "# Set up order a,b,c,d with values 1,2,3,4\n",
    "a.next_node = b\n",
    "b.next_node = c\n",
    "c.next_node = d\n",
    "\n",
    "\n",
    "head = a\n",
    "while head:\n",
    "    print (head.value)\n",
    "    head = head.next_node"
   ]
  },
  {
   "cell_type": "markdown",
   "metadata": {},
   "source": [
    "# Solution\n",
    "\n",
    "Fill out your solution below:"
   ]
  },
  {
   "cell_type": "code",
   "execution_count": 29,
   "metadata": {
    "ExecuteTime": {
     "end_time": "2021-05-30T14:27:18.513931Z",
     "start_time": "2021-05-30T14:27:18.506394Z"
    }
   },
   "outputs": [],
   "source": [
    "import copy\n",
    "\n",
    "def reverse(curr):\n",
    "    prev = None\n",
    "    while curr is not None:\n",
    "        nxt = curr.next_node\n",
    "        curr.next_node = prev\n",
    "        prev = curr\n",
    "        curr = nxt\n",
    "    temp = prev\n",
    "    while temp:\n",
    "        #print (temp.value)\n",
    "        temp = temp.next_node\n",
    "    #print ('-------------------')\n",
    "    return prev\n",
    "\n",
    "def add_one(head):\n",
    "    \n",
    "    head = reverse(head)\n",
    "    curr = head\n",
    "\n",
    "    #print ('=====> '+str(head.value))\n",
    "    if head.value == 9:\n",
    "        head.value = 0\n",
    "        carry = 1\n",
    "    else:\n",
    "        head.value = head.value + 1\n",
    "        carry = 0\n",
    "    #print ('-----> '+str(head.value))\n",
    "    head = head.next_node\n",
    "    \n",
    "    while head is not None:\n",
    "        #print ('=====> '+str(head.value))\n",
    "        if head.value == 9 and carry == 1:\n",
    "            head.value = 0\n",
    "            carry = 1\n",
    "        else:\n",
    "            head.value = head.value + carry\n",
    "            carry = 0\n",
    "        #print ('-----> '+str(head.value))\n",
    "        head = head.next_node\n",
    "\n",
    "    temp = copy.copy(curr)\n",
    "    while temp:\n",
    "        #print (temp.value)\n",
    "        temp = temp.next_node\n",
    "    #print ('=====================')\n",
    "    \n",
    "    head = reverse(curr)"
   ]
  },
  {
   "cell_type": "code",
   "execution_count": 30,
   "metadata": {
    "ExecuteTime": {
     "end_time": "2021-05-30T14:27:18.867212Z",
     "start_time": "2021-05-30T14:27:18.863517Z"
    }
   },
   "outputs": [
    {
     "name": "stdout",
     "output_type": "stream",
     "text": [
      "2\n",
      "0\n",
      "0\n",
      "0\n"
     ]
    }
   ],
   "source": [
    "add_one(a)\n",
    "head = a\n",
    "while head:\n",
    "    print (head.value)\n",
    "    head = head.next_node"
   ]
  },
  {
   "cell_type": "markdown",
   "metadata": {},
   "source": [
    "# 9) Reverse a Linked List in groups of given size.\n",
    "\n",
    "Given a linked list of size N. The task is to reverse every k nodes (where k is an input to the function) in the linked list.\n",
    "\n",
    "### Example 1:\n",
    "\n",
    "#### Input\n",
    "LinkedList: 1->2->3->4->5->6->7->8 <br>\n",
    "K = 4\n",
    "\n",
    "#### Output\n",
    "4->3->2->1->8->7->6->5\n",
    "\n",
    "#### Explanation\n",
    "The first 4 elements 1,2,2,4 are reversed first and then the next 4 elements 5,6,7,8. Hence, the resultant linked list is 4->3->2->1->8->7->6->5.\n",
    "\n",
    "### Example 2:\n",
    "\n",
    "#### Input\n",
    "LinkedList: 1->2->3->4->5 <br>\n",
    "K = 3\n",
    "\n",
    "#### Output\n",
    "3->2->1->5->4\n",
    "\n",
    "#### Explanation\n",
    "The first 3 elements are 1,2,3 are reversed first and then elements 4,5 are reversed.Hence, the resultant linked list is 3->2->1->5->4."
   ]
  },
  {
   "cell_type": "code",
   "execution_count": 1,
   "metadata": {
    "ExecuteTime": {
     "end_time": "2021-05-31T04:39:32.573732Z",
     "start_time": "2021-05-31T04:39:32.566334Z"
    }
   },
   "outputs": [
    {
     "name": "stdout",
     "output_type": "stream",
     "text": [
      "1\n",
      "2\n",
      "3\n",
      "4\n",
      "5\n",
      "6\n",
      "7\n",
      "8\n"
     ]
    }
   ],
   "source": [
    "class Node:\n",
    "\n",
    "    def __init__(self, value):\n",
    "        self.value = value\n",
    "        self.next_node  = None\n",
    "\n",
    "# Create a list of 4 nodes\n",
    "a = Node(1)\n",
    "b = Node(2)\n",
    "c = Node(3)\n",
    "d = Node(4)\n",
    "e = Node(5)\n",
    "f = Node(6)\n",
    "g = Node(7)\n",
    "h = Node(8)\n",
    "\n",
    "\n",
    "# Set up order a,b,c,d with values 1,2,3,4\n",
    "a.next_node = b\n",
    "b.next_node = c\n",
    "c.next_node = d\n",
    "d.next_node = e\n",
    "e.next_node = f\n",
    "f.next_node = g\n",
    "g.next_node = h\n",
    "\n",
    "head = a\n",
    "while head:\n",
    "    print (head.value)\n",
    "    head = head.next_node"
   ]
  },
  {
   "cell_type": "code",
   "execution_count": 2,
   "metadata": {
    "ExecuteTime": {
     "end_time": "2021-05-31T04:39:32.927322Z",
     "start_time": "2021-05-31T04:39:32.922312Z"
    }
   },
   "outputs": [],
   "source": [
    "def reverse(curr):\n",
    "    prev = None\n",
    "    while curr is not None:\n",
    "        nxt = curr.next_node\n",
    "        curr.next_node = prev\n",
    "        prev = curr\n",
    "        curr = nxt\n",
    "    return prev\n",
    "    \n",
    "def reverse_in_groups(head,size):\n",
    "    n = size\n",
    "    while head.next_node is not None:\n",
    "        curr = head\n",
    "        while n > 0 and head.next_node is not None:\n",
    "            prev = head\n",
    "            head = head.next_node\n",
    "            n -= 1\n",
    "        print (prev.value)\n",
    "        head = reverse(prev)\n",
    "        head = head.next_node"
   ]
  },
  {
   "cell_type": "code",
   "execution_count": 3,
   "metadata": {
    "ExecuteTime": {
     "end_time": "2021-05-31T04:39:33.376571Z",
     "start_time": "2021-05-31T04:39:33.279708Z"
    }
   },
   "outputs": [
    {
     "name": "stdout",
     "output_type": "stream",
     "text": [
      "3\n",
      "3\n"
     ]
    },
    {
     "ename": "AttributeError",
     "evalue": "'NoneType' object has no attribute 'next_node'",
     "output_type": "error",
     "traceback": [
      "\u001b[0;31m---------------------------------------------------------------------------\u001b[0m",
      "\u001b[0;31mAttributeError\u001b[0m                            Traceback (most recent call last)",
      "\u001b[0;32m<ipython-input-3-4895ad0f302c>\u001b[0m in \u001b[0;36m<module>\u001b[0;34m\u001b[0m\n\u001b[1;32m      1\u001b[0m \u001b[0mhead\u001b[0m \u001b[0;34m=\u001b[0m \u001b[0ma\u001b[0m\u001b[0;34m\u001b[0m\u001b[0;34m\u001b[0m\u001b[0m\n\u001b[0;32m----> 2\u001b[0;31m \u001b[0mreverse_in_groups\u001b[0m\u001b[0;34m(\u001b[0m\u001b[0mhead\u001b[0m\u001b[0;34m,\u001b[0m\u001b[0;36m3\u001b[0m\u001b[0;34m)\u001b[0m\u001b[0;34m\u001b[0m\u001b[0;34m\u001b[0m\u001b[0m\n\u001b[0m",
      "\u001b[0;32m<ipython-input-2-ac52e310b123>\u001b[0m in \u001b[0;36mreverse_in_groups\u001b[0;34m(head, size)\u001b[0m\n\u001b[1;32m     10\u001b[0m \u001b[0;32mdef\u001b[0m \u001b[0mreverse_in_groups\u001b[0m\u001b[0;34m(\u001b[0m\u001b[0mhead\u001b[0m\u001b[0;34m,\u001b[0m\u001b[0msize\u001b[0m\u001b[0;34m)\u001b[0m\u001b[0;34m:\u001b[0m\u001b[0;34m\u001b[0m\u001b[0;34m\u001b[0m\u001b[0m\n\u001b[1;32m     11\u001b[0m     \u001b[0mn\u001b[0m \u001b[0;34m=\u001b[0m \u001b[0msize\u001b[0m\u001b[0;34m\u001b[0m\u001b[0;34m\u001b[0m\u001b[0m\n\u001b[0;32m---> 12\u001b[0;31m     \u001b[0;32mwhile\u001b[0m \u001b[0mhead\u001b[0m\u001b[0;34m.\u001b[0m\u001b[0mnext_node\u001b[0m \u001b[0;32mis\u001b[0m \u001b[0;32mnot\u001b[0m \u001b[0;32mNone\u001b[0m\u001b[0;34m:\u001b[0m\u001b[0;34m\u001b[0m\u001b[0;34m\u001b[0m\u001b[0m\n\u001b[0m\u001b[1;32m     13\u001b[0m         \u001b[0mcurr\u001b[0m \u001b[0;34m=\u001b[0m \u001b[0mhead\u001b[0m\u001b[0;34m\u001b[0m\u001b[0;34m\u001b[0m\u001b[0m\n\u001b[1;32m     14\u001b[0m         \u001b[0;32mwhile\u001b[0m \u001b[0mn\u001b[0m \u001b[0;34m>\u001b[0m \u001b[0;36m0\u001b[0m \u001b[0;32mand\u001b[0m \u001b[0mhead\u001b[0m\u001b[0;34m.\u001b[0m\u001b[0mnext_node\u001b[0m \u001b[0;32mis\u001b[0m \u001b[0;32mnot\u001b[0m \u001b[0;32mNone\u001b[0m\u001b[0;34m:\u001b[0m\u001b[0;34m\u001b[0m\u001b[0;34m\u001b[0m\u001b[0m\n",
      "\u001b[0;31mAttributeError\u001b[0m: 'NoneType' object has no attribute 'next_node'"
     ]
    }
   ],
   "source": [
    "head = a\n",
    "reverse_in_groups(head,3)"
   ]
  },
  {
   "cell_type": "code",
   "execution_count": 4,
   "metadata": {
    "ExecuteTime": {
     "end_time": "2021-05-31T04:39:33.689600Z",
     "start_time": "2021-05-31T04:39:33.685931Z"
    }
   },
   "outputs": [
    {
     "name": "stdout",
     "output_type": "stream",
     "text": [
      "1\n",
      "2\n",
      "3\n"
     ]
    }
   ],
   "source": [
    "head = a\n",
    "while head:\n",
    "    print (head.value)\n",
    "    head = head.next_node"
   ]
  },
  {
   "cell_type": "code",
   "execution_count": null,
   "metadata": {},
   "outputs": [],
   "source": []
  }
 ],
 "metadata": {
  "kernelspec": {
   "display_name": "Python 3",
   "language": "python",
   "name": "python3"
  },
  "language_info": {
   "codemirror_mode": {
    "name": "ipython",
    "version": 3
   },
   "file_extension": ".py",
   "mimetype": "text/x-python",
   "name": "python",
   "nbconvert_exporter": "python",
   "pygments_lexer": "ipython3",
   "version": "3.7.6"
  }
 },
 "nbformat": 4,
 "nbformat_minor": 4
}
