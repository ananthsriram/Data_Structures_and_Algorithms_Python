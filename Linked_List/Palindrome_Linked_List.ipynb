{
 "cells": [
  {
   "cell_type": "markdown",
   "id": "646be444",
   "metadata": {},
   "source": [
    "Given the head of a singly linked list, return true if it is a palindrome or false otherwise."
   ]
  },
  {
   "attachments": {
    "image-2.png": {
     "image/png": "[encoded data removed]"
    },
    "image.png": {
     "image/png": "[encoded data removed]"
    }
   },
   "cell_type": "markdown",
   "id": "7d11ce5b",
   "metadata": {},
   "source": [
    "## Example 1:\n",
    "\n",
    "![image.png](attachment:image.png)\n",
    "\n",
    "__Input__: head = [1,2,2,1]  \n",
    "__Output__: true  \n",
    "\n",
    "\n",
    "## Example 2:\n",
    "\n",
    "![image-2.png](attachment:image-2.png)\n",
    "\n",
    "__Input__: head = [1,2]  \n",
    "__Output__: false"
   ]
  },
  {
   "cell_type": "code",
   "execution_count": 1,
   "id": "921dfe30",
   "metadata": {
    "ExecuteTime": {
     "end_time": "2022-10-15T08:20:53.189365Z",
     "start_time": "2022-10-15T08:20:53.186491Z"
    }
   },
   "outputs": [],
   "source": [
    "def isPalindrome( head):\n",
    "    vals = []\n",
    "    current_node = head\n",
    "    while current_node is not None:\n",
    "        vals.append(current_node.val)\n",
    "        current_node = current_node.next\n",
    "    return vals == vals[::-1]"
   ]
  },
  {
   "cell_type": "code",
   "execution_count": 2,
   "id": "0cd33f59",
   "metadata": {
    "ExecuteTime": {
     "end_time": "2022-10-15T08:21:13.661863Z",
     "start_time": "2022-10-15T08:21:13.659131Z"
    }
   },
   "outputs": [],
   "source": [
    "def isPalindrome(head):\n",
    "\n",
    "    self.front_pointer = head\n",
    "\n",
    "    def recursively_check(current_node=head):\n",
    "        if current_node is not None:\n",
    "            if not recursively_check(current_node.next):\n",
    "                return False\n",
    "            if self.front_pointer.val != current_node.val:\n",
    "                return False\n",
    "            self.front_pointer = self.front_pointer.next\n",
    "        return True\n",
    "\n",
    "    return recursively_check()"
   ]
  },
  {
   "cell_type": "code",
   "execution_count": 3,
   "id": "386332ac",
   "metadata": {
    "ExecuteTime": {
     "end_time": "2022-10-15T08:21:55.669098Z",
     "start_time": "2022-10-15T08:21:55.664762Z"
    }
   },
   "outputs": [],
   "source": [
    "class Solution:\n",
    "\n",
    "    def isPalindrome(self, head):\n",
    "        if head is None:\n",
    "            return True\n",
    "\n",
    "        # Find the end of first half and reverse second half.\n",
    "        first_half_end = self.end_of_first_half(head)\n",
    "        second_half_start = self.reverse_list(first_half_end.next)\n",
    "\n",
    "        # Check whether or not there's a palindrome.\n",
    "        result = True\n",
    "        first_position = head\n",
    "        second_position = second_half_start\n",
    "        while result and second_position is not None:\n",
    "            if first_position.val != second_position.val:\n",
    "                result = False\n",
    "            first_position = first_position.next\n",
    "            second_position = second_position.next\n",
    "\n",
    "        # Restore the list and return the result.\n",
    "        first_half_end.next = self.reverse_list(second_half_start)\n",
    "        return result    \n",
    "\n",
    "    def end_of_first_half(self, head):\n",
    "        fast = head\n",
    "        slow = head\n",
    "        while fast.next is not None and fast.next.next is not None:\n",
    "            fast = fast.next.next\n",
    "            slow = slow.next\n",
    "        return slow\n",
    "\n",
    "    def reverse_list(self, head):\n",
    "        previous = None\n",
    "        current = head\n",
    "        while current is not None:\n",
    "            next_node = current.next\n",
    "            current.next = previous\n",
    "            previous = current\n",
    "            current = next_node\n",
    "        return previous"
   ]
  },
  {
   "cell_type": "code",
   "execution_count": null,
   "id": "ad64b991",
   "metadata": {},
   "outputs": [],
   "source": []
  }
 ],
 "metadata": {
  "hide_input": false,
  "kernelspec": {
   "display_name": "Python 3 (ipykernel)",
   "language": "python",
   "name": "python3"
  },
  "language_info": {
   "codemirror_mode": {
    "name": "ipython",
    "version": 3
   },
   "file_extension": ".py",
   "mimetype": "text/x-python",
   "name": "python",
   "nbconvert_exporter": "python",
   "pygments_lexer": "ipython3",
   "version": "3.9.7"
  },
  "toc": {
   "base_numbering": 1,
   "nav_menu": {},
   "number_sections": false,
   "sideBar": true,
   "skip_h1_title": false,
   "title_cell": "Table of Contents",
   "title_sidebar": "Contents",
   "toc_cell": false,
   "toc_position": {},
   "toc_section_display": true,
   "toc_window_display": false
  },
  "varInspector": {
   "cols": {
    "lenName": 16,
    "lenType": 16,
    "lenVar": 40
   },
   "kernels_config": {
    "python": {
     "delete_cmd_postfix": "",
     "delete_cmd_prefix": "del ",
     "library": "var_list.py",
     "varRefreshCmd": "print(var_dic_list())"
    },
    "r": {
     "delete_cmd_postfix": ") ",
     "delete_cmd_prefix": "rm(",
     "library": "var_list.r",
     "varRefreshCmd": "cat(var_dic_list()) "
    }
   },
   "types_to_exclude": [
    "module",
    "function",
    "builtin_function_or_method",
    "instance",
    "_Feature"
   ],
   "window_display": false
  }
 },
 "nbformat": 4,
 "nbformat_minor": 5
}
