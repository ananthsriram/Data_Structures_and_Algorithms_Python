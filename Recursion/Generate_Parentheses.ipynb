{
 "cells": [
  {
   "cell_type": "markdown",
   "id": "170ee02d",
   "metadata": {},
   "source": [
    "Given n pairs of parentheses, write a function to generate all combinations of well-formed parentheses."
   ]
  },
  {
   "cell_type": "markdown",
   "id": "3d3d4824",
   "metadata": {},
   "source": [
    "## Example 1:\n",
    "\n",
    "__Input__: n = 3  \n",
    "__Output__: [\"((( )))\",\"(( )( ))\",\"(( ))( )\",\"( )(( ))\",\"( )( )( )\"]\n",
    "\n",
    "## Example 2:\n",
    "\n",
    "__Input__: n = 1  \n",
    "__Output__: [\"( )\"]"
   ]
  },
  {
   "cell_type": "code",
   "execution_count": 1,
   "id": "ae92fac9",
   "metadata": {
    "ExecuteTime": {
     "end_time": "2022-10-15T14:58:33.898304Z",
     "start_time": "2022-10-15T14:58:33.894683Z"
    }
   },
   "outputs": [],
   "source": [
    "def generateParenthesis(n):\n",
    "    def generate(A = []):\n",
    "        if len(A) == 2*n:\n",
    "            if valid(A):\n",
    "                ans.append(\"\".join(A))\n",
    "        else:\n",
    "            A.append('(')\n",
    "            generate(A)\n",
    "            A.pop()\n",
    "            A.append(')')\n",
    "            generate(A)\n",
    "            A.pop()\n",
    "\n",
    "    def valid(A):\n",
    "        bal = 0\n",
    "        for c in A:\n",
    "            if c == '(': bal += 1\n",
    "            else: bal -= 1\n",
    "            if bal < 0: return False\n",
    "        return bal == 0\n",
    "\n",
    "    ans = []\n",
    "    generate()\n",
    "    return ans"
   ]
  },
  {
   "cell_type": "code",
   "execution_count": 2,
   "id": "2b238baf",
   "metadata": {
    "ExecuteTime": {
     "end_time": "2022-10-15T14:58:41.899192Z",
     "start_time": "2022-10-15T14:58:41.892863Z"
    }
   },
   "outputs": [
    {
     "data": {
      "text/plain": [
       "['((()))', '(()())', '(())()', '()(())', '()()()']"
      ]
     },
     "execution_count": 2,
     "metadata": {},
     "output_type": "execute_result"
    }
   ],
   "source": [
    "n = 3\n",
    "generateParenthesis(n)"
   ]
  },
  {
   "cell_type": "code",
   "execution_count": 6,
   "id": "637493ef",
   "metadata": {
    "ExecuteTime": {
     "end_time": "2022-10-15T14:58:57.085573Z",
     "start_time": "2022-10-15T14:58:57.082736Z"
    }
   },
   "outputs": [
    {
     "data": {
      "text/plain": [
       "['()']"
      ]
     },
     "execution_count": 6,
     "metadata": {},
     "output_type": "execute_result"
    }
   ],
   "source": [
    "n = 1\n",
    "generateParenthesis(n)"
   ]
  },
  {
   "cell_type": "code",
   "execution_count": null,
   "id": "ac917511",
   "metadata": {},
   "outputs": [],
   "source": []
  }
 ],
 "metadata": {
  "hide_input": false,
  "kernelspec": {
   "display_name": "Python 3 (ipykernel)",
   "language": "python",
   "name": "python3"
  },
  "language_info": {
   "codemirror_mode": {
    "name": "ipython",
    "version": 3
   },
   "file_extension": ".py",
   "mimetype": "text/x-python",
   "name": "python",
   "nbconvert_exporter": "python",
   "pygments_lexer": "ipython3",
   "version": "3.9.7"
  },
  "toc": {
   "base_numbering": 1,
   "nav_menu": {},
   "number_sections": false,
   "sideBar": true,
   "skip_h1_title": false,
   "title_cell": "Table of Contents",
   "title_sidebar": "Contents",
   "toc_cell": false,
   "toc_position": {},
   "toc_section_display": true,
   "toc_window_display": false
  },
  "varInspector": {
   "cols": {
    "lenName": 16,
    "lenType": 16,
    "lenVar": 40
   },
   "kernels_config": {
    "python": {
     "delete_cmd_postfix": "",
     "delete_cmd_prefix": "del ",
     "library": "var_list.py",
     "varRefreshCmd": "print(var_dic_list())"
    },
    "r": {
     "delete_cmd_postfix": ") ",
     "delete_cmd_prefix": "rm(",
     "library": "var_list.r",
     "varRefreshCmd": "cat(var_dic_list()) "
    }
   },
   "types_to_exclude": [
    "module",
    "function",
    "builtin_function_or_method",
    "instance",
    "_Feature"
   ],
   "window_display": false
  }
 },
 "nbformat": 4,
 "nbformat_minor": 5
}
