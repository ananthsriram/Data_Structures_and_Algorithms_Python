{
 "cells": [
  {
   "cell_type": "markdown",
   "id": "aa243088",
   "metadata": {},
   "source": [
    "Given an array of unique strings words, return all the word squares you can build from words. The same word from words can be used multiple times. You can return the answer in any order.\n",
    "\n",
    "A sequence of strings forms a valid word square if the kth row and column read the same string, where 0 <= k < max(numRows, numColumns).\n",
    "\n",
    "- For example, the word sequence [\"ball\",\"area\",\"lead\",\"lady\"] forms a word square because each word reads the same both horizontally and vertically."
   ]
  },
  {
   "cell_type": "markdown",
   "id": "a3f92d85",
   "metadata": {},
   "source": [
    "## Example 1:\n",
    "\n",
    "__Input__: words = [\"area\",\"lead\",\"wall\",\"lady\",\"ball\"]  \n",
    "__Output__: [[\"ball\",\"area\",\"lead\",\"lady\"],[\"wall\",\"area\",\"lead\",\"lady\"]]  \n",
    "__Explanation__:  \n",
    "The output consists of two word squares. The order of output does not matter (just the order of words in each word square matters).\n",
    "\n",
    "\n",
    "## Example 2:\n",
    "\n",
    "__Input__: words = [\"abat\",\"baba\",\"atan\",\"atal\"]  \n",
    "__Output__: [[\"baba\",\"abat\",\"baba\",\"atal\"],[\"baba\",\"abat\",\"baba\",\"atan\"]]  \n",
    "__Explanation__:  \n",
    "The output consists of two word squares. The order of output does not matter (just the order of words in each"
   ]
  },
  {
   "cell_type": "code",
   "execution_count": 1,
   "id": "bb18aeb8",
   "metadata": {
    "ExecuteTime": {
     "end_time": "2022-10-15T14:40:49.649930Z",
     "start_time": "2022-10-15T14:40:49.645660Z"
    }
   },
   "outputs": [],
   "source": [
    "class Solution:\n",
    "\n",
    "    def wordSquares(self, words):\n",
    "\n",
    "        self.words = words\n",
    "        self.N = len(words[0])\n",
    "\n",
    "        results = []\n",
    "        word_squares = []\n",
    "        for word in words:\n",
    "            # try with every word as the starting word\n",
    "            word_squares = [word]\n",
    "            self.backtracking(1, word_squares, results)\n",
    "        return results\n",
    "\n",
    "    def backtracking(self, step, word_squares, results):\n",
    "\n",
    "        if step == self.N:\n",
    "            results.append(word_squares[:])\n",
    "            return\n",
    "\n",
    "        prefix = ''.join([word[step] for word in word_squares])\n",
    "        # find out all words that start with the given prefix        \n",
    "        for candidate in self.getWordsWithPrefix(prefix):\n",
    "            # iterate row by row\n",
    "            word_squares.append(candidate)\n",
    "            self.backtracking(step+1, word_squares, results)\n",
    "            word_squares.pop()\n",
    "\n",
    "    def getWordsWithPrefix(self, prefix):\n",
    "        for word in self.words:\n",
    "            if word.startswith(prefix):\n",
    "                yield word"
   ]
  },
  {
   "cell_type": "code",
   "execution_count": 2,
   "id": "9e5eb111",
   "metadata": {
    "ExecuteTime": {
     "end_time": "2022-10-15T14:41:14.937256Z",
     "start_time": "2022-10-15T14:41:14.932365Z"
    }
   },
   "outputs": [],
   "source": [
    "class Solution:\n",
    "\n",
    "    def wordSquares(self, words):\n",
    "\n",
    "        self.words = words\n",
    "        self.N = len(words[0])\n",
    "        self.buildPrefixHashTable(self.words)\n",
    "\n",
    "        results = []\n",
    "        word_squares = []\n",
    "        for word in words:\n",
    "            word_squares = [word]\n",
    "            self.backtracking(1, word_squares, results)\n",
    "        return results\n",
    "\n",
    "    def backtracking(self, step, word_squares, results):\n",
    "        if step == self.N:\n",
    "            results.append(word_squares[:])\n",
    "            return\n",
    "\n",
    "        prefix = ''.join([word[step] for word in word_squares])\n",
    "        for candidate in self.getWordsWithPrefix(prefix):\n",
    "            word_squares.append(candidate)\n",
    "            self.backtracking(step+1, word_squares, results)\n",
    "            word_squares.pop()\n",
    "\n",
    "    def buildPrefixHashTable(self, words):\n",
    "        self.prefixHashTable = {}\n",
    "        for word in words:\n",
    "            for prefix in (word[:i] for i in range(1, len(word))):\n",
    "                self.prefixHashTable.setdefault(prefix, set()).add(word)\n",
    "\n",
    "    def getWordsWithPrefix(self, prefix):\n",
    "        if prefix in self.prefixHashTable:\n",
    "            return self.prefixHashTable[prefix]\n",
    "        else:\n",
    "            return set([])"
   ]
  },
  {
   "cell_type": "code",
   "execution_count": 3,
   "id": "80e3c8ad",
   "metadata": {
    "ExecuteTime": {
     "end_time": "2022-10-15T14:41:36.334694Z",
     "start_time": "2022-10-15T14:41:36.329279Z"
    }
   },
   "outputs": [],
   "source": [
    "class Solution:\n",
    "\n",
    "    def wordSquares(self, words):\n",
    "\n",
    "        self.words = words\n",
    "        self.N = len(words[0])\n",
    "        self.buildTrie(self.words)\n",
    "\n",
    "        results = []\n",
    "        word_squares = []\n",
    "        for word in words:\n",
    "            word_squares = [word]\n",
    "            self.backtracking(1, word_squares, results)\n",
    "        return results\n",
    "\n",
    "    def buildTrie(self, words):\n",
    "        self.trie = {}\n",
    "\n",
    "        for wordIndex, word in enumerate(words):\n",
    "            node = self.trie\n",
    "            for char in word:\n",
    "                if char in node:\n",
    "                    node = node[char]\n",
    "                else:\n",
    "                    newNode = {}\n",
    "                    newNode['#'] = []\n",
    "                    node[char] = newNode\n",
    "                    node = newNode\n",
    "                node['#'].append(wordIndex)\n",
    "\n",
    "    def backtracking(self, step, word_squares, results):\n",
    "        if step == self.N:\n",
    "            results.append(word_squares[:])\n",
    "            return\n",
    "\n",
    "        prefix = ''.join([word[step] for word in word_squares])\n",
    "        for candidate in self.getWordsWithPrefix(prefix):\n",
    "            word_squares.append(candidate)\n",
    "            self.backtracking(step+1, word_squares, results)\n",
    "            word_squares.pop()\n",
    "\n",
    "    def getWordsWithPrefix(self, prefix):\n",
    "        node = self.trie\n",
    "        for char in prefix:\n",
    "            if char not in node:\n",
    "                return []\n",
    "            node = node[char]\n",
    "        return [self.words[wordIndex] for wordIndex in node['#']]"
   ]
  },
  {
   "cell_type": "code",
   "execution_count": null,
   "id": "54c303e4",
   "metadata": {},
   "outputs": [],
   "source": []
  }
 ],
 "metadata": {
  "hide_input": false,
  "kernelspec": {
   "display_name": "Python 3 (ipykernel)",
   "language": "python",
   "name": "python3"
  },
  "language_info": {
   "codemirror_mode": {
    "name": "ipython",
    "version": 3
   },
   "file_extension": ".py",
   "mimetype": "text/x-python",
   "name": "python",
   "nbconvert_exporter": "python",
   "pygments_lexer": "ipython3",
   "version": "3.9.7"
  },
  "toc": {
   "base_numbering": 1,
   "nav_menu": {},
   "number_sections": false,
   "sideBar": true,
   "skip_h1_title": false,
   "title_cell": "Table of Contents",
   "title_sidebar": "Contents",
   "toc_cell": false,
   "toc_position": {},
   "toc_section_display": true,
   "toc_window_display": false
  },
  "varInspector": {
   "cols": {
    "lenName": 16,
    "lenType": 16,
    "lenVar": 40
   },
   "kernels_config": {
    "python": {
     "delete_cmd_postfix": "",
     "delete_cmd_prefix": "del ",
     "library": "var_list.py",
     "varRefreshCmd": "print(var_dic_list())"
    },
    "r": {
     "delete_cmd_postfix": ") ",
     "delete_cmd_prefix": "rm(",
     "library": "var_list.r",
     "varRefreshCmd": "cat(var_dic_list()) "
    }
   },
   "types_to_exclude": [
    "module",
    "function",
    "builtin_function_or_method",
    "instance",
    "_Feature"
   ],
   "window_display": false
  }
 },
 "nbformat": 4,
 "nbformat_minor": 5
}
