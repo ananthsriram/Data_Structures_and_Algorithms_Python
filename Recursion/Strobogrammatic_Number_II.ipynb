{
 "cells": [
  {
   "cell_type": "markdown",
   "id": "b166da11",
   "metadata": {},
   "source": [
    "Given an integer n, return all the strobogrammatic numbers that are of length n. You may return the answer in any order.\n",
    "\n",
    "A strobogrammatic number is a number that looks the same when rotated 180 degrees (looked at upside down)."
   ]
  },
  {
   "cell_type": "markdown",
   "id": "ced0b514",
   "metadata": {},
   "source": [
    "## Example 1:\n",
    "\n",
    "__Input__: n = 2  \n",
    "__Output__: [\"11\",\"69\",\"88\",\"96\"]\n",
    "\n",
    "\n",
    "## Example 2:\n",
    "\n",
    "__Input__: n = 1  \n",
    "__Output__: [\"0\",\"1\",\"8\"]"
   ]
  },
  {
   "cell_type": "code",
   "execution_count": 1,
   "id": "a31961fb",
   "metadata": {
    "ExecuteTime": {
     "end_time": "2022-10-15T14:43:57.965202Z",
     "start_time": "2022-10-15T14:43:57.961229Z"
    }
   },
   "outputs": [],
   "source": [
    "class Solution:\n",
    "    def findStrobogrammatic(self, n):\n",
    "        reversible_pairs = [\n",
    "            ['0', '0'], ['1', '1'], \n",
    "            ['6', '9'], ['8', '8'], ['9', '6']\n",
    "        ]\n",
    "\n",
    "        def generate_strobo_numbers(n, final_length):\n",
    "            if n == 0:\n",
    "                # 0-digit strobogrammatic number is an empty string.\n",
    "                return [\"\"]\n",
    "\n",
    "            if n == 1:\n",
    "                # 1-digit strobogrammatic numbers.\n",
    "                return [\"0\", \"1\", \"8\"]\n",
    "\n",
    "            prev_strobo_nums = generate_strobo_numbers(n - 2, final_length)\n",
    "            curr_strobo_nums = []\n",
    "\n",
    "            for prev_strobo_num in prev_strobo_nums:\n",
    "                for pair in reversible_pairs:\n",
    "                    if pair[0] != '0' or n != final_length:\n",
    "                        curr_strobo_nums.append(pair[0] + prev_strobo_num + pair[1])\n",
    "\n",
    "            return curr_strobo_nums\n",
    "            \n",
    "        return generate_strobo_numbers(n, n)"
   ]
  },
  {
   "cell_type": "code",
   "execution_count": 2,
   "id": "9832adf3",
   "metadata": {
    "ExecuteTime": {
     "end_time": "2022-10-15T14:44:11.606746Z",
     "start_time": "2022-10-15T14:44:11.603239Z"
    }
   },
   "outputs": [],
   "source": [
    "class Solution:\n",
    "    def findStrobogrammatic(self, n):\n",
    "        reversible_pairs = [\n",
    "            ['0', '0'], ['1', '1'], \n",
    "            ['6', '9'], ['8', '8'], ['9', '6']\n",
    "        ]\n",
    "\n",
    "        # When n is even (n % 2 == 0), we start with strings of length 0 and\n",
    "        # when n is odd (n % 2 == 1), we start with strings of length 1.\n",
    "        curr_strings_length = n % 2\n",
    "        \n",
    "        q = [\"0\", \"1\", \"8\"] if curr_strings_length == 1 else [\"\"]\n",
    "        \n",
    "        while curr_strings_length < n:\n",
    "            curr_strings_length += 2\n",
    "            next_level = []\n",
    "            \n",
    "            for number in q:\n",
    "                for pair in reversible_pairs:\n",
    "                    if curr_strings_length != n or pair[0] != '0':\n",
    "                        next_level.append(pair[0] + number + pair[1])\n",
    "            q = next_level\n",
    "            \n",
    "        return q"
   ]
  },
  {
   "cell_type": "code",
   "execution_count": null,
   "id": "9e609b09",
   "metadata": {},
   "outputs": [],
   "source": []
  }
 ],
 "metadata": {
  "hide_input": false,
  "kernelspec": {
   "display_name": "Python 3 (ipykernel)",
   "language": "python",
   "name": "python3"
  },
  "language_info": {
   "codemirror_mode": {
    "name": "ipython",
    "version": 3
   },
   "file_extension": ".py",
   "mimetype": "text/x-python",
   "name": "python",
   "nbconvert_exporter": "python",
   "pygments_lexer": "ipython3",
   "version": "3.9.7"
  },
  "toc": {
   "base_numbering": 1,
   "nav_menu": {},
   "number_sections": false,
   "sideBar": true,
   "skip_h1_title": false,
   "title_cell": "Table of Contents",
   "title_sidebar": "Contents",
   "toc_cell": false,
   "toc_position": {},
   "toc_section_display": true,
   "toc_window_display": false
  },
  "varInspector": {
   "cols": {
    "lenName": 16,
    "lenType": 16,
    "lenVar": 40
   },
   "kernels_config": {
    "python": {
     "delete_cmd_postfix": "",
     "delete_cmd_prefix": "del ",
     "library": "var_list.py",
     "varRefreshCmd": "print(var_dic_list())"
    },
    "r": {
     "delete_cmd_postfix": ") ",
     "delete_cmd_prefix": "rm(",
     "library": "var_list.r",
     "varRefreshCmd": "cat(var_dic_list()) "
    }
   },
   "types_to_exclude": [
    "module",
    "function",
    "builtin_function_or_method",
    "instance",
    "_Feature"
   ],
   "window_display": false
  }
 },
 "nbformat": 4,
 "nbformat_minor": 5
}
